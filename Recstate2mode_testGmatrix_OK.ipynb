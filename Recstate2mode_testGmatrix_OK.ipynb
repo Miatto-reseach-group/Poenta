{
 "cells": [
  {
   "cell_type": "code",
   "execution_count": 1,
   "metadata": {},
   "outputs": [],
   "source": [
    "import numpy as np\n",
    "from recstate2mode import G_matrix,G_matrix2"
   ]
  },
  {
   "cell_type": "code",
   "execution_count": 2,
   "metadata": {},
   "outputs": [],
   "source": [
    "gamma = np.array([0.2,0],dtype = np.complex128)\n",
    "phi = np.array([0,0],dtype = np.complex128)\n",
    "zeta = np.array([0,0],dtype = np.complex128)\n",
    "theta = 0\n",
    "psi = 0\n",
    "theta1 = 0.3\n",
    "psi1 = 0\n",
    "cutoff_dim = 3\n",
    "cutoff_plus = 3"
   ]
  },
  {
   "cell_type": "code",
   "execution_count": 3,
   "metadata": {},
   "outputs": [],
   "source": [
    "G = G_matrix(gamma, phi, theta1, psi1, zeta, theta, psi,cutoff_dim)"
   ]
  },
  {
   "cell_type": "code",
   "execution_count": 4,
   "metadata": {},
   "outputs": [],
   "source": [
    "from thewalrus.fock_gradients import Dgate,Rgate,BSgate,Sgate"
   ]
  },
  {
   "cell_type": "code",
   "execution_count": 5,
   "metadata": {},
   "outputs": [],
   "source": [
    "gate_d1 = Dgate(np.abs(gamma[0]), np.angle(gamma[0]),cutoff_dim+cutoff_plus)[0]\n",
    "gate_d2 = Dgate(np.abs(gamma[1]), np.angle(gamma[1]),cutoff_dim+cutoff_plus)[0]\n",
    "\n",
    "gate_r1 = Rgate(phi[0],cutoff_dim+cutoff_plus)[0]\n",
    "gate_r2 = Rgate(phi[1],cutoff_dim+cutoff_plus)[0]\n",
    "\n",
    "gate_bs1 = BSgate(theta1,psi1,cutoff_dim+cutoff_plus)[0]\n",
    "\n",
    "gate_s1 = Sgate(np.abs(zeta[0]), np.angle(zeta[0]),cutoff_dim+cutoff_plus)[0]\n",
    "gate_s2 = Sgate(np.abs(zeta[1]), np.angle(zeta[1]),cutoff_dim+cutoff_plus)[0]\n",
    "\n",
    "gate_bs2 = BSgate(theta,psi,cutoff_dim+cutoff_plus)[0]"
   ]
  },
  {
   "cell_type": "code",
   "execution_count": 6,
   "metadata": {},
   "outputs": [],
   "source": [
    "# D(gamma)R(phi)BS(theta1,psi1)S(z)BS(theta,psi)\n",
    "#G_real = np.einsum(\"ac,bd,ce,df,egfh,gi,hj,ikjl->akbl\",gate_d1,gate_d2,gate_r1,gate_r2,gate_bs1,gate_s1,gate_s2,gate_bs2)"
   ]
  },
  {
   "cell_type": "code",
   "execution_count": 7,
   "metadata": {},
   "outputs": [],
   "source": [
    "G_real = np.transpose(gate_bs1[:cutoff_dim,:cutoff_dim,:cutoff_dim,:cutoff_dim],(0,2,1,3))"
   ]
  },
  {
   "cell_type": "code",
   "execution_count": 8,
   "metadata": {},
   "outputs": [
    {
     "data": {
      "text/plain": [
       "array([[[[-0.01980133+0.j, -0.        +0.j,  0.        -0.j],\n",
       "         [-0.18728391+0.j,  0.        -0.j,  0.        +0.j],\n",
       "         [ 0.02530299-0.j,  0.        +0.j, -0.        +0.j]],\n",
       "\n",
       "        [[ 0.        +0.j, -0.01891693+0.j,  0.        +0.j],\n",
       "         [-0.00585169+0.j, -0.17891915+0.j,  0.        +0.j],\n",
       "         [-0.07827132+0.j,  0.02417287+0.j,  0.        +0.j]],\n",
       "\n",
       "        [[ 0.        +0.j,  0.        +0.j, -0.01807203+0.j],\n",
       "         [ 0.        +0.j, -0.00790593+0.j, -0.170928  +0.j],\n",
       "         [-0.00172929+0.j, -0.10574845+0.j,  0.02309322+0.j]]],\n",
       "\n",
       "\n",
       "       [[[ 0.19603973+0.j,  0.00585169+0.j,  0.        +0.j],\n",
       "         [-0.05637371+0.j,  0.05534618+0.j,  0.        +0.j],\n",
       "         [-0.2479693 +0.j, -0.00747754+0.j,  0.        +0.j]],\n",
       "\n",
       "        [[ 0.        +0.j,  0.18728391+0.j,  0.00790593+0.j],\n",
       "         [ 0.0579337 +0.j, -0.05212657+0.j,  0.07477545+0.j],\n",
       "         [-0.02356019+0.j, -0.21376336+0.j, -0.01010254+0.j]],\n",
       "\n",
       "        [[ 0.        +0.j,  0.        +0.j,  0.17891915+0.j],\n",
       "         [ 0.        +0.j,  0.07827132+0.j, -0.04814636+0.j],\n",
       "         [ 0.01712058+0.j, -0.03131995+0.j, -0.18211828+0.j]]],\n",
       "\n",
       "\n",
       "       [[[ 0.02772421+0.j, -0.08193063+0.j, -0.00172929+0.j],\n",
       "         [ 0.25956226+0.j,  0.02356019+0.j, -0.01635591+0.j],\n",
       "         [-0.08892402+0.j,  0.10363348+0.j,  0.00220977+0.j]],\n",
       "\n",
       "        [[ 0.        +0.j,  0.02648594+0.j, -0.11069236+0.j],\n",
       "         [ 0.00819306+0.j,  0.22375714+0.j,  0.03131995+0.j],\n",
       "         [ 0.10847851+0.j, -0.07510588+0.j,  0.13317839+0.j]],\n",
       "\n",
       "        [[ 0.        +0.j,  0.        +0.j,  0.02530299+0.j],\n",
       "         [ 0.        +0.j,  0.01106924+0.j,  0.19063261+0.j],\n",
       "         [ 0.00242122+0.j,  0.13940469+0.j, -0.06249571+0.j]]]])"
      ]
     },
     "execution_count": 8,
     "metadata": {},
     "output_type": "execute_result"
    }
   ],
   "source": [
    "G-G_real"
   ]
  },
  {
   "cell_type": "code",
   "execution_count": null,
   "metadata": {},
   "outputs": [],
   "source": []
  },
  {
   "cell_type": "code",
   "execution_count": null,
   "metadata": {},
   "outputs": [],
   "source": []
  }
 ],
 "metadata": {
  "kernelspec": {
   "display_name": "thewalrusker",
   "language": "python",
   "name": "thewalrusker"
  },
  "language_info": {
   "codemirror_mode": {
    "name": "ipython",
    "version": 3
   },
   "file_extension": ".py",
   "mimetype": "text/x-python",
   "name": "python",
   "nbconvert_exporter": "python",
   "pygments_lexer": "ipython3",
   "version": "3.6.9"
  }
 },
 "nbformat": 4,
 "nbformat_minor": 2
}
