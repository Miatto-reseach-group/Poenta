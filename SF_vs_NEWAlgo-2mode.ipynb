{
 "cells": [
  {
   "cell_type": "code",
   "execution_count": 1,
   "metadata": {},
   "outputs": [],
   "source": [
    "import numpy as np\n",
    "import tensorflow as tf\n",
    "import strawberryfields as sf"
   ]
  },
  {
   "cell_type": "code",
   "execution_count": 2,
   "metadata": {},
   "outputs": [
    {
     "data": {
      "text/plain": [
       "'0.15.1'"
      ]
     },
     "execution_count": 2,
     "metadata": {},
     "output_type": "execute_result"
    }
   ],
   "source": [
    "sf.__version__"
   ]
  },
  {
   "cell_type": "code",
   "execution_count": 3,
   "metadata": {},
   "outputs": [],
   "source": [
    "def test_sf(cutoff_dim):\n",
    "    eng = sf.Engine('fock', backend_options={'cutoff_dim':cutoff_dim})\n",
    "\n",
    "    gamma1 = np.random.normal(scale=0.01) + 1j*np.random.normal(scale=0.01)\n",
    "    gamma2 = np.random.normal(scale=0.01) + 1j*np.random.normal(scale=0.01)\n",
    "    phi1 = np.random.normal(scale=0.01)\n",
    "    phi2 = np.random.normal(scale=0.01)\n",
    "    theta1 = np.random.normal(scale=0.01)\n",
    "    varphi1 = np.random.normal(scale=0.01)\n",
    "    zeta1 = np.random.normal(scale=0.01) + 1j*np.random.normal(scale=0.01)\n",
    "    zeta2 = np.random.normal(scale=0.01) + 1j*np.random.normal(scale=0.01)\n",
    "    theta = np.random.normal(scale=0.01)\n",
    "    varphi = np.random.normal(scale=0.01)\n",
    "    \n",
    "    prog = sf.Program(2)\n",
    "    gamma1r = np.abs(gamma1)\n",
    "    gamma1phi = np.angle(gamma1)\n",
    "    gamma2r = np.abs(gamma2)\n",
    "    gamma2phi = np.angle(gamma2)\n",
    "    with prog.context as mode:\n",
    "        sf.ops.Dgate(gamma1r,phi=gamma1phi) | mode[0]\n",
    "        sf.ops.Dgate(gamma2r,phi=gamma2phi) | mode[1]\n",
    "        sf.ops.Rgate(phi1) | mode[0]\n",
    "        sf.ops.Rgate(phi2) | mode[1]\n",
    "        sf.ops.BSgate(theta1,varphi1) | mode\n",
    "        sf.ops.Sgate(zeta1) | mode[0]\n",
    "        sf.ops.Sgate(zeta2) | mode[1]\n",
    "        sf.ops.BSgate(theta,varphi) | mode\n",
    "    state_out = eng.run(prog).state.ket()\n",
    "    \n",
    "    return state_out"
   ]
  },
  {
   "cell_type": "code",
   "execution_count": 4,
   "metadata": {},
   "outputs": [],
   "source": [
    "import numpy as np\n",
    "from numba import jit\n",
    "\n",
    "@jit(nopython=True) #np.dot does not work with numba\n",
    "def C_mu_Sigma(gamma1, gamma2, phi1, phi2, theta1, varphi1, zeta1, zeta2, theta, varphi):\n",
    "    \"\"\"\n",
    "    Utility function to construct:\n",
    "    1. C constant\n",
    "    2. Mu vector\n",
    "    3. Sigma matrix\n",
    "\n",
    "    Arguments:\n",
    "        gamma1 (complex): displacement parameter1\n",
    "        gamma2 (complex): displacement parameter2\n",
    "        phi1 (float): phase rotation parameter1\n",
    "        phi2 (float): phase rotation parameter2\n",
    "        \n",
    "        theta1(float): transmissivity angle of the beamsplitter1\n",
    "        varphi1(float): reflection phase of the beamsplitter1\n",
    "        \n",
    "        zeta1 (complex): squeezing parameter1\n",
    "        zeta2 (complex): squeezing parameter2\n",
    "        \n",
    "        theta(float): transmissivity angle of the beamsplitter\n",
    "        varphi(float): reflection phase of the beamsplitter\n",
    "\n",
    "    Returns:\n",
    "        C (complex), mu (complex array[4]), Sigma (complex array[4,4])\n",
    "    \"\"\"\n",
    "    \n",
    "    gamma1c = np.conj(gamma1)\n",
    "    gamma2c = np.conj(gamma2)\n",
    "    r1 = np.abs(zeta1)\n",
    "    r2 = np.abs(zeta2)\n",
    "    delta1 = np.angle(zeta1)\n",
    "    delta2 = np.angle(zeta2)\n",
    "    \n",
    "    e_iphi1 = np.exp(1j*phi1)\n",
    "    e_iphi2 = np.exp(1j*phi2)\n",
    "    e_iphi12 = np.exp(1j*(phi1+phi2))\n",
    "    e_ivarphi1 = np.exp(1j*varphi1)\n",
    "    e_ivarphi = np.exp(1j*varphi)\n",
    "    e_idelta1 = np.exp(1j*delta1)\n",
    "    e_idelta2 = np.exp(1j*delta2)\n",
    "    \n",
    "    cos_theta1 = np.cos(theta1)\n",
    "    sin_theta1 = np.sin(theta1)\n",
    "    cos_theta = np.cos(theta)\n",
    "    sin_theta = np.sin(theta)\n",
    "    tanh_r1 = np.tanh(r1)\n",
    "    tanh_r2 = np.tanh(r2)\n",
    "    cosh_r1 = np.cosh(r1)\n",
    "    cosh_r2 = np.cosh(r2)\n",
    "    \n",
    "    T1 = np.exp(1j*delta1)*np.tanh(r1)\n",
    "    T2 = np.exp(1j*delta2)*np.tanh(r2)\n",
    "    T1minus = np.exp(-1j*delta1)*np.tanh(r1)\n",
    "    T2minus = np.exp(-1j*delta2)*np.tanh(r2)\n",
    "\n",
    "    W = np.array([[e_iphi1*cos_theta1 , -e_iphi1/e_ivarphi1*sin_theta1],[e_iphi2*e_ivarphi1*sin_theta1, e_iphi2*cos_theta1]] ,dtype = np.complex128)\n",
    "    V = np.array([[cos_theta , -1/e_ivarphi*sin_theta],[e_ivarphi*sin_theta, cos_theta]],dtype = np.complex128)\n",
    "\n",
    "    WdiagWT = np.array([[e_idelta1*e_iphi1**2*cos_theta1**2*tanh_r1 + e_idelta2*e_iphi1**2/e_ivarphi1**2*sin_theta1**2*tanh_r2, e_idelta1*e_iphi12*e_ivarphi1*cos_theta1*sin_theta1*tanh_r1 - e_idelta2*e_iphi12/e_ivarphi1*cos_theta1*sin_theta1*tanh_r2],[ e_idelta1*e_iphi12*e_ivarphi1*cos_theta1*sin_theta1*tanh_r1 - e_idelta2*e_iphi12/e_ivarphi1*cos_theta1*sin_theta1*tanh_r2, e_idelta1*e_iphi2**2*e_ivarphi1**2*sin_theta1**2*tanh_r1+e_idelta2*e_iphi2**2*cos_theta1**2*tanh_r2]],dtype = np.complex128)\n",
    "    \n",
    "    WdiagsV = np.array([[ e_iphi1*cos_theta1*cos_theta/cosh_r1 - e_iphi1*e_ivarphi/e_ivarphi1*sin_theta*sin_theta1/cosh_r2 ,  -e_iphi1/e_ivarphi*cos_theta1*sin_theta/cosh_r1 - e_iphi1/e_ivarphi1*cos_theta*sin_theta1/cosh_r2],[e_iphi2*e_ivarphi*cos_theta1*sin_theta/cosh_r2 + e_iphi2*e_ivarphi1*cos_theta*sin_theta1/cosh_r1     ,  e_iphi2*cos_theta1*cos_theta/cosh_r2 - e_iphi2*e_ivarphi1/e_ivarphi*sin_theta*sin_theta1/cosh_r1   ]],dtype = np.complex128)\n",
    "    \n",
    "    VTdiagminusV = np.array([[1/e_idelta1*cos_theta**2*tanh_r1 + 1/e_idelta2*e_ivarphi**2*sin_theta**2*tanh_r2, -1/e_idelta1/e_ivarphi*cos_theta*sin_theta*tanh_r1 + 1/e_idelta2*e_ivarphi*sin_theta*cos_theta*tanh_r2],[ -1/e_idelta1/e_ivarphi*cos_theta*sin_theta*tanh_r1 + 1/e_idelta2*e_ivarphi*sin_theta*cos_theta*tanh_r2, 1/e_idelta1/e_ivarphi**2*sin_theta**2*tanh_r1 + 1/e_idelta2*cos_theta**2*tanh_r2]],dtype = np.complex128)\n",
    " \n",
    "    Cpart2 = (gamma1c*WdiagWT[0,0] + gamma2c * WdiagWT[1,0]) * gamma1c + (gamma1c*WdiagWT[0,1] + gamma2c * WdiagWT[1,1]) * gamma2c\n",
    "    C = np.exp(-0.5*(np.abs(gamma1)**2+np.abs(gamma2)**2 +Cpart2))/ np.sqrt(cosh_r1*cosh_r2)\n",
    "    \n",
    "    mu = np.zeros(4, dtype = np.complex128)\n",
    "    \n",
    "    mu[0] = gamma1c* WdiagWT[0,0] + gamma2c*WdiagWT[1,0] + gamma1\n",
    "    mu[1] = gamma1c* WdiagWT[0,1] + gamma2c*WdiagWT[1,1] + gamma2\n",
    "    mu[2] = -(gamma1c* WdiagsV[0,0] + gamma2c*WdiagsV[1,0])\n",
    "    mu[3] = -(gamma1c* WdiagsV[0,1] + gamma2c*WdiagsV[1,1])\n",
    "\n",
    "    W1 = WdiagWT\n",
    "    W2 = -WdiagsV\n",
    "    W3 = np.transpose(W2)\n",
    "    W4 = -VTdiagminusV\n",
    "    Sigma = np.concatenate((np.concatenate( (W1,W2) ,axis=1),np.concatenate((W3, W4),axis=1))) \n",
    "    \n",
    "    return C, mu, Sigma\n",
    "\n",
    "@jit(nopython=True)\n",
    "def R_matrix(gamma1, gamma2, phi1, phi2, theta1, varphi1, zeta1, zeta2, theta, varphi, Psi):\n",
    "    \"\"\"\n",
    "    Directly constructs the transformed state recursively and exactly.\n",
    "\n",
    "    Arguments:\n",
    "        gamma1 (complex): displacement parameter1\n",
    "        gamma2 (complex): displacement parameter2\n",
    "        phi1 (float): phase rotation parameter1\n",
    "        phi2 (float): phase rotation parameter2\n",
    "        \n",
    "        theta1(float): transmissivity angle of the beamsplitter1\n",
    "        varphi1(float): reflection phase of the beamsplitter1\n",
    "        \n",
    "        zeta1 (complex): squeezing parameter1\n",
    "        zeta2 (complex): squeezing parameter2\n",
    "        \n",
    "        theta(float): transmissivity angle of the beamsplitter\n",
    "        varphi(float): reflection phase of the beamsplitter\n",
    "        \n",
    "        Psi(np.array(complex)): State to be transformed\n",
    "\n",
    "    Returns:\n",
    "        R (complex array[D,D,D,D]): the matrix where R[:,:,0,0] is the transformed state \n",
    "    \"\"\"\n",
    "    C, mu ,Sigma = C_mu_Sigma(gamma1, gamma2, phi1, phi2, theta1, varphi1, zeta1, zeta2, theta, varphi)\n",
    "\n",
    "    cutoff = Psi.shape[0]\n",
    "    dtype = Psi.dtype\n",
    "\n",
    "    sqrt = np.sqrt(np.arange(cutoff, dtype = np.complex128))\n",
    "    sqrtT = sqrt.reshape(-1, 1)\n",
    "\n",
    "\n",
    "    R = np.zeros((cutoff, cutoff, cutoff+1, cutoff+1), dtype = np.complex128)\n",
    "    G_00pq = np.zeros((cutoff, cutoff), dtype = np.complex128)\n",
    "    \n",
    "    \n",
    "    #G_mn00\n",
    "    G_00pq[0,0] = C\n",
    "    for q in range(1, cutoff):\n",
    "        G_00pq[0,q] = (mu[3]*G_00pq[0,q-1] - Sigma[3,3]*sqrt[q-1]*G_00pq[0,q-2])/sqrt[q]\n",
    "\n",
    "\n",
    "    for p in range(1,cutoff):\n",
    "        for q in range(0,cutoff):\n",
    "            G_00pq[p,q] = (mu[2]*G_00pq[p-1,q] - Sigma[2,2]*sqrt[p-1]*G_00pq[p-2,q] - Sigma[2,3]*sqrt[q]*G_00pq[p-1,q-1])/sqrt[p]\n",
    "                    \n",
    "    # R_00^jk = a_dagger^j \\G_00pq> b^k  * |old_state>\n",
    "\n",
    "#     for j in range(cutoff):\n",
    "#         for k in range(cutoff):\n",
    "#             G_00pq2 = G_00pq\n",
    "#             for i in range(k):\n",
    "#                 G_00pq2 = G_00pq2[:,:-1]*sqrt[i+1:]\n",
    "#             for i in range(j):\n",
    "#                 #G_00pq2 = sqrt[i+1:,None]*G_00pq2[:-1,:] sqrt[i+1:,None]doesnt work with numba\n",
    "#                 G_00pq2 = sqrtT[i+1:]*G_00pq2[:-1,:]\n",
    "#             R[0,0,j,k] = np.sum(G_00pq2*Psi[j:,k:])\n",
    "\n",
    "    G_00pq2 = G_00pq\n",
    "    for j in range(cutoff):\n",
    "        G_00pq3 = G_00pq2\n",
    "        for k in range(cutoff):\n",
    "            R[0,0,j,k] = np.sum(G_00pq3*Psi[j:,k:])\n",
    "            G_00pq3 = G_00pq3[:,:-1]*sqrt[k+1:]\n",
    "        G_00pq2 = sqrtT[j+1:]*G_00pq2[:-1,:]\n",
    "\n",
    "\n",
    "    #R_0n^jk\n",
    "    for n in range(1,cutoff):\n",
    "        for k in range(0,cutoff): \n",
    "            for j in range(0,cutoff):\n",
    "                R[0,n,j,k] = mu[1]/sqrt[n]*R[0,n-1,j,k] - Sigma[1,1]/sqrt[n]*sqrt[n-1]*R[0,n-2,j,k] - Sigma[1,2]/sqrt[n]*R[0,n-1,j+1,k] - Sigma[1,3]/sqrt[n]*R[0,n-1,j,k+1]\n",
    "\n",
    "\n",
    "    for m in range(1,cutoff):\n",
    "        for n in range(0,cutoff):\n",
    "            for j in range(0,cutoff-m):\n",
    "                for k in range(0,cutoff-m-j):\n",
    "                    R[m,n,j,k] = mu[0]/sqrt[m]*R[m-1,n,j,k] - Sigma[0,0]/sqrt[m]*sqrt[m-1]*R[m-2,n,j,k] - Sigma[0,1]*sqrt[n]/sqrt[m]*R[m-1,n-1,j,k] - Sigma[0,2]/sqrt[m]*R[m-1,n,j+1,k] - Sigma[0,3]/sqrt[m]*R[m-1,n,j,k+1]\n",
    "\n",
    "\n",
    "                    \n",
    "    return R\n",
    "@jit(nopython=True)\n",
    "def G_matrix(gamma1, gamma2, phi1, phi2, theta1, varphi1, zeta1, zeta2, theta, varphi, cutoff):\n",
    "    \"\"\"\n",
    "    Directly constructs the transformation G matrix recursively and exactly.\n",
    "\n",
    "    Arguments:\n",
    "        gamma1 (complex): displacement parameter1\n",
    "        gamma2 (complex): displacement parameter2\n",
    "        phi1 (float): phase rotation parameter1\n",
    "        phi2 (float): phase rotation parameter2\n",
    "        \n",
    "        theta1(float): transmissivity angle of the beamsplitter1\n",
    "        varphi1(float): reflection phase of the beamsplitter1\n",
    "        \n",
    "        zeta1 (complex): squeezing parameter1\n",
    "        zeta2 (complex): squeezing parameter2\n",
    "        \n",
    "        theta(float): transmissivity angle of the beamsplitter\n",
    "        varphi(float): reflection phase of the beamsplitter\n",
    "\n",
    "    Returns:\n",
    "        (np.array(complex)): the transformation matrix G\n",
    "    \"\"\"\n",
    "    \n",
    "    C, mu ,Sigma = C_mu_Sigma(gamma1, gamma2, phi1, phi2, theta1, varphi1, zeta1, zeta2, theta, varphi)\n",
    "    \n",
    "    sqrt = np.sqrt(np.arange(cutoff))\n",
    "\n",
    "    G = np.zeros((cutoff, cutoff, cutoff, cutoff),dtype = np.complex128)\n",
    "    \n",
    "    G[0,0,0,0] = C\n",
    "    \n",
    "\n",
    "    for q in range(1, cutoff):\n",
    "        G[0,0,0,q] = mu[3]/sqrt[q]*G[0,0,0,q-1] - Sigma[3,3]*sqrt[q-1]/sqrt[q]*G[0,0,0,q-2]\n",
    "\n",
    "\n",
    "    for q in range(0,cutoff):\n",
    "        for p in range(1,cutoff):\n",
    "            G[0,0,p,q] = mu[2]/sqrt[p]*G[0,0,p-1,q] - Sigma[2,2]*sqrt[p-1]/sqrt[p]*G[0,0,p-2,q] - Sigma[2,3]*sqrt[q]/sqrt[p]*G[0,0,p-1,q-1]\n",
    "\n",
    "    for q in range(0,cutoff):\n",
    "        for p in range(0,cutoff):\n",
    "            for n in range(1,cutoff):\n",
    "                G[0,n,p,q] = mu[1]/sqrt[n]*G[0,n-1,p,q] - Sigma[1,1]/sqrt[n]*sqrt[n-1]*G[0,n-2,p,q] - Sigma[1,2]/sqrt[n]*sqrt[p]*G[0,n-1,p-1,q] - Sigma[1,3]/sqrt[n]*sqrt[q]*G[0,n-1,p,q-1]\n",
    "                \n",
    "\n",
    "    for q in range(0,cutoff):\n",
    "        for p in range(0,cutoff):\n",
    "            for n in range(0,cutoff):\n",
    "                for m in range(1,cutoff):\n",
    "                    G[m,n,p,q] = mu[0]/sqrt[m]*G[m-1,n,p,q] - Sigma[0,0]/sqrt[m]*sqrt[m-1]*G[m-2,n,p,q] - Sigma[0,1]*sqrt[n]/sqrt[m]*G[m-1,n-1,p,q] - Sigma[0,2]*sqrt[p]/sqrt[m]*G[m-1,n,p-1,q] - Sigma[0,3]*sqrt[q]/sqrt[m]*G[m-1,n,p,q-1]\n",
    "                    \n",
    "    return G"
   ]
  },
  {
   "cell_type": "code",
   "execution_count": 5,
   "metadata": {},
   "outputs": [],
   "source": [
    "def test_2mode(cutoff_dim):\n",
    "    gamma1 = np.random.normal(scale=0.01) + 1j*np.random.normal(scale=0.01)\n",
    "    gamma2 = np.random.normal(scale=0.01) + 1j*np.random.normal(scale=0.01)\n",
    "    phi1 = np.random.normal(scale=0.01)\n",
    "    phi2 = np.random.normal(scale=0.01)\n",
    "    theta1 = np.random.normal(scale=0.01)\n",
    "    varphi1 = np.random.normal(scale=0.01)\n",
    "    zeta1 = np.random.normal(scale=0.01) + 1j*np.random.normal(scale=0.01)\n",
    "    zeta2 = np.random.normal(scale=0.01) + 1j*np.random.normal(scale=0.01)\n",
    "    theta = np.random.normal(scale=0.01)\n",
    "    varphi = np.random.normal(scale=0.01)\n",
    "    Psi = np.zeros((cutoff_dim,cutoff_dim))\n",
    "    Psi[0,0] = 1  #vaccum\n",
    "    state_out = R_matrix(gamma1, gamma2, phi1, phi2, theta1, varphi1, zeta1, zeta2, theta, varphi, Psi)[:,:,0,0]\n",
    "    return state_out"
   ]
  },
  {
   "cell_type": "code",
   "execution_count": 6,
   "metadata": {},
   "outputs": [],
   "source": [
    "# import tensorflow as tf\n",
    "# def test_2mode2(cutoff_dim):\n",
    "#     gamma1 = np.random.normal(scale=0.01) + 1j*np.random.normal(scale=0.01)\n",
    "#     gamma2 = np.random.normal(scale=0.01) + 1j*np.random.normal(scale=0.01)\n",
    "#     phi1 = np.random.normal(scale=0.01)\n",
    "#     phi2 = np.random.normal(scale=0.01)\n",
    "#     theta1 = np.random.normal(scale=0.01)\n",
    "#     varphi1 = np.random.normal(scale=0.01)\n",
    "#     zeta1 = np.random.normal(scale=0.01) + 1j*np.random.normal(scale=0.01)\n",
    "#     zeta2 = np.random.normal(scale=0.01) + 1j*np.random.normal(scale=0.01)\n",
    "#     theta = np.random.normal(scale=0.01)\n",
    "#     varphi = np.random.normal(scale=0.01)\n",
    "#     Psi = np.zeros((cutoff_dim,cutoff_dim))\n",
    "#     Psi[0,0] = 1  #vaccum\n",
    "#     G = G_matrix(gamma1, gamma2, phi1, phi2, theta1, varphi1, zeta1, zeta2, theta, varphi, cutoff_dim)\n",
    "#     return tf.einsum(\"abcd,cd->ab\",G,Psi)"
   ]
  },
  {
   "cell_type": "code",
   "execution_count": 7,
   "metadata": {},
   "outputs": [],
   "source": [
    "x = [5,10,15,20,25,30,35,40]"
   ]
  },
  {
   "cell_type": "code",
   "execution_count": 26,
   "metadata": {},
   "outputs": [
    {
     "name": "stdout",
     "output_type": "stream",
     "text": [
      "6.59 ms ± 1.07 ms per loop (mean ± std. dev. of 7 runs, 100 loops each)\n",
      "4.66 ms ± 447 µs per loop (mean ± std. dev. of 7 runs, 100 loops each)\n",
      "5.42 ms ± 240 µs per loop (mean ± std. dev. of 7 runs, 100 loops each)\n",
      "9.43 ms ± 1.42 ms per loop (mean ± std. dev. of 7 runs, 100 loops each)\n",
      "34.7 ms ± 8.34 ms per loop (mean ± std. dev. of 7 runs, 10 loops each)\n",
      "62.6 ms ± 10.7 ms per loop (mean ± std. dev. of 7 runs, 10 loops each)\n",
      "162 ms ± 37.5 ms per loop (mean ± std. dev. of 7 runs, 1 loop each)\n",
      "230 ms ± 31.8 ms per loop (mean ± std. dev. of 7 runs, 10 loops each)\n"
     ]
    }
   ],
   "source": [
    "time_list_sf = []\n",
    "for cutoff_dim in x:\n",
    "    t = %timeit -o test_sf(cutoff_dim)\n",
    "    time_list_sf.append(t.average)"
   ]
  },
  {
   "cell_type": "code",
   "execution_count": 30,
   "metadata": {},
   "outputs": [
    {
     "name": "stdout",
     "output_type": "stream",
     "text": [
      "702 µs ± 134 µs per loop (mean ± std. dev. of 7 runs, 1000 loops each)\n",
      "1.07 ms ± 224 µs per loop (mean ± std. dev. of 7 runs, 1000 loops each)\n",
      "2.63 ms ± 617 µs per loop (mean ± std. dev. of 7 runs, 100 loops each)\n",
      "4.65 ms ± 502 µs per loop (mean ± std. dev. of 7 runs, 100 loops each)\n",
      "11.6 ms ± 1.84 ms per loop (mean ± std. dev. of 7 runs, 100 loops each)\n",
      "26.6 ms ± 7.09 ms per loop (mean ± std. dev. of 7 runs, 10 loops each)\n",
      "47.4 ms ± 7.77 ms per loop (mean ± std. dev. of 7 runs, 10 loops each)\n",
      "92 ms ± 49.6 ms per loop (mean ± std. dev. of 7 runs, 10 loops each)\n"
     ]
    }
   ],
   "source": [
    "time_list_2mode = []\n",
    "for cutoff_dim in x:\n",
    "    t = %timeit -o test_2mode(cutoff_dim)\n",
    "    time_list_2mode.append(t.average)"
   ]
  },
  {
   "cell_type": "code",
   "execution_count": 32,
   "metadata": {},
   "outputs": [
    {
     "data": {
      "text/plain": [
       "<matplotlib.legend.Legend at 0x7f881c3c49b0>"
      ]
     },
     "execution_count": 32,
     "metadata": {},
     "output_type": "execute_result"
    },
    {
     "data": {
      "image/png": "[encoded data removed]",
      "text/plain": [
       "<Figure size 432x288 with 1 Axes>"
      ]
     },
     "metadata": {
      "needs_background": "light"
     },
     "output_type": "display_data"
    }
   ],
   "source": [
    "from matplotlib import pyplot as plt\n",
    "plt1 = plt.plot(x,time_list_sf,'r');\n",
    "plt2 = plt.plot(x,time_list_2mode,'b');\n",
    "# plt3 = plt.plot(x,time_list_2mode2,'y');\n",
    "plt.yscale('log')\n",
    "plt.grid(True)\n",
    "plt.legend((plt1[0],plt2[0]),(\"Strawberryfields 0.15.1\",\"New Algorithm\"))"
   ]
  },
  {
   "cell_type": "code",
   "execution_count": 33,
   "metadata": {},
   "outputs": [
    {
     "data": {
      "text/plain": [
       "[0.006592189162869805,\n",
       " 0.004658711324113288,\n",
       " 0.005422424842836336,\n",
       " 0.009429167864478326,\n",
       " 0.034669376583769916,\n",
       " 0.06256964079969164,\n",
       " 0.16224418069967733,\n",
       " 0.22983183615974018]"
      ]
     },
     "execution_count": 33,
     "metadata": {},
     "output_type": "execute_result"
    }
   ],
   "source": [
    "time_list_sf"
   ]
  },
  {
   "cell_type": "code",
   "execution_count": 34,
   "metadata": {},
   "outputs": [
    {
     "data": {
      "text/plain": [
       "[0.000702231158419246,\n",
       " 0.0010727164014242589,\n",
       " 0.002629011636932514,\n",
       " 0.00465227207983844,\n",
       " 0.01159862957279464,\n",
       " 0.026579526687107446,\n",
       " 0.04742528981628961,\n",
       " 0.09203712465906781]"
      ]
     },
     "execution_count": 34,
     "metadata": {},
     "output_type": "execute_result"
    }
   ],
   "source": [
    "time_list_2mode"
   ]
  },
  {
   "cell_type": "code",
   "execution_count": null,
   "metadata": {},
   "outputs": [],
   "source": []
  },
  {
   "cell_type": "code",
   "execution_count": null,
   "metadata": {},
   "outputs": [],
   "source": []
  }
 ],
 "metadata": {
  "kernelspec": {
   "display_name": "new_sf",
   "language": "python",
   "name": "new_sf"
  },
  "language_info": {
   "codemirror_mode": {
    "name": "ipython",
    "version": 3
   },
   "file_extension": ".py",
   "mimetype": "text/x-python",
   "name": "python",
   "nbconvert_exporter": "python",
   "pygments_lexer": "ipython3",
   "version": "3.6.9"
  }
 },
 "nbformat": 4,
 "nbformat_minor": 2
}
