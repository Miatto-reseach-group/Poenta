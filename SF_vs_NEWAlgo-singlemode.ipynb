{
 "cells": [
  {
   "cell_type": "code",
   "execution_count": 1,
   "metadata": {},
   "outputs": [],
   "source": [
    "import numpy as np\n",
    "import tensorflow as tf\n",
    "import strawberryfields as sf\n",
    "from numba import njit"
   ]
  },
  {
   "cell_type": "code",
   "execution_count": 2,
   "metadata": {},
   "outputs": [
    {
     "data": {
      "text/plain": [
       "'0.17.0'"
      ]
     },
     "execution_count": 2,
     "metadata": {},
     "output_type": "execute_result"
    }
   ],
   "source": [
    "sf.__version__"
   ]
  },
  {
   "cell_type": "code",
   "execution_count": 3,
   "metadata": {},
   "outputs": [],
   "source": [
    "def test_sf(cutoff_dim):\n",
    "    eng = sf.Engine('fock', backend_options={'cutoff_dim':cutoff_dim})\n",
    "\n",
    "    gamma1 = np.random.normal(scale=0.01) + 1j*np.random.normal(scale=0.01)\n",
    "    phi1 = np.random.normal(scale=0.01)\n",
    "    zeta1 = np.random.normal(scale=0.01) + 1j*np.random.normal(scale=0.01)\n",
    "\n",
    "    \n",
    "    prog = sf.Program(1)\n",
    "    gamma1r = np.abs(gamma1)\n",
    "    gamma1phi = np.angle(gamma1)\n",
    "\n",
    "    with prog.context as mode:\n",
    "        sf.ops.Dgate(gamma1r,phi=gamma1phi) | mode[0]\n",
    "        sf.ops.Rgate(phi1) | mode[0]\n",
    "        sf.ops.Sgate(zeta1) | mode[0]\n",
    "    state_out = eng.run(prog).state.ket()\n",
    "    \n",
    "    return state_out"
   ]
  },
  {
   "cell_type": "code",
   "execution_count": 4,
   "metadata": {},
   "outputs": [],
   "source": [
    "import numpy as np\n",
    "from numba import jit\n",
    "\n",
    "@njit  # (nb.types.Tuple((nb.complex128, nb.complex128[:], nb.complex128[:,:]))(nb.complex128, nb.float64, nb.complex128))\n",
    "def C_mu_Sigma(gamma: np.complex, phi: np.float, z: np.complex) -> tuple:\n",
    "    \"\"\"\n",
    "    Utility function to construct:\n",
    "    1. C constant\n",
    "    2. Mu vector\n",
    "    3. Sigma matrix\n",
    "    Arguments:\n",
    "        gamma (complex): displacement parameter\n",
    "        phi (float): phase rotation parameter\n",
    "        z (complex): squeezing parameter\n",
    "        dtype (numpy type): unused for now\n",
    "    Returns:\n",
    "        C (complex), mu (complex array[2]), Sigma (complex array[2,2])\n",
    "    \"\"\"\n",
    "#     z = convert_scalar(z)\n",
    "#     phi = convert_scalar(phi)\n",
    "#     gamma = convert_scalar(gamma)\n",
    "    r = np.abs(z)\n",
    "    delta = np.angle(z)\n",
    "    exp2phidelta = np.exp(1j * (2 * phi + delta))\n",
    "    eiphi = np.exp(1j * phi)\n",
    "    tanhr = np.tanh(r)\n",
    "    coshr = np.cosh(r)\n",
    "    cgamma = np.conj(gamma)\n",
    "\n",
    "    C = np.exp(-0.5 * np.abs(gamma) ** 2 - 0.5 * cgamma ** 2 * exp2phidelta * tanhr) / np.sqrt(coshr)\n",
    "    mu = np.array([cgamma * exp2phidelta * tanhr + gamma, -cgamma * eiphi / coshr,])\n",
    "    Sigma = np.array([[exp2phidelta * tanhr, -eiphi / coshr], [-eiphi / coshr, -np.exp(-1j * delta) * tanhr],])\n",
    "\n",
    "    return C, mu, Sigma\n",
    "\n",
    "\n",
    "@njit\n",
    "def R_matrix(gamma: np.complex, phi: np.float, z: np.complex, cutoff: int, old_state: np.array) -> np.array:\n",
    "    \"\"\"\n",
    "    Directly constructs the transformed state recursively and exactly.\n",
    "\n",
    "    Arguments:\n",
    "        gamma (complex): displacement parameter\n",
    "        phi (float): phase rotation parameter\n",
    "        z (complex): squeezing parameter\n",
    "        old_state (complex array[D]): State to be transformed\n",
    "\n",
    "    Returns:\n",
    "        R (complex array[D,D]): the matrix whose 1st column is the transformed state\n",
    "    \"\"\"\n",
    "\n",
    "    dtype = old_state.dtype\n",
    "    C, mu, Sigma = C_mu_Sigma(gamma, phi, z)\n",
    "\n",
    "    sqrt = np.sqrt(np.arange(cutoff, dtype=dtype))\n",
    "\n",
    "    R = np.zeros((cutoff, cutoff), dtype=dtype)\n",
    "    G0 = np.zeros(cutoff, dtype=dtype)\n",
    "\n",
    "    # first row of Transformation matrix\n",
    "    G0[0] = C\n",
    "    for n in range(1, cutoff):\n",
    "        G0[n] = mu[1] / sqrt[n] * G0[n - 1] - Sigma[1, 1] * sqrt[n - 1] / sqrt[n] * G0[n - 2]\n",
    "\n",
    "    # first row of R matrix\n",
    "    for n in range(cutoff):\n",
    "        R[0, n] = np.dot(G0[: cutoff - n], old_state)\n",
    "        old_state = old_state[1:] * sqrt[1 : cutoff - n]\n",
    "\n",
    "    # rest of R matrix\n",
    "    for m in range(1, cutoff):\n",
    "        for n in range(cutoff - m):\n",
    "            R[m, n] = (\n",
    "                mu[0] / sqrt[m] * R[m - 1, n]\n",
    "                - Sigma[0, 0] * sqrt[m - 1] / sqrt[m] * R[m - 2, n]\n",
    "                - Sigma[0, 1] / sqrt[m] * R[m - 1, n + 1]\n",
    "            )\n",
    "\n",
    "    return R\n",
    "\n",
    "@jit(nopython=True)\n",
    "def G_matrix(phiR, w, z, cutoff, dtype=np.complex128):\n",
    "    \"\"\"Calculates the Fock representation of the single-mode Gaussian gate parametrized\n",
    "    as the product of the three gates R(phi)D(w)S(z).\n",
    "    Args:\n",
    "        phiR (float): angle of the phase rotation gate\n",
    "        w (complex): displacement parameter\n",
    "        z (complex): squeezing parameter\n",
    "        cutoff (int): Fock ladder cutoff\n",
    "        dtype (data type): Specifies the data type used for the calculation\n",
    "    Returns:\n",
    "        array[complex]: The Fock representation of the gate\n",
    "    \"\"\"\n",
    "\n",
    "    rS = np.abs(z)\n",
    "    phiS = np.angle(z)\n",
    "    EZ = np.exp(1j*phiS)\n",
    "    T = np.tanh(rS)\n",
    "    S = 1/np.cosh(rS)\n",
    "    ER = np.exp(1j*phiR)\n",
    "    wc = np.conj(w)\n",
    "\n",
    "    # 2nd derivatives of G\n",
    "    R = np.array([\n",
    "        [-T*EZ*ER**2, ER*S],\n",
    "        [ER*S, T*np.conj(EZ)]\n",
    "    ])\n",
    "\n",
    "    # 1st derivatives of G\n",
    "    y = np.array([ER*(w + T*EZ*wc), -wc*S])\n",
    "\n",
    "    sqrt = np.sqrt(np.arange(cutoff))\n",
    "    Z = np.zeros((cutoff, cutoff), dtype=dtype)\n",
    "\n",
    "    Z[0, 0] = np.exp(-0.5*np.abs(w)**2 - 0.5*wc**2 * EZ * T)*np.sqrt(S)\n",
    "\n",
    "    # rank 1\n",
    "    for m in range(1, cutoff):\n",
    "        Z[m, 0] = (y[0]/sqrt[m]*Z[m-1, 0] + R[0, 0]*sqrt[m-1]/sqrt[m]*Z[m-2, 0])\n",
    "\n",
    "    # rank 2\n",
    "    for m in range(cutoff):\n",
    "        for n in range(1, cutoff):\n",
    "            Z[m, n] = (y[1]/sqrt[n]*Z[m, n-1] + R[1, 1]*sqrt[n-1]/sqrt[n]*Z[m, n-2] + R[0, 1]*sqrt[m]/sqrt[n]*Z[m-1, n-1])\n",
    "\n",
    "    return Z"
   ]
  },
  {
   "cell_type": "code",
   "execution_count": 5,
   "metadata": {},
   "outputs": [],
   "source": [
    "def test_singlemode(cutoff_dim):\n",
    "    gamma1 = np.random.normal(scale=0.01) + 1j*np.random.normal(scale=0.01)\n",
    "    phi1 = np.random.normal(scale=0.01)\n",
    "    zeta1 = np.random.normal(scale=0.01) + 1j*np.random.normal(scale=0.01)\n",
    "\n",
    "    Psi = np.zeros(cutoff_dim,dtype=np.complex128)\n",
    "    Psi[0] = 1  #vaccum\n",
    "    state_out = R_matrix(gamma1,phi1, zeta1,cutoff_dim, Psi)[:,0]\n",
    "    return state_out"
   ]
  },
  {
   "cell_type": "code",
   "execution_count": 6,
   "metadata": {},
   "outputs": [],
   "source": [
    "def test_singlemode2(cutoff_dim):\n",
    "    gamma1 = np.random.normal(scale=0.01) + 1j*np.random.normal(scale=0.01)\n",
    "    phi1 = np.random.normal(scale=0.01)\n",
    "    zeta1 = np.random.normal(scale=0.01) + 1j*np.random.normal(scale=0.01)\n",
    "\n",
    "    Psi = np.zeros(cutoff_dim,dtype=np.complex128)\n",
    "    Psi[0] = 1  #vaccum\n",
    "    G = G_matrix(phi1, gamma1, zeta1, cutoff_dim)\n",
    "    return tf.einsum(\"ab,b->a\",G,Psi)"
   ]
  },
  {
   "cell_type": "code",
   "execution_count": 7,
   "metadata": {},
   "outputs": [],
   "source": [
    "x = [5,10,15,20,25,30,35,40]"
   ]
  },
  {
   "cell_type": "code",
   "execution_count": 8,
   "metadata": {},
   "outputs": [
    {
     "name": "stdout",
     "output_type": "stream",
     "text": [
      "601 µs ± 99.3 µs per loop (mean ± std. dev. of 7 runs, 1 loop each)\n",
      "677 µs ± 57 µs per loop (mean ± std. dev. of 7 runs, 1000 loops each)\n",
      "741 µs ± 93.4 µs per loop (mean ± std. dev. of 7 runs, 1000 loops each)\n",
      "972 µs ± 199 µs per loop (mean ± std. dev. of 7 runs, 1000 loops each)\n",
      "673 µs ± 32.5 µs per loop (mean ± std. dev. of 7 runs, 1000 loops each)\n",
      "1 ms ± 175 µs per loop (mean ± std. dev. of 7 runs, 1000 loops each)\n",
      "849 µs ± 135 µs per loop (mean ± std. dev. of 7 runs, 1000 loops each)\n",
      "714 µs ± 6.71 µs per loop (mean ± std. dev. of 7 runs, 1000 loops each)\n"
     ]
    }
   ],
   "source": [
    "time_list_sf = []\n",
    "for cutoff_dim in x:\n",
    "    t = %timeit -o test_sf(cutoff_dim)\n",
    "    time_list_sf.append(t.average)"
   ]
  },
  {
   "cell_type": "code",
   "execution_count": 9,
   "metadata": {},
   "outputs": [
    {
     "name": "stdout",
     "output_type": "stream",
     "text": [
      "36.9 µs ± 23.2 µs per loop (mean ± std. dev. of 7 runs, 1 loop each)\n",
      "27.2 µs ± 469 ns per loop (mean ± std. dev. of 7 runs, 10000 loops each)\n",
      "29.9 µs ± 377 ns per loop (mean ± std. dev. of 7 runs, 10000 loops each)\n",
      "33.5 µs ± 599 ns per loop (mean ± std. dev. of 7 runs, 10000 loops each)\n",
      "37.8 µs ± 760 ns per loop (mean ± std. dev. of 7 runs, 10000 loops each)\n",
      "41.4 µs ± 365 ns per loop (mean ± std. dev. of 7 runs, 10000 loops each)\n",
      "46.4 µs ± 273 ns per loop (mean ± std. dev. of 7 runs, 10000 loops each)\n",
      "52 µs ± 597 ns per loop (mean ± std. dev. of 7 runs, 10000 loops each)\n"
     ]
    }
   ],
   "source": [
    "time_list_2mode = []\n",
    "for cutoff_dim in x:\n",
    "    t = %timeit -o test_singlemode(cutoff_dim)\n",
    "    time_list_2mode.append(t.average)"
   ]
  },
  {
   "cell_type": "code",
   "execution_count": null,
   "metadata": {},
   "outputs": [
    {
     "name": "stdout",
     "output_type": "stream",
     "text": [
      "131 µs ± 71 µs per loop (mean ± std. dev. of 7 runs, 1 loop each)\n",
      "97.4 µs ± 3.26 µs per loop (mean ± std. dev. of 7 runs, 10000 loops each)\n",
      "97.9 µs ± 3.48 µs per loop (mean ± std. dev. of 7 runs, 10000 loops each)\n",
      "104 µs ± 6.21 µs per loop (mean ± std. dev. of 7 runs, 10000 loops each)\n",
      "105 µs ± 718 ns per loop (mean ± std. dev. of 7 runs, 10000 loops each)\n"
     ]
    }
   ],
   "source": [
    "time_list_2mode2 = []\n",
    "for cutoff_dim in x:\n",
    "    t = %timeit -o test_singlemode2(cutoff_dim)\n",
    "    time_list_2mode2.append(t.average)"
   ]
  },
  {
   "cell_type": "code",
   "execution_count": null,
   "metadata": {},
   "outputs": [],
   "source": [
    "from matplotlib import pyplot as plt\n",
    "plt1 = plt.plot(x,time_list_sf,'r');\n",
    "plt2 = plt.plot(x,time_list_2mode,'b');\n",
    "plt3 = plt.plot(x,time_list_2mode2,'y');\n",
    "plt.yscale('log')\n",
    "plt.grid(True)\n",
    "plt.legend((plt1[0],plt2[0],plt3[0]),(\"Strawberryfields __version__=0.15.1\",\"Fast Gaussian transformation\",\"Thewalrus/Ggate\"), loc='upper left', bbox_to_anchor=(1.05, 1))"
   ]
  },
  {
   "cell_type": "code",
   "execution_count": null,
   "metadata": {},
   "outputs": [],
   "source": [
    "time_list_sf"
   ]
  },
  {
   "cell_type": "code",
   "execution_count": null,
   "metadata": {},
   "outputs": [],
   "source": [
    "time_list_2mode"
   ]
  },
  {
   "cell_type": "code",
   "execution_count": null,
   "metadata": {},
   "outputs": [],
   "source": [
    "time_list_2mode2"
   ]
  },
  {
   "cell_type": "code",
   "execution_count": null,
   "metadata": {},
   "outputs": [],
   "source": []
  },
  {
   "cell_type": "code",
   "execution_count": null,
   "metadata": {},
   "outputs": [],
   "source": []
  }
 ],
 "metadata": {
  "kernelspec": {
   "display_name": "thewalrusker",
   "language": "python",
   "name": "thewalrusker"
  },
  "language_info": {
   "codemirror_mode": {
    "name": "ipython",
    "version": 3
   },
   "file_extension": ".py",
   "mimetype": "text/x-python",
   "name": "python",
   "nbconvert_exporter": "python",
   "pygments_lexer": "ipython3",
   "version": "3.6.9"
  }
 },
 "nbformat": 4,
 "nbformat_minor": 2
}
