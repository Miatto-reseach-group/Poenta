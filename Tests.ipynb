{
 "cells": [
  {
   "cell_type": "code",
   "execution_count": 1,
   "metadata": {},
   "outputs": [],
   "source": [
    "import numpy as np\n",
    "from numpy import expand_dims as ed\n",
    "%load_ext autoreload\n",
    "%autoreload 2"
   ]
  },
  {
   "cell_type": "code",
   "execution_count": 53,
   "metadata": {},
   "outputs": [],
   "source": [
    "a = np.ones((4,4,14))\n",
    "b=np.ones((2,6,6))"
   ]
  },
  {
   "cell_type": "code",
   "execution_count": 59,
   "metadata": {},
   "outputs": [],
   "source": [
    "c = np.zeros((2,3,3,14))"
   ]
  },
  {
   "cell_type": "code",
   "execution_count": 12,
   "metadata": {},
   "outputs": [
    {
     "data": {
      "text/plain": [
       "array([[1., 1., 1., 1.],\n",
       "       [1., 1., 1., 1.],\n",
       "       [1., 1., 1., 1.],\n",
       "       [1., 1., 1., 1.]])"
      ]
     },
     "execution_count": 12,
     "metadata": {},
     "output_type": "execute_result"
    }
   ],
   "source": [
    "a"
   ]
  },
  {
   "cell_type": "code",
   "execution_count": 13,
   "metadata": {},
   "outputs": [
    {
     "data": {
      "text/plain": [
       "array([[[0., 0., 0., 0.],\n",
       "        [0., 0., 0., 0.],\n",
       "        [0., 0., 0., 0.],\n",
       "        [0., 0., 0., 0.]],\n",
       "\n",
       "       [[0., 0., 0., 0.],\n",
       "        [0., 0., 0., 0.],\n",
       "        [0., 0., 0., 0.],\n",
       "        [0., 0., 0., 0.]]])"
      ]
     },
     "execution_count": 13,
     "metadata": {},
     "output_type": "execute_result"
    }
   ],
   "source": [
    "b"
   ]
  },
  {
   "cell_type": "code",
   "execution_count": 17,
   "metadata": {},
   "outputs": [],
   "source": [
    "c = a[None,:,:]*b"
   ]
  },
  {
   "cell_type": "code",
   "execution_count": 18,
   "metadata": {},
   "outputs": [
    {
     "data": {
      "text/plain": [
       "(2, 4, 4)"
      ]
     },
     "execution_count": 18,
     "metadata": {},
     "output_type": "execute_result"
    }
   ],
   "source": [
    "c.shape"
   ]
  },
  {
   "cell_type": "code",
   "execution_count": 27,
   "metadata": {},
   "outputs": [
    {
     "data": {
      "text/plain": [
       "array([0., 0.])"
      ]
     },
     "execution_count": 27,
     "metadata": {},
     "output_type": "execute_result"
    }
   ],
   "source": [
    "c.sum(axis=1).sum(axis=1)"
   ]
  },
  {
   "cell_type": "code",
   "execution_count": 29,
   "metadata": {},
   "outputs": [
    {
     "data": {
      "text/plain": [
       "array([[[1., 1., 1., 1.],\n",
       "        [1., 1., 1., 1.],\n",
       "        [1., 1., 1., 1.],\n",
       "        [1., 1., 1., 1.]]])"
      ]
     },
     "execution_count": 29,
     "metadata": {},
     "output_type": "execute_result"
    }
   ],
   "source": [
    "a[None,:,:]"
   ]
  },
  {
   "cell_type": "code",
   "execution_count": 54,
   "metadata": {},
   "outputs": [
    {
     "data": {
      "text/plain": [
       "(2, 4, 4, 14)"
      ]
     },
     "execution_count": 54,
     "metadata": {},
     "output_type": "execute_result"
    }
   ],
   "source": [
    "(ed(a,0)*b[:,2:,2:,None]).shape"
   ]
  },
  {
   "cell_type": "code",
   "execution_count": 66,
   "metadata": {},
   "outputs": [
    {
     "data": {
      "text/plain": [
       "(2, 14)"
      ]
     },
     "execution_count": 66,
     "metadata": {},
     "output_type": "execute_result"
    }
   ],
   "source": [
    "(ed(a,0)*b[:,2:,2:,None]).sum(axis=1).sum(axis=1).shape"
   ]
  },
  {
   "cell_type": "code",
   "execution_count": 68,
   "metadata": {},
   "outputs": [],
   "source": [
    "c[:,2,2] = (ed(a,0)*b[:,2:,2:,None]).sum(axis=1).sum(axis=1)"
   ]
  },
  {
   "cell_type": "code",
   "execution_count": 69,
   "metadata": {},
   "outputs": [
    {
     "data": {
      "text/plain": [
       "array([[[[16., 16., 16., 16., 16., 16., 16., 16., 16., 16., 16., 16.,\n",
       "          16., 16.],\n",
       "         [ 0.,  0.,  0.,  0.,  0.,  0.,  0.,  0.,  0.,  0.,  0.,  0.,\n",
       "           0.,  0.],\n",
       "         [ 0.,  0.,  0.,  0.,  0.,  0.,  0.,  0.,  0.,  0.,  0.,  0.,\n",
       "           0.,  0.]],\n",
       "\n",
       "        [[ 0.,  0.,  0.,  0.,  0.,  0.,  0.,  0.,  0.,  0.,  0.,  0.,\n",
       "           0.,  0.],\n",
       "         [ 0.,  0.,  0.,  0.,  0.,  0.,  0.,  0.,  0.,  0.,  0.,  0.,\n",
       "           0.,  0.],\n",
       "         [ 0.,  0.,  0.,  0.,  0.,  0.,  0.,  0.,  0.,  0.,  0.,  0.,\n",
       "           0.,  0.]],\n",
       "\n",
       "        [[ 0.,  0.,  0.,  0.,  0.,  0.,  0.,  0.,  0.,  0.,  0.,  0.,\n",
       "           0.,  0.],\n",
       "         [ 0.,  0.,  0.,  0.,  0.,  0.,  0.,  0.,  0.,  0.,  0.,  0.,\n",
       "           0.,  0.],\n",
       "         [16., 16., 16., 16., 16., 16., 16., 16., 16., 16., 16., 16.,\n",
       "          16., 16.]]],\n",
       "\n",
       "\n",
       "       [[[16., 16., 16., 16., 16., 16., 16., 16., 16., 16., 16., 16.,\n",
       "          16., 16.],\n",
       "         [ 0.,  0.,  0.,  0.,  0.,  0.,  0.,  0.,  0.,  0.,  0.,  0.,\n",
       "           0.,  0.],\n",
       "         [ 0.,  0.,  0.,  0.,  0.,  0.,  0.,  0.,  0.,  0.,  0.,  0.,\n",
       "           0.,  0.]],\n",
       "\n",
       "        [[ 0.,  0.,  0.,  0.,  0.,  0.,  0.,  0.,  0.,  0.,  0.,  0.,\n",
       "           0.,  0.],\n",
       "         [ 0.,  0.,  0.,  0.,  0.,  0.,  0.,  0.,  0.,  0.,  0.,  0.,\n",
       "           0.,  0.],\n",
       "         [ 0.,  0.,  0.,  0.,  0.,  0.,  0.,  0.,  0.,  0.,  0.,  0.,\n",
       "           0.,  0.]],\n",
       "\n",
       "        [[ 0.,  0.,  0.,  0.,  0.,  0.,  0.,  0.,  0.,  0.,  0.,  0.,\n",
       "           0.,  0.],\n",
       "         [ 0.,  0.,  0.,  0.,  0.,  0.,  0.,  0.,  0.,  0.,  0.,  0.,\n",
       "           0.,  0.],\n",
       "         [16., 16., 16., 16., 16., 16., 16., 16., 16., 16., 16., 16.,\n",
       "          16., 16.]]]])"
      ]
     },
     "execution_count": 69,
     "metadata": {},
     "output_type": "execute_result"
    }
   ],
   "source": [
    "c"
   ]
  },
  {
   "cell_type": "code",
   "execution_count": 70,
   "metadata": {},
   "outputs": [],
   "source": [
    "sqrt = np.sqrt(np.arange(4))\n",
    "sqrtT = sqrt.reshape(-1, 1)"
   ]
  },
  {
   "cell_type": "code",
   "execution_count": 72,
   "metadata": {},
   "outputs": [
    {
     "data": {
      "text/plain": [
       "array([[[1.        , 1.        , 1.        , 1.        , 1.        ,\n",
       "         1.        , 1.        , 1.        , 1.        , 1.        ,\n",
       "         1.        , 1.        , 1.        , 1.        ],\n",
       "        [1.41421356, 1.41421356, 1.41421356, 1.41421356, 1.41421356,\n",
       "         1.41421356, 1.41421356, 1.41421356, 1.41421356, 1.41421356,\n",
       "         1.41421356, 1.41421356, 1.41421356, 1.41421356],\n",
       "        [1.73205081, 1.73205081, 1.73205081, 1.73205081, 1.73205081,\n",
       "         1.73205081, 1.73205081, 1.73205081, 1.73205081, 1.73205081,\n",
       "         1.73205081, 1.73205081, 1.73205081, 1.73205081]],\n",
       "\n",
       "       [[1.        , 1.        , 1.        , 1.        , 1.        ,\n",
       "         1.        , 1.        , 1.        , 1.        , 1.        ,\n",
       "         1.        , 1.        , 1.        , 1.        ],\n",
       "        [1.41421356, 1.41421356, 1.41421356, 1.41421356, 1.41421356,\n",
       "         1.41421356, 1.41421356, 1.41421356, 1.41421356, 1.41421356,\n",
       "         1.41421356, 1.41421356, 1.41421356, 1.41421356],\n",
       "        [1.73205081, 1.73205081, 1.73205081, 1.73205081, 1.73205081,\n",
       "         1.73205081, 1.73205081, 1.73205081, 1.73205081, 1.73205081,\n",
       "         1.73205081, 1.73205081, 1.73205081, 1.73205081]],\n",
       "\n",
       "       [[1.        , 1.        , 1.        , 1.        , 1.        ,\n",
       "         1.        , 1.        , 1.        , 1.        , 1.        ,\n",
       "         1.        , 1.        , 1.        , 1.        ],\n",
       "        [1.41421356, 1.41421356, 1.41421356, 1.41421356, 1.41421356,\n",
       "         1.41421356, 1.41421356, 1.41421356, 1.41421356, 1.41421356,\n",
       "         1.41421356, 1.41421356, 1.41421356, 1.41421356],\n",
       "        [1.73205081, 1.73205081, 1.73205081, 1.73205081, 1.73205081,\n",
       "         1.73205081, 1.73205081, 1.73205081, 1.73205081, 1.73205081,\n",
       "         1.73205081, 1.73205081, 1.73205081, 1.73205081]],\n",
       "\n",
       "       [[1.        , 1.        , 1.        , 1.        , 1.        ,\n",
       "         1.        , 1.        , 1.        , 1.        , 1.        ,\n",
       "         1.        , 1.        , 1.        , 1.        ],\n",
       "        [1.41421356, 1.41421356, 1.41421356, 1.41421356, 1.41421356,\n",
       "         1.41421356, 1.41421356, 1.41421356, 1.41421356, 1.41421356,\n",
       "         1.41421356, 1.41421356, 1.41421356, 1.41421356],\n",
       "        [1.73205081, 1.73205081, 1.73205081, 1.73205081, 1.73205081,\n",
       "         1.73205081, 1.73205081, 1.73205081, 1.73205081, 1.73205081,\n",
       "         1.73205081, 1.73205081, 1.73205081, 1.73205081]]])"
      ]
     },
     "execution_count": 72,
     "metadata": {},
     "output_type": "execute_result"
    }
   ],
   "source": [
    "a[:,:-1]*sqrt[1:,None]"
   ]
  },
  {
   "cell_type": "code",
   "execution_count": 77,
   "metadata": {},
   "outputs": [
    {
     "data": {
      "text/plain": [
       "(3, 1, 1)"
      ]
     },
     "execution_count": 77,
     "metadata": {},
     "output_type": "execute_result"
    }
   ],
   "source": [
    "ed(sqrtT[1:],1).shape\n"
   ]
  },
  {
   "cell_type": "code",
   "execution_count": 90,
   "metadata": {},
   "outputs": [
    {
     "data": {
      "text/plain": [
       "(4, 4, 14)"
      ]
     },
     "execution_count": 90,
     "metadata": {},
     "output_type": "execute_result"
    }
   ],
   "source": [
    "a.shape"
   ]
  },
  {
   "cell_type": "code",
   "execution_count": 83,
   "metadata": {},
   "outputs": [
    {
     "data": {
      "text/plain": [
       "(1, 4, 1, 4, 14)"
      ]
     },
     "execution_count": 83,
     "metadata": {},
     "output_type": "execute_result"
    }
   ],
   "source": [
    "ed(ed(a,0),2).shape"
   ]
  },
  {
   "cell_type": "code",
   "execution_count": 84,
   "metadata": {},
   "outputs": [],
   "source": [
    "A = 3"
   ]
  },
  {
   "cell_type": "code",
   "execution_count": 91,
   "metadata": {},
   "outputs": [
    {
     "data": {
      "text/plain": [
       "(1, 1, 4, 4, 14, 1)"
      ]
     },
     "execution_count": 91,
     "metadata": {},
     "output_type": "execute_result"
    }
   ],
   "source": [
    "ed(ed(ed(a,0),1),-1).shape"
   ]
  },
  {
   "cell_type": "code",
   "execution_count": 437,
   "metadata": {},
   "outputs": [],
   "source": [
    "\n",
    "def R_matrix2(gamma1, gamma2, phi1, phi2, theta1, varphi1, zeta1, zeta2, theta, varphi, old_state):\n",
    "    batch, cutoff, _ = old_state.shape\n",
    "    dtype = old_state.dtype\n",
    "    \n",
    "    C, mu ,Sigma = C_mu_Sigma2(gamma1, gamma2, phi1, phi2, theta1, varphi1, zeta1, zeta2, theta, varphi)\n",
    "\n",
    "    sqrt = np.sqrt(np.arange(cutoff, dtype = dtype))\n",
    "    sqrtT = sqrt.reshape(-1, 1)\n",
    "\n",
    "    R = np.zeros((batch, cutoff, cutoff, cutoff+1, cutoff+1), dtype = dtype)\n",
    "    G_00pq = np.zeros((cutoff, cutoff+1), dtype = dtype)\n",
    "    \n",
    "    \n",
    "    #G_mn00\n",
    "    G_00pq[0,0] = C\n",
    "    for q in range(1, cutoff):\n",
    "        G_00pq[0,q] = (mu[3]*G_00pq[0,q-1] - Sigma[3,3]*sqrt[q-1]*G_00pq[0,q-2])/sqrt[q]\n",
    "\n",
    "    \n",
    "    for p in range(1,cutoff):\n",
    "        for q in range(0,cutoff):\n",
    "            G_00pq[p,q] = (mu[2]*G_00pq[p-1,q] - Sigma[2,2]*sqrt[p-1]*G_00pq[p-2,q] - Sigma[2,3]*sqrt[q]*G_00pq[p-1,q-1])/sqrt[p]\n",
    "              \n",
    "#     for p in range(1,cutoff):\n",
    "#         G_00pq[p,:-1] = (mu[2]*G_00pq[p-1,:-1] - Sigma[2,2]*sqrt[p-1]*G_00pq[p-2,:-1] - Sigma[2,3]*G_00pq[p-1,1:])/sqrt[p]\n",
    "\n",
    "\n",
    "    # R_00^jk = a_dagger^j \\G_00pq> b^k  * |old_state>\n",
    "    G_00pq2 = G_00pq[:,:-1]\n",
    "    for j in range(cutoff):\n",
    "        G_00pq3 = G_00pq2\n",
    "        for k in range(cutoff):\n",
    "            R[0,0,j,k] = np.sum(G_00pq3*old_state[:,j:,k:]) #!!here only works for batch = 1, if not the np.sum needs to be changed axis=-1 for several times = batch.\n",
    "            G_00pq3 = G_00pq3[:,:-1]*sqrt[k+1:]\n",
    "        G_00pq2 = sqrtT[j+1:]*G_00pq2[:-1,:]\n",
    "\n",
    "    #R_0n^jk\n",
    "    \n",
    "#     for n in range(1,cutoff):\n",
    "#         for k in range(0,cutoff):\n",
    "#             for j in range(0,cutoff):\n",
    "#                 R[:,0,n,j,k] = mu[1]/sqrt[n]*R[:,0,n-1,j,k] - Sigma[1,1]/sqrt[n]*sqrt[n-1]*R[:,0,n-2,j,k] - Sigma[1,2]/sqrt[n]*R[:,0,n-1,j+1,k] - Sigma[1,3]/sqrt[n]*R[:,0,n-1,j,k+1]\n",
    "   \n",
    "    for n in range(1,cutoff):\n",
    "        R[:,0,n,:-1,:-1] = mu[1]/sqrt[n]*R[:,0,n-1,:-1,:-1] - Sigma[1,1]/sqrt[n]*sqrt[n-1]*R[:,0,n-2,:-1,:-1] - Sigma[1,2]/sqrt[n]*R[:,0,n-1,1:,:-1] - Sigma[1,3]/sqrt[n]*R[:,0,n-1,:-1,1:]\n",
    "\n",
    "\n",
    "    #R_mn^jk\n",
    "    for m in range(1,cutoff):\n",
    "        for n in range(0,cutoff):\n",
    "            for j in range(0,cutoff-m):\n",
    "                for k in range(0,cutoff-m-j):\n",
    "                    R[:,m,n,j,k] = mu[0]/sqrt[m]*R[:,m-1,n,j,k] - Sigma[0,0]/sqrt[m]*sqrt[m-1]*R[:,m-2,n,j,k] - Sigma[0,1]*sqrt[n]/sqrt[m]*R[:,m-1,n-1,j,k] - Sigma[0,2]/sqrt[m]*R[:,m-1,n,j+1,k] - Sigma[0,3]/sqrt[m]*R[:,m-1,n,j,k+1]   \n",
    "    return R"
   ]
  },
  {
   "cell_type": "code",
   "execution_count": 438,
   "metadata": {},
   "outputs": [],
   "source": [
    "old_state = np.ones((1,2,2),dtype=np.complex128)"
   ]
  },
  {
   "cell_type": "code",
   "execution_count": 439,
   "metadata": {},
   "outputs": [],
   "source": [
    "gamma1 = 1+1j\n",
    "gamma2= 1+1j\n",
    "phi1 =0.1\n",
    "phi2 =0.2\n",
    "theta1 = 0.4\n",
    "varphi1 = 0.4\n",
    "zeta1= 1+1j\n",
    "zeta2= 1+1j\n",
    "theta=0.6\n",
    "varphi=0.2"
   ]
  },
  {
   "cell_type": "code",
   "execution_count": 440,
   "metadata": {
    "scrolled": false
   },
   "outputs": [],
   "source": [
    "R1 = R_matrix2(gamma1, gamma2, phi1, phi2, theta1, varphi1, zeta1, zeta2, theta, varphi, old_state)"
   ]
  },
  {
   "cell_type": "code",
   "execution_count": 441,
   "metadata": {},
   "outputs": [],
   "source": [
    "def R_matrix22(gamma1, gamma2, phi1, phi2, theta1, varphi1, zeta1, zeta2, theta, varphi, old_state):\n",
    "    \"\"\"\n",
    "    Directly constructs the transformed state recursively and exactly.\n",
    "\n",
    "    Arguments:\n",
    "        gamma1 (complex): displacement parameter1\n",
    "        gamma2 (complex): displacement parameter2\n",
    "        phi1 (float): phase rotation parameter1\n",
    "        phi2 (float): phase rotation parameter2\n",
    "        \n",
    "        theta1(float): transmissivity angle of the beamsplitter1\n",
    "        varphi1(float): reflection phase of the beamsplitter1\n",
    "        \n",
    "        zeta1 (complex): squeezing parameter1\n",
    "        zeta2 (complex): squeezing parameter2\n",
    "        \n",
    "        theta(float): transmissivity angle of the beamsplitter\n",
    "        varphi(float): reflection phase of the beamsplitter\n",
    "        \n",
    "        old_state(array([batch,D,D])): State to be transformed\n",
    "\n",
    "    Returns:\n",
    "        R (complex array[batch,D,D,D,D]): the matrix where R[batch,:,:,0,0] is the transformed state for each batch\n",
    "    \"\"\"\n",
    "    batch, cutoff, _ = old_state.shape\n",
    "    dtype = old_state.dtype\n",
    "\n",
    "    \n",
    "    C, mu ,Sigma = C_mu_Sigma2(gamma1, gamma2, phi1, phi2, theta1, varphi1, zeta1, zeta2, theta, varphi)\n",
    "\n",
    "    sqrt = np.sqrt(np.arange(cutoff, dtype = dtype))\n",
    "    sqrtT = sqrt.reshape(-1, 1)\n",
    "\n",
    "    R = np.zeros((batch, cutoff, cutoff, cutoff+1, cutoff+1), dtype = dtype)\n",
    "    G_00pq = np.zeros((cutoff, cutoff), dtype = dtype)\n",
    "    \n",
    "    \n",
    "    #G_mn00\n",
    "    G_00pq[0,0] = C\n",
    "    for q in range(1, cutoff):\n",
    "        G_00pq[0,q] = (mu[3]*G_00pq[0,q-1] - Sigma[3,3]*sqrt[q-1]*G_00pq[0,q-2])/sqrt[q]\n",
    "\n",
    "\n",
    "    for p in range(1,cutoff):\n",
    "        for q in range(0,cutoff):\n",
    "            G_00pq[p,q] = (mu[2]*G_00pq[p-1,q] - Sigma[2,2]*sqrt[p-1]*G_00pq[p-2,q] - Sigma[2,3]*sqrt[q]*G_00pq[p-1,q-1])/sqrt[p]\n",
    "        \n",
    "    # R_00^jk = a_dagger^j \\G_00pq> b^k  * |old_state>\n",
    "    G_00pq2 = G_00pq\n",
    "    for j in range(cutoff):\n",
    "        G_00pq3 = G_00pq2\n",
    "        for k in range(cutoff):\n",
    "            R[0,0,j,k] = np.sum(G_00pq3*old_state[:,j:,k:]) #!!here only works for batch = 1, if not the np.sum needs to be changed axis=-1 for several times = batch.\n",
    "            G_00pq3 = G_00pq3[:,:-1]*sqrt[k+1:]\n",
    "        G_00pq2 = sqrtT[j+1:]*G_00pq2[:-1,:]\n",
    "\n",
    "    #R_0n^jk\n",
    "    for n in range(1,cutoff):\n",
    "        for k in range(0,cutoff):\n",
    "            for j in range(0,cutoff):\n",
    "                R[:,0,n,j,k] = mu[1]/sqrt[n]*R[:,0,n-1,j,k] - Sigma[1,1]/sqrt[n]*sqrt[n-1]*R[:,0,n-2,j,k] - Sigma[1,2]/sqrt[n]*R[:,0,n-1,j+1,k] - Sigma[1,3]/sqrt[n]*R[:,0,n-1,j,k+1]\n",
    "\n",
    "\n",
    "    #R_mn^jk\n",
    "    for m in range(1,cutoff):\n",
    "        for n in range(0,cutoff):\n",
    "            for j in range(0,cutoff-m):\n",
    "                for k in range(0,cutoff-m-j):\n",
    "                    R[:,m,n,j,k] = mu[0]/sqrt[m]*R[:,m-1,n,j,k] - Sigma[0,0]/sqrt[m]*sqrt[m-1]*R[:,m-2,n,j,k] - Sigma[0,1]*sqrt[n]/sqrt[m]*R[:,m-1,n-1,j,k] - Sigma[0,2]/sqrt[m]*R[:,m-1,n,j+1,k] - Sigma[0,3]/sqrt[m]*R[:,m-1,n,j,k+1]\n",
    "          \n",
    "    return R"
   ]
  },
  {
   "cell_type": "code",
   "execution_count": 442,
   "metadata": {},
   "outputs": [],
   "source": [
    "R2 = R_matrix22(gamma1, gamma2, phi1, phi2, theta1, varphi1, zeta1, zeta2, theta, varphi, old_state)"
   ]
  },
  {
   "cell_type": "code",
   "execution_count": 443,
   "metadata": {},
   "outputs": [],
   "source": [
    "from poenta.jitted import C_mu_Sigma2,dC_dmu_dSigma2"
   ]
  },
  {
   "cell_type": "code",
   "execution_count": 467,
   "metadata": {},
   "outputs": [],
   "source": [
    "from numba import njit\n",
    "@njit()\n",
    "def dPsi2(gamma1, gamma2, phi1, phi2, theta1, varphi1, zeta1, zeta2, theta, varphi, state_in, G00, R):\n",
    "    \"\"\"\n",
    "    Computes the gradient of the new state with respect to\n",
    "    gamma, gamma*, phi, z, z* but not with respect to the old state\n",
    "\n",
    "    Arguments:\n",
    "        gamma1 (complex): displacement parameter1\n",
    "        gamma2 (complex): displacement parameter2\n",
    "        phi1 (float): phase rotation parameter1\n",
    "        phi2 (float): phase rotation parameter2\n",
    "        \n",
    "        theta1(float): transmissivity angle of the beamsplitter1\n",
    "        varphi1(float): reflection phase of the beamsplitter1\n",
    "        \n",
    "        zeta1 (complex): squeezing parameter1\n",
    "        zeta2 (complex): squeezing parameter2\n",
    "        \n",
    "        theta(float): transmissivity angle of the beamsplitter\n",
    "        varphi(float): reflection phase of the beamsplitter\n",
    "        \n",
    "        state_in: (complex array[bath,D,D]): old state\n",
    "        G00 (complex array[D,D]): G[0,0,:,:] of the G matrix\n",
    "        R (complex array[bath, D,D,D,D]): complete R matrix R[:,:,:,:] (!not really complete....)\n",
    "\n",
    "    Returns:\n",
    "        (complex array[batch, D, D, 14]): gradient of the new state with respect to\n",
    "                                    gamma1, gamma1*, gamma2, gamma2*, phi1, phi2, theta1, varphi1, zeta1, zeta1*, zeta2, zeta2*, theta, varphi\n",
    "    \"\"\"\n",
    "    batch, cutoff, _ = state_in.shape\n",
    "    dtype = state_in.dtype\n",
    "    \n",
    "    C, mu, Sigma = C_mu_Sigma2(gamma1, gamma2, phi1, phi2, theta1, varphi1, zeta1, zeta2, theta, varphi)\n",
    "    dC, dmu, dSigma = dC_dmu_dSigma2(gamma1, gamma2, phi1, phi2, theta1, varphi1, zeta1, zeta2, theta, varphi)\n",
    "    \n",
    "    sqrt = np.sqrt(np.arange(cutoff, dtype=dtype))\n",
    "    sqrtT = sqrt.reshape(-1, 1)\n",
    "    \n",
    "    dR = np.zeros((batch, cutoff, cutoff, cutoff+1 , cutoff+1, 14),dtype = dtype)\n",
    "    dG00 = np.zeros((cutoff, cutoff, 14),dtype = dtype)\n",
    "    \n",
    "    dG00[0,0] = dC\n",
    "    for q in range(1, cutoff):\n",
    "        dG00[0,q] = (dmu[3]*G00[0,q-1]+mu[3]*dG00[0,q-1] - dSigma[3,3]*sqrt[q-1]*G00[0,q-2]- Sigma[3,3]*sqrt[q-1]*dG00[0,q-2])/sqrt[q]\n",
    "\n",
    "\n",
    "    for p in range(1,cutoff):\n",
    "        for q in range(0,cutoff):\n",
    "            dG00[p,q] = (dmu[2]*G00[p-1,q]+ mu[2]*dG00[p-1,q] - dSigma[2,2]*sqrt[p-1]*G00[p-2,q]- Sigma[2,2]*sqrt[p-1]*dG00[p-2,q] - dSigma[2,3]*sqrt[q]*G00[p-1,q-1]- Sigma[2,3]*sqrt[q]*dG00[p-1,q-1])/sqrt[p]\n",
    "                    \n",
    "    dG002 = dG00\n",
    "    for j in range(cutoff):\n",
    "        dG003 = dG002\n",
    "        for k in range(cutoff):\n",
    "        #dG003[D,D,14]*state_in[batch,D,D] - > we want [batch,14]\n",
    "            test = ed(dG003,0)*ed(state_in[:,j:,k:],-1)\n",
    "            dR[:,0,0,j,k] = test.sum(axis=1).sum(axis=1)\n",
    "            dG003 = dG003[:,:-1]*ed(sqrt[k+1:],1)\n",
    "        dG002 = ed(sqrtT[j+1:],1)*dG002[:-1,:]\n",
    "\n",
    "    for n in range(1,cutoff):\n",
    "        for k in range(0,cutoff):\n",
    "            for j in range(0,cutoff):\n",
    "            #dR[batch,D,D,D,D,14] R[batch,D,D,D,D] dmu[4,14] dSigma[4,4,14]\n",
    "            # dR[:,0,n,j,k] = [batch,14]\n",
    "#                 dR[:,0,n,j,k] = (dmu[1]*R[:,0,n-1,j,k] + ed(mu[1],0)*dR[:,0,n-1,j,k] - dSigma[1,1]*sqrt[n-1]*R[:,0,n-2,j,k] - Sigma[1,1]*sqrt[n-1]*dR[:,0,n-2,j,k] - dSigma[1,2]*R[:,0,n-1,j+1,k] - Sigma[1,2]*dR[:,0,n-1,j+1,k] - dSigma[1,3]*R[:,0,n-1,j,k+1] - Sigma[1,3]*dR[:,0,n-1,j,k+1]\n",
    "#                                 )/sqrt[n]\n",
    "                dR[:,0,n,j,k] = (ed(dmu[1],0)*R[:,0,n-1,j,k]+ mu[1]*dR[:,0,n-1,j,k]- ed(dSigma[1,1],0)*sqrt[n-1]*R[:,0,n-2,j,k]- Sigma[1,1]*sqrt[n-1]*dR[:,0,n-2,j,k] - ed(dSigma[1,2],0)*R[:,0,n-1,j+1,k] - Sigma[1,2]*dR[:,0,n-1,j+1,k] - ed(dSigma[1,3],0)*R[:,0,n-1,j,k+1] - Sigma[1,3]*dR[:,0,n-1,j,k+1])/sqrt[n]\n",
    "\n",
    "\n",
    "    for m in range(1,cutoff):\n",
    "        for n in range(0,cutoff):\n",
    "            for j in range(0,cutoff-m):\n",
    "                for k in range(0,cutoff-m-j):\n",
    "#                     dR[:,m,n,j,k] = (dmu[0]*R[m-1,n,j,k] + mu[0]*dR[:,m-1,n,j,k] - dSigma[0,0]*sqrt[m-1]*R[m-2,n,j,k] - Sigma[0,0]*sqrt[m-1]*dR[:,m-2,n,j,k] - dSigma[0,1]*sqrt[n]*R[m-1,n-1,j,k] - Sigma[0,1]*sqrt[n]*dR[:,m-1,n-1,j,k] - dSigma[0,2]*R[m-1,n,j+1,k] - Sigma[0,2]*dR[:,m-1,n,j+1,k] - dSigma[0,3]*R[m-1,n,j,k+1] - Sigma[0,3]*dR[:,m-1,n,j,k+1])/sqrt[m]\n",
    "                    dR[:,m,n,j,k] = (ed(dmu[0],0)*R[:,m-1,n,j,k] + mu[0]*dR[:,m-1,n,j,k]  - ed(dSigma[0,0],0)*sqrt[m-1]*R[:,m-2,n,j,k]  - Sigma[0,0]*sqrt[m-1]*dR[:,m-2,n,j,k]- ed(dSigma[0,1],0)*sqrt[n]*R[:,m-1,n-1,j,k] - Sigma[0,1]*sqrt[n]*dR[:,m-1,n-1,j,k] - ed(dSigma[0,2],0)*R[:,m-1,n,j+1,k] - Sigma[0,2]*dR[:,m-1,n,j+1,k]  - ed(dSigma[0,3],0)*R[:,m-1,n,j,k+1]  - Sigma[0,3]*dR[:,m-1,n,j,k+1])/sqrt[m]\n",
    "    return np.transpose(dR[:,:,:,0,0,:],(3,0,1,2))"
   ]
  },
  {
   "cell_type": "code",
   "execution_count": 468,
   "metadata": {},
   "outputs": [],
   "source": [
    "gamma1 = 1+1j\n",
    "gamma2= 1+1j\n",
    "phi1 =0.1\n",
    "phi2 =0.2\n",
    "theta1 = 0.4\n",
    "varphi1 = 0.4\n",
    "zeta1= 1+1j\n",
    "zeta2= 1+1j\n",
    "theta=0.6\n",
    "varphi=0.2\n",
    "state_in = np.ones((1,2,2),dtype=np.complex128)\n",
    "G00 = np.ones((2,2),dtype=np.complex128)\n",
    "R=R1"
   ]
  },
  {
   "cell_type": "code",
   "execution_count": 469,
   "metadata": {},
   "outputs": [],
   "source": [
    "dpsi2 = dPsi2(gamma1, gamma2, phi1, phi2, theta1, varphi1, zeta1, zeta2, theta, varphi, state_in, G00, R)"
   ]
  },
  {
   "cell_type": "code",
   "execution_count": 470,
   "metadata": {},
   "outputs": [
    {
     "data": {
      "text/plain": [
       "(14, 1, 2, 2)"
      ]
     },
     "execution_count": 470,
     "metadata": {},
     "output_type": "execute_result"
    }
   ],
   "source": [
    "dpsi2.shape"
   ]
  },
  {
   "cell_type": "code",
   "execution_count": 365,
   "metadata": {},
   "outputs": [],
   "source": [
    "dR[:,0,n,j,k] = \n",
    "(ed(dmu[1],0)*R[:,0,n-1,j,k]\n",
    " + ed(mu[1],0)*dR[:,0,n-1,j,k]\n",
    " - ed(dSigma[1,1],0)*sqrt[n-1]*R[:,0,n-2,j,k]\n",
    " - Sigma[1,1]*sqrt[n-1]*dR[:,0,n-2,j,k] \n",
    " - ed(dSigma[1,2],0)*R[:,0,n-1,j+1,k] \n",
    " - Sigma[1,2]*dR[:,0,n-1,j+1,k] \n",
    " - ed(dSigma[1,3],0)*R[:,0,n-1,j,k+1] \n",
    " - Sigma[1,3]*dR[:,0,n-1,j,k+1])/sqrt[n]\n",
    "\n"
   ]
  },
  {
   "cell_type": "code",
   "execution_count": 450,
   "metadata": {},
   "outputs": [],
   "source": [
    "dR = np.zeros((1, 2, 2, 3 , 3, 14),dtype = np.complex128)"
   ]
  },
  {
   "cell_type": "code",
   "execution_count": 462,
   "metadata": {},
   "outputs": [],
   "source": [
    "#dR[batch,D,D,D,D,14] R[bath,D,D,D,D] dmu[4,14] dSigma[4,4,14]\n",
    "# dR[:,0,n,j,k] = [batch,14]\n",
    "j=0\n",
    "k=0\n",
    "n=0\n",
    "m=1\n",
    "dR[:,m,n,j,k] = (ed(dmu[0],0)*R[:,m-1,n,j,k] \n",
    "                 + mu[0]*dR[:,m-1,n,j,k] \n",
    "                 - ed(dSigma[0,0],0)*sqrt[m-1]*R[:,m-2,n,j,k] \n",
    "                 - Sigma[0,0]*sqrt[m-1]*dR[:,m-2,n,j,k]\n",
    "                 - ed(dSigma[0,1],0)*sqrt[n]*R[:,m-1,n-1,j,k] \n",
    "                 - Sigma[0,1]*sqrt[n]*dR[:,m-1,n-1,j,k] \n",
    "                 - ed(dSigma[0,2],0)*R[:,m-1,n,j+1,k] \n",
    "                 - Sigma[0,2]*dR[:,m-1,n,j+1,k] \n",
    "                 - ed(dSigma[0,3],0)*R[:,m-1,n,j,k+1] \n",
    "                 - Sigma[0,3]*dR[:,m-1,n,j,k+1]\n",
    "                )/sqrt[m]\n",
    "           "
   ]
  },
  {
   "cell_type": "code",
   "execution_count": 463,
   "metadata": {},
   "outputs": [],
   "source": [
    "dC, dmu, dSigma = dC_dmu_dSigma2(gamma1, gamma2, phi1, phi2, theta1, varphi1, zeta1, zeta2, theta, varphi)\n",
    "    "
   ]
  },
  {
   "cell_type": "code",
   "execution_count": 464,
   "metadata": {},
   "outputs": [
    {
     "data": {
      "text/plain": [
       "(1, 14)"
      ]
     },
     "execution_count": 464,
     "metadata": {},
     "output_type": "execute_result"
    }
   ],
   "source": [
    "ed(dmu[0],0).shape"
   ]
  },
  {
   "cell_type": "code",
   "execution_count": 465,
   "metadata": {},
   "outputs": [
    {
     "data": {
      "text/plain": [
       "(1,)"
      ]
     },
     "execution_count": 465,
     "metadata": {},
     "output_type": "execute_result"
    }
   ],
   "source": [
    "R[:,0,0,0,0].shape"
   ]
  },
  {
   "cell_type": "code",
   "execution_count": 466,
   "metadata": {},
   "outputs": [
    {
     "data": {
      "text/plain": [
       "array([[[-0.+0.j, -0.+0.j, -0.+0.j, -0.+0.j,  0.-0.j, -0.+0.j, -0.+0.j,\n",
       "         -0.+0.j, -0.+0.j, -0.+0.j, -0.+0.j,  0.+0.j, -0.+0.j, -0.+0.j]]])"
      ]
     },
     "execution_count": 466,
     "metadata": {},
     "output_type": "execute_result"
    }
   ],
   "source": [
    "ed(ed(dSigma[0,0],0),0)*sqrt[m-1]*ed(R[:,m-2,n,j,k],-1)"
   ]
  },
  {
   "cell_type": "code",
   "execution_count": 455,
   "metadata": {},
   "outputs": [
    {
     "data": {
      "text/plain": [
       "array([[-0.+0.j, -0.+0.j, -0.+0.j, -0.+0.j,  0.-0.j, -0.+0.j, -0.+0.j,\n",
       "        -0.+0.j, -0.+0.j, -0.+0.j, -0.+0.j,  0.+0.j, -0.+0.j, -0.+0.j]])"
      ]
     },
     "execution_count": 455,
     "metadata": {},
     "output_type": "execute_result"
    }
   ],
   "source": [
    "ed(dSigma[0,0],0)*sqrt[m-1]*R[:,m-2,n,j,k]"
   ]
  },
  {
   "cell_type": "code",
   "execution_count": 456,
   "metadata": {},
   "outputs": [
    {
     "data": {
      "text/plain": [
       "array([[0.+0.j, 0.+0.j, 0.+0.j, 0.+0.j, 0.+0.j, 0.+0.j, 0.+0.j, 0.+0.j,\n",
       "        0.+0.j, 0.+0.j, 0.+0.j, 0.+0.j, 0.+0.j, 0.+0.j]])"
      ]
     },
     "execution_count": 456,
     "metadata": {},
     "output_type": "execute_result"
    }
   ],
   "source": [
    " ed(mu[0],0)*dR[:,m-1,n,j,k] "
   ]
  },
  {
   "cell_type": "code",
   "execution_count": 391,
   "metadata": {},
   "outputs": [
    {
     "data": {
      "text/plain": [
       "array([[0.+0.j, 0.+0.j, 0.+0.j, 0.+0.j, 0.+0.j, 0.+0.j, 0.+0.j, 0.+0.j,\n",
       "        0.+0.j, 0.+0.j, 0.+0.j, 0.+0.j, 0.+0.j, 0.+0.j]])"
      ]
     },
     "execution_count": 391,
     "metadata": {},
     "output_type": "execute_result"
    }
   ],
   "source": [
    "dR[:,0,0,0,0] "
   ]
  },
  {
   "cell_type": "code",
   "execution_count": 312,
   "metadata": {},
   "outputs": [
    {
     "data": {
      "text/plain": [
       "(1,)"
      ]
     },
     "execution_count": 312,
     "metadata": {},
     "output_type": "execute_result"
    }
   ],
   "source": [
    "R[:,0,0,0,1].shape"
   ]
  },
  {
   "cell_type": "code",
   "execution_count": 324,
   "metadata": {},
   "outputs": [
    {
     "data": {
      "text/plain": [
       "(1, 14)"
      ]
     },
     "execution_count": 324,
     "metadata": {},
     "output_type": "execute_result"
    }
   ],
   "source": [
    "(ed(dSigma[1,1],0)*R[:,0,0,0,0]).shape"
   ]
  },
  {
   "cell_type": "code",
   "execution_count": 316,
   "metadata": {},
   "outputs": [
    {
     "data": {
      "text/plain": [
       "array([[ 0.        +0.j        , -0.00128154-0.00109039j,\n",
       "         0.00251752+0.00629543j, -0.00459624+0.00351062j,\n",
       "        -0.00019115-0.00237193j, -0.01640487-0.00454318j,\n",
       "        -0.0089537 -0.00156751j, -0.00737348-0.0014361j ,\n",
       "         0.00062713+0.00189856j,  0.00094461-0.00031202j,\n",
       "         0.00098901+0.0020264j ,  0.00100821-0.00049207j,\n",
       "         0.        +0.j        ,  0.        +0.j        ]])"
      ]
     },
     "execution_count": 316,
     "metadata": {},
     "output_type": "execute_result"
    }
   ],
   "source": [
    "ed(dmu[1],0)*R[:,0,0,0,0]"
   ]
  },
  {
   "cell_type": "code",
   "execution_count": 326,
   "metadata": {},
   "outputs": [
    {
     "data": {
      "text/plain": [
       "(1, 14)"
      ]
     },
     "execution_count": 326,
     "metadata": {},
     "output_type": "execute_result"
    }
   ],
   "source": [
    "dR[:,0,0,0,0].shape"
   ]
  },
  {
   "cell_type": "code",
   "execution_count": null,
   "metadata": {},
   "outputs": [],
   "source": []
  }
 ],
 "metadata": {
  "kernelspec": {
   "display_name": "thewalrusker",
   "language": "python",
   "name": "thewalrusker"
  },
  "language_info": {
   "codemirror_mode": {
    "name": "ipython",
    "version": 3
   },
   "file_extension": ".py",
   "mimetype": "text/x-python",
   "name": "python",
   "nbconvert_exporter": "python",
   "pygments_lexer": "ipython3",
   "version": "3.6.9"
  }
 },
 "nbformat": 4,
 "nbformat_minor": 2
}
