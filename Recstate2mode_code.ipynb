{
 "cells": [
  {
   "cell_type": "code",
   "execution_count": 1,
   "metadata": {},
   "outputs": [],
   "source": [
    "import numpy as np\n",
    "from recstate2mode import UW_,UV_,C_,mu_,Sigma_,G_matrix"
   ]
  },
  {
   "cell_type": "code",
   "execution_count": 2,
   "metadata": {},
   "outputs": [],
   "source": [
    "gamma = np.array([0,0],dtype = np.complex128)\n",
    "phi = np.array([0,0],dtype = np.complex128)\n",
    "zeta = np.array([0,0],dtype = np.complex128)\n",
    "theta = 0\n",
    "psi = 0\n",
    "theta1 = 0.3\n",
    "psi1 = 0.5\n",
    "cutoff_dim = 4\n",
    "cutoff= 4\n",
    "cutoff_plus = 10\n"
   ]
  },
  {
   "cell_type": "code",
   "execution_count": 3,
   "metadata": {},
   "outputs": [],
   "source": [
    "old_state = np.random.rand(cutoff_dim,cutoff_dim) + 1.0j*np.random.rand(cutoff_dim,cutoff_dim)\n",
    "old_state  /= np.linalg.norm(old_state)"
   ]
  },
  {
   "cell_type": "code",
   "execution_count": 4,
   "metadata": {},
   "outputs": [
    {
     "data": {
      "text/plain": [
       "array([[0.08282601+0.10804998j, 0.18455925+0.0262027j ,\n",
       "        0.26508316+0.00403834j, 0.25363293+0.17037411j],\n",
       "       [0.08897329+0.24856917j, 0.1145089 +0.17107191j,\n",
       "        0.05209445+0.06727625j, 0.15844659+0.2377667j ],\n",
       "       [0.25813197+0.30247816j, 0.04237917+0.04715975j,\n",
       "        0.2552329 +0.15636546j, 0.25428961+0.16713571j],\n",
       "       [0.12234709+0.10323259j, 0.02382239+0.17178233j,\n",
       "        0.1590269 +0.28462191j, 0.20531063+0.18336882j]])"
      ]
     },
     "execution_count": 4,
     "metadata": {},
     "output_type": "execute_result"
    }
   ],
   "source": [
    "old_state"
   ]
  },
  {
   "cell_type": "code",
   "execution_count": 5,
   "metadata": {},
   "outputs": [],
   "source": [
    "W = UW_(phi,theta1,psi1)\n",
    "V = UV_(theta,psi)\n",
    "    \n",
    "C = C_(gamma, W, zeta, V)\n",
    "mu = mu_(gamma, W, zeta, V)\n",
    "Sigma = Sigma_(W, zeta, V)\n",
    "\n",
    "cutoff = old_state.shape[0]\n",
    "dtype = old_state.dtype\n",
    "\n",
    "\n",
    "sqrt = np.sqrt(np.arange(cutoff+1, dtype=dtype))\n",
    "\n",
    "G_00pq = np.zeros((cutoff, cutoff), dtype=dtype)\n",
    "\n",
    "\n",
    "G_00pq[0,0] = C\n",
    "for q in range(1, cutoff):\n",
    "    G_00pq[0,q] = (mu[3]*G_00pq[0,q-1] - Sigma[3,3]*sqrt[q-1]*G_00pq[0,q-2])/sqrt[q]\n",
    "\n",
    "\n",
    "for p in range(1,cutoff):\n",
    "    for q in range(0,cutoff):\n",
    "        G_00pq[p,q] = (mu[2]*G_00pq[p-1,q] - Sigma[2,2]*sqrt[p-1]*G_00pq[p-2,q] - Sigma[2,3]*sqrt[q]*G_00pq[p-1,q-1])/sqrt[p]"
   ]
  },
  {
   "cell_type": "code",
   "execution_count": 6,
   "metadata": {},
   "outputs": [
    {
     "data": {
      "text/plain": [
       "array([ 0.+0.j,  0.+0.j, -0.-0.j, -0.-0.j])"
      ]
     },
     "execution_count": 6,
     "metadata": {},
     "output_type": "execute_result"
    }
   ],
   "source": [
    "mu"
   ]
  },
  {
   "cell_type": "code",
   "execution_count": 7,
   "metadata": {},
   "outputs": [
    {
     "data": {
      "text/plain": [
       "array([[ 0.        +0.j        ,  0.        +0.j        ,\n",
       "        -0.95533649+0.j        ,  0.25934338-0.14167993j],\n",
       "       [ 0.        +0.j        ,  0.        +0.j        ,\n",
       "        -0.25934338-0.14167993j, -0.95533649+0.j        ],\n",
       "       [-0.95533649+0.j        , -0.25934338-0.14167993j,\n",
       "         0.        +0.j        ,  0.        +0.j        ],\n",
       "       [ 0.25934338-0.14167993j, -0.95533649+0.j        ,\n",
       "         0.        +0.j        ,  0.        +0.j        ]])"
      ]
     },
     "execution_count": 7,
     "metadata": {},
     "output_type": "execute_result"
    }
   ],
   "source": [
    "Sigma"
   ]
  },
  {
   "cell_type": "code",
   "execution_count": 8,
   "metadata": {},
   "outputs": [
    {
     "data": {
      "text/plain": [
       "array([[1.+0.j, 0.-0.j, 0.+0.j, 0.-0.j],\n",
       "       [0.-0.j, 0.+0.j, 0.-0.j, 0.+0.j],\n",
       "       [0.+0.j, 0.-0.j, 0.+0.j, 0.-0.j],\n",
       "       [0.-0.j, 0.+0.j, 0.-0.j, 0.+0.j]])"
      ]
     },
     "execution_count": 8,
     "metadata": {},
     "output_type": "execute_result"
    }
   ],
   "source": [
    "G_00pq"
   ]
  },
  {
   "cell_type": "code",
   "execution_count": 9,
   "metadata": {},
   "outputs": [],
   "source": [
    "G = G_matrix(gamma, phi, theta1, psi1, zeta, theta, psi,cutoff)"
   ]
  },
  {
   "cell_type": "code",
   "execution_count": 10,
   "metadata": {
    "scrolled": true
   },
   "outputs": [
    {
     "name": "stdout",
     "output_type": "stream",
     "text": [
      "[[0.16417355+0.1021029j  0.25870328+0.06444796j 0.24628345+0.187593j\n",
      "  0.0074053 +0.08411192j]\n",
      " [0.13348426+0.27844907j 0.0540769 +0.08250631j 0.19540893+0.30386093j\n",
      "  0.04226855+0.07937328j]\n",
      " [0.05759029+0.08916025j 0.22567338+0.19730739j 0.24384951+0.25601657j\n",
      "  0.02726627+0.07664388j]\n",
      " [0.0227584 +0.16410993j 0.1519242 +0.27190969j 0.19614074+0.17517892j\n",
      "  0.        +0.j        ]]\n"
     ]
    }
   ],
   "source": [
    "# R_00^jk = a_dagger^j \\G_00pq> b^k  * |old_state>\n",
    "\n",
    "R = np.zeros((cutoff, cutoff, cutoff+1, cutoff+1), dtype=dtype)\n",
    "sqrts = np.zeros((cutoff, cutoff), dtype=dtype)\n",
    "for m in range(cutoff):\n",
    "    for n in range(cutoff):\n",
    "        sqrts[m,n]= np.sqrt(m+1)*np.sqrt(n+1)\n",
    "        \n",
    "for j in range(cutoff):\n",
    "    for k in range(cutoff):\n",
    "        if j==0 and k ==0:\n",
    "            R[0,0,j,k] = np.sum(G_00pq*old_state)\n",
    "\n",
    "        elif j>0 and k==0:\n",
    "            G_00pq2 = np.zeros((cutoff, cutoff), dtype=dtype)\n",
    "            G_00pq2[j:,:] = G_00pq[:cutoff-j,:] * sqrt[1:cutoff-j+1,None]\n",
    "            R[0,0,j,k] = np.sum(G_00pq2*old_state)\n",
    "\n",
    "        elif k>0 and j==0:\n",
    "            G_00pq2 = np.zeros((cutoff, cutoff), dtype=dtype)\n",
    "            G_00pq2[:,k:] = G_00pq[:,:cutoff-k] * sqrt[1:cutoff-k+1]\n",
    "            R[0,0,j,k] = np.sum(G_00pq2*old_state)\n",
    "\n",
    "        else:\n",
    "            G_00pq2 = np.zeros((cutoff, cutoff), dtype=dtype)\n",
    "            G_00pq2[j:,k:] = G_00pq[:cutoff-j,:cutoff-k] * sqrts[:cutoff-j,:cutoff-k]\n",
    "            R[0,0,j,k] = np.sum(G_00pq2*old_state)\n",
    "\n",
    "#R00jk is correct\n",
    "    \n",
    "#R_0n^jk\n",
    "for n in range(1,cutoff):\n",
    "    for k in range(0,cutoff): \n",
    "        for j in range(0,cutoff):\n",
    "         \n",
    "            R[0,n,j,k] = mu[1]/sqrt[n]*R[0,n-1,j,k] - Sigma[1,1]/sqrt[n]*sqrt[n-1]*R[0,n-2,j,k] - Sigma[1,2]/sqrt[n]*R[0,n-1,j+1,k] - Sigma[1,3]/sqrt[n]*R[0,n-1,j,k+1]\n",
    "#R0100 correct but others are not correct\n",
    "print(R[0,1,:cutoff,:cutoff])\n",
    "\n",
    "for m in range(1,cutoff):\n",
    "    for n in range(0,cutoff):\n",
    "        for j in range(0,cutoff):\n",
    "            for k in range(0,cutoff):\n",
    "                R[m,n,j,k] = mu[0]/sqrt[m]*R[m-1,n,j,k] - Sigma[0,0]/sqrt[m]*sqrt[m-1]*R[m-2,n,j,k] - Sigma[0,1]*sqrt[n]/sqrt[m]*R[m-1,n-1,j,k] - Sigma[0,2]/sqrt[m]*R[m-1,n,j+1,k] - Sigma[0,3]/sqrt[m]*R[m-1,n,j,k+1]\n"
   ]
  },
  {
   "cell_type": "code",
   "execution_count": 11,
   "metadata": {},
   "outputs": [
    {
     "data": {
      "text/plain": [
       "(0.2587032782610768+0.06444795937104594j)"
      ]
     },
     "execution_count": 11,
     "metadata": {},
     "output_type": "execute_result"
    }
   ],
   "source": [
    "#example for R_01^01\n",
    "-Sigma[1,2]*R[0,0,1,1]/sqrt[1]-Sigma[1,3]*R[0,0,0,2]/sqrt[1]"
   ]
  },
  {
   "cell_type": "code",
   "execution_count": 12,
   "metadata": {},
   "outputs": [
    {
     "name": "stdout",
     "output_type": "stream",
     "text": [
      "(0.3636002168769792+0.06604598617563395j)\n"
     ]
    }
   ],
   "source": [
    "#example for R_01^01\n",
    "j=0\n",
    "k=1\n",
    "G22 = G[0,1,:,:]\n",
    "a = np.zeros((cutoff,cutoff),dtype=dtype)\n",
    "if j==0 and k ==0:\n",
    "    a[j,k] = np.sum(G22*old_state)\n",
    "\n",
    "elif j>0 and k==0:\n",
    "    G_00pq2 = np.zeros((cutoff, cutoff), dtype=dtype)\n",
    "    G_00pq2[j:,:] = G22[:cutoff-j,:] * sqrt[1:cutoff-j+1,None]\n",
    "    a[j,k]  = np.sum(G_00pq2*old_state)\n",
    "\n",
    "elif k>0 and j==0:\n",
    "    G_00pq2 = np.zeros((cutoff, cutoff), dtype=dtype)\n",
    "    G_00pq2[:,k:] = G22[:,:cutoff-k] * sqrt[1:cutoff-k+1]\n",
    "    a[j,k]  = np.sum(G_00pq2*old_state)\n",
    "else:\n",
    "    G_00pq2 = np.zeros((cutoff, cutoff), dtype=dtype)\n",
    "    G_00pq2[j:,k:] = G22[:cutoff-j,:cutoff-k]  * sqrts[:cutoff-j,:cutoff-k]\n",
    "    a[j,k]  = np.sum(G_00pq2*old_state)\n",
    "print(a[j,k])\n"
   ]
  },
  {
   "cell_type": "code",
   "execution_count": null,
   "metadata": {},
   "outputs": [],
   "source": []
  },
  {
   "cell_type": "code",
   "execution_count": 13,
   "metadata": {},
   "outputs": [
    {
     "name": "stdout",
     "output_type": "stream",
     "text": [
      "R_01 [[0.16417355+0.1021029j  0.36360022+0.06604599j 0.34664938+0.2550123j\n",
      "  0.0074053 +0.08411192j]\n",
      " [0.14346255+0.32609102j 0.07647628+0.11668154j 0.27634995+0.42972425j\n",
      "  0.05977676+0.11225076j]\n",
      " [0.06467497+0.10742989j 0.31915035+0.27903479j 0.34485528+0.36206211j\n",
      "  0.03856033+0.10839082j]\n",
      " [0.0227584 +0.16410993j 0.21485326+0.38453837j 0.27738489+0.24774041j\n",
      "  0.        +0.j        ]]\n"
     ]
    }
   ],
   "source": [
    "#Use g_matrix to get the R matrix\n",
    "m=0\n",
    "n=1\n",
    "G22 = G[m,n,:,:]\n",
    "a = np.zeros((cutoff,cutoff),dtype=dtype)\n",
    "for j in range(cutoff):\n",
    "    for k in range(cutoff):\n",
    "        if j==0 and k ==0:\n",
    "            a[j,k] = np.sum(G22*old_state)\n",
    "\n",
    "        elif j>0 and k==0:\n",
    "            G_00pq2 = np.zeros((cutoff, cutoff), dtype=dtype)\n",
    "            G_00pq2[j:,:] = G22[:cutoff-j,:] * sqrt[1:cutoff-j+1,None]\n",
    "            a[j,k]  = np.sum(G_00pq2*old_state)\n",
    "\n",
    "        elif k>0 and j==0:\n",
    "            G_00pq2 = np.zeros((cutoff, cutoff), dtype=dtype)\n",
    "            G_00pq2[:,k:] = G22[:,:cutoff-k] * sqrt[1:cutoff-k+1]\n",
    "            a[j,k]  = np.sum(G_00pq2*old_state)\n",
    "        else:\n",
    "            G_00pq2 = np.zeros((cutoff, cutoff), dtype=dtype)\n",
    "            G_00pq2[j:,k:] = G22[:cutoff-j,:cutoff-k]  * sqrts[:cutoff-j,:cutoff-k]\n",
    "            a[j,k]  = np.sum(G_00pq2*old_state)\n",
    "print(\"R_01\",a)# a = R[m,n,:,:]"
   ]
  },
  {
   "cell_type": "code",
   "execution_count": 14,
   "metadata": {},
   "outputs": [
    {
     "data": {
      "text/plain": [
       "array([[0.16417355+0.1021029j , 0.25870328+0.06444796j,\n",
       "        0.24628345+0.187593j  , 0.0074053 +0.08411192j],\n",
       "       [0.13348426+0.27844907j, 0.0540769 +0.08250631j,\n",
       "        0.19540893+0.30386093j, 0.04226855+0.07937328j],\n",
       "       [0.05759029+0.08916025j, 0.22567338+0.19730739j,\n",
       "        0.24384951+0.25601657j, 0.02726627+0.07664388j],\n",
       "       [0.0227584 +0.16410993j, 0.1519242 +0.27190969j,\n",
       "        0.19614074+0.17517892j, 0.        +0.j        ]])"
      ]
     },
     "execution_count": 14,
     "metadata": {},
     "output_type": "execute_result"
    }
   ],
   "source": [
    "R[0,1,:cutoff,:cutoff]"
   ]
  },
  {
   "cell_type": "code",
   "execution_count": null,
   "metadata": {},
   "outputs": [],
   "source": []
  },
  {
   "cell_type": "code",
   "execution_count": null,
   "metadata": {},
   "outputs": [],
   "source": []
  },
  {
   "cell_type": "code",
   "execution_count": null,
   "metadata": {},
   "outputs": [],
   "source": []
  },
  {
   "cell_type": "code",
   "execution_count": 15,
   "metadata": {},
   "outputs": [
    {
     "data": {
      "text/plain": [
       "array([[ 0.08282601+0.10804998j,  0.16417355+0.1021029j ,\n",
       "         0.17134349+0.10797199j,  0.09201985+0.09600846j],\n",
       "       [ 0.03342281+0.25682004j,  0.05129842+0.28595147j,\n",
       "        -0.02798599+0.05998924j,  0.06849665+0.14239007j],\n",
       "       [ 0.10277254+0.14354319j,  0.02039057+0.03244342j,\n",
       "        -0.00669351+0.04766186j,  0.02701845+0.0738171j ],\n",
       "       [ 0.03047712+0.03156004j, -0.05254075+0.0369466j ,\n",
       "        -0.03591777+0.0253554j ,  0.00573157+0.00511903j]])"
      ]
     },
     "execution_count": 15,
     "metadata": {},
     "output_type": "execute_result"
    }
   ],
   "source": [
    "#Result from recursive process\n",
    "R[:,:,0,0]"
   ]
  },
  {
   "cell_type": "code",
   "execution_count": null,
   "metadata": {},
   "outputs": [],
   "source": []
  },
  {
   "cell_type": "code",
   "execution_count": 16,
   "metadata": {},
   "outputs": [
    {
     "data": {
      "text/plain": [
       "array([[ 0.08282601+0.10804998j,  0.16417355+0.1021029j ,\n",
       "         0.23926094+0.1187879j ,  0.22257325+0.19997196j],\n",
       "       [ 0.03342281+0.25682004j,  0.03340031+0.34591291j,\n",
       "        -0.1009213 +0.08901967j,  0.14866611+0.31548446j],\n",
       "       [ 0.17552536+0.21875007j,  0.05739005+0.06793765j,\n",
       "        -0.04632552+0.09841107j,  0.09359466+0.25570994j],\n",
       "       [ 0.08613786+0.08530314j, -0.09034998+0.09240627j,\n",
       "        -0.12442281+0.08783367j,  0.03438944+0.03071419j]])"
      ]
     },
     "execution_count": 16,
     "metadata": {},
     "output_type": "execute_result"
    }
   ],
   "source": [
    "#Result from G matrix\n",
    "np.einsum(\"cd,abcd->ab\",old_state,G)"
   ]
  },
  {
   "cell_type": "code",
   "execution_count": 17,
   "metadata": {},
   "outputs": [
    {
     "data": {
      "text/plain": [
       "(0.08282601003517769+0.10804997686262965j)"
      ]
     },
     "execution_count": 17,
     "metadata": {},
     "output_type": "execute_result"
    }
   ],
   "source": [
    "np.sum(G[0,0,:,:]*old_state)"
   ]
  },
  {
   "cell_type": "code",
   "execution_count": 18,
   "metadata": {},
   "outputs": [
    {
     "data": {
      "text/plain": [
       "(0.16417355377621168+0.1021028968907539j)"
      ]
     },
     "execution_count": 18,
     "metadata": {},
     "output_type": "execute_result"
    }
   ],
   "source": [
    "np.sum(G[0,1,:,:]*old_state)"
   ]
  },
  {
   "cell_type": "code",
   "execution_count": null,
   "metadata": {},
   "outputs": [],
   "source": []
  },
  {
   "cell_type": "code",
   "execution_count": null,
   "metadata": {},
   "outputs": [],
   "source": []
  }
 ],
 "metadata": {
  "kernelspec": {
   "display_name": "thewalrusker",
   "language": "python",
   "name": "thewalrusker"
  },
  "language_info": {
   "codemirror_mode": {
    "name": "ipython",
    "version": 3
   },
   "file_extension": ".py",
   "mimetype": "text/x-python",
   "name": "python",
   "nbconvert_exporter": "python",
   "pygments_lexer": "ipython3",
   "version": "3.6.9"
  }
 },
 "nbformat": 4,
 "nbformat_minor": 2
}
