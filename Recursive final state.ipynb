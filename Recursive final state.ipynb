{
 "cells": [
  {
   "cell_type": "code",
   "execution_count": 1,
   "metadata": {},
   "outputs": [],
   "source": [
    "import numpy as np\n",
    "np.set_printoptions(suppress=True, linewidth=280)\n",
    "from numba import jit\n",
    "from matplotlib import pyplot as plt\n",
    "from tqdm.notebook import tqdm\n",
    "import tensorflow as tf\n",
    "from typing import List, Dict\n",
    "from recstate import C_, mu_, Sigma_, dC_, dmu_, dSigma_, RG, new_state, G_matrix\n",
    "\n",
    "%load_ext autoreload\n",
    "%autoreload 2"
   ]
  },
  {
   "cell_type": "code",
   "execution_count": 47,
   "metadata": {},
   "outputs": [],
   "source": [
    "@jit(nopython = True)\n",
    "def approx_new_state(gamma, phi, z, old_state, order = None):\n",
    "    \"\"\"\n",
    "    Constructs the transformed state recursively and exactly\n",
    "    up to the Nth Fock amplitude, indicated by the keyword argument `order`.\n",
    "    \"\"\"\n",
    "    C = C_(gamma, phi, z)\n",
    "    mu = mu_(gamma, phi, z)\n",
    "    Sigma = Sigma_(gamma, phi, z)\n",
    "    \n",
    "    cutoff = old_state.shape[0]\n",
    "    dtype = old_state.dtype\n",
    "    sqrt = np.sqrt(np.arange(cutoff, dtype=dtype))\n",
    "    if order is None:\n",
    "        order = cutoff\n",
    "    \n",
    "    R = np.zeros((cutoff, cutoff), dtype=dtype)\n",
    "    G = np.zeros(cutoff, dtype=dtype)\n",
    "    \n",
    "    # first row of Transformation matrix\n",
    "    G[0] = C\n",
    "    for n in range(1, cutoff):\n",
    "        G[n] = mu[1]/sqrt[n]*G[n-1] - Sigma[1,1]*sqrt[n-1]/sqrt[n]*G[n-2]\n",
    "    \n",
    "    # first row of R matrix\n",
    "    for n in range(order):\n",
    "        R[0, n] = np.dot(G[:cutoff - n], old_state)\n",
    "        old_state = old_state[1:]*sqrt[1:cutoff-n]\n",
    "\n",
    "    # rest of R matrix\n",
    "    for m in range(1, cutoff):\n",
    "        for n in range(max(1, order-m)): \n",
    "            R[m, n] = mu[0]/sqrt[m]*R[m-1, n] - Sigma[0,0]*sqrt[m-1]/sqrt[m]*R[m-2, n] - Sigma[0,1]/sqrt[m]*R[m-1, n+1]\n",
    "            \n",
    "    return R[:, 0]"
   ]
  },
  {
   "cell_type": "code",
   "execution_count": 48,
   "metadata": {},
   "outputs": [],
   "source": [
    "state = np.random.rand(100) + 1.0j*np.random.rand(100)\n",
    "state /= np.linalg.norm(state)"
   ]
  },
  {
   "cell_type": "code",
   "execution_count": 52,
   "metadata": {},
   "outputs": [
    {
     "data": {
      "text/plain": [
       "array([0.+0.j, 0.+0.j, 0.+0.j, 0.+0.j, 0.+0.j, 0.+0.j, 0.+0.j, 0.+0.j, 0.+0.j, 0.+0.j])"
      ]
     },
     "execution_count": 52,
     "metadata": {},
     "output_type": "execute_result"
    }
   ],
   "source": [
    "approx_state(0.1+0.1j, 0.1, 0.1-0.1j, state, order=10)[:10] - new_state(0.1+0.1j, 0.1, 0.1-0.1j, state)[:10]"
   ]
  },
  {
   "cell_type": "code",
   "execution_count": null,
   "metadata": {},
   "outputs": [],
   "source": []
  },
  {
   "cell_type": "code",
   "execution_count": 38,
   "metadata": {},
   "outputs": [
    {
     "name": "stdout",
     "output_type": "stream",
     "text": [
      "15.7 µs ± 160 ns per loop (mean ± std. dev. of 7 runs, 100000 loops each)\n"
     ]
    }
   ],
   "source": [
    "%timeit approx_state(0.1+0.1j, 0.1, 0.1-0.1j, state, order=11)"
   ]
  },
  {
   "cell_type": "code",
   "execution_count": 42,
   "metadata": {},
   "outputs": [
    {
     "name": "stdout",
     "output_type": "stream",
     "text": [
      "6.48 µs ± 101 ns per loop (mean ± std. dev. of 7 runs, 100000 loops each)\n"
     ]
    }
   ],
   "source": [
    "%timeit new_state(0.1+0.1j, 0.1, 0.1-0.1j, state)"
   ]
  },
  {
   "cell_type": "code",
   "execution_count": null,
   "metadata": {},
   "outputs": [],
   "source": []
  },
  {
   "cell_type": "code",
   "execution_count": null,
   "metadata": {},
   "outputs": [],
   "source": [
    "@jit(nopython = True)\n",
    "def grad_state(gamma, phi, zeta, old_state):\n",
    "    \"\"\"\n",
    "    Gradient of the new state\n",
    "    \"\"\"\n",
    "    \n",
    "    C = C_(gamma, phi, zeta)\n",
    "    dC = dC_(gamma, phi, zeta)\n",
    "    mu = mu_(gamma, phi, zeta)\n",
    "    dmu = dmu_(gamma, phi, zeta)\n",
    "    Sigma = Sigma_(gamma, phi, zeta)\n",
    "    dSigma = dSigma_(gamma, phi, zeta)\n",
    "    \n",
    "    R, G = RG(C, mu, Sigma, old_state)\n",
    "    \n",
    "    cutoff = len(old_state)\n",
    "    dtype = old_state.dtype\n",
    "    sqrt = np.sqrt(np.arange(cutoff, dtype=dtype))\n",
    "    if order is None:\n",
    "        order = cutoff\n",
    "    \n",
    "    dR = np.zeros((cutoff, cutoff, 5), dtype=dtype)\n",
    "    dG = np.zeros((cutoff, 5), dtype=dtype)\n",
    "    \n",
    "    # grad of first row of Transformation matrix\n",
    "    dG[0] = dC\n",
    "    for n in range(cutoff-1):\n",
    "        dG[n+1] = (dmu[1]*G[n] + mu[1]*dG[n] - dSigma[1,1]*sqrt[n]*G[n-1] - Sigma[1,1]*sqrt[n]*dG[n-1])/sqrt[n+1]\n",
    "    \n",
    "    # first row of dR matrix\n",
    "    for n in range(cutoff):\n",
    "        dR[0, n] = np.dot(np.transpose(dG[:cutoff - n]), old_state)\n",
    "        old_state = old_state[1:]*sqrt[1:cutoff-n]\n",
    "\n",
    "    # rest of dR matrix\n",
    "    for m in range(cutoff - 1):\n",
    "        for k in range(cutoff - m - 1):\n",
    "            dR[m+1, k] = (dmu[0]*R[m, k] + mu[0]*dR[m, k] - dSigma[0,0]*sqrt[m]*R[m-1, k] - Sigma[0,0]*sqrt[m]*dR[m-1, k] - Sigma[0,1]*dR[m, k+1] - dSigma[0,1]*R[m, k+1])/sqrt[m+1]\n",
    "            \n",
    "    return np.transpose(dR[:,0])"
   ]
  },
  {
   "cell_type": "code",
   "execution_count": 3,
   "metadata": {},
   "outputs": [],
   "source": [
    "@tf.custom_gradient\n",
    "def Ggate(gamma, phi, zeta, Psi):\n",
    "    \"\"\"\n",
    "    Direct evolution of a quantum state\n",
    "    \"\"\"\n",
    "    gamma = gamma.numpy()\n",
    "    phi = phi.numpy()\n",
    "    zeta = zeta.numpy()\n",
    "    Psi = Psi.numpy()\n",
    "    cutoff = Psi.shape[0]\n",
    "    \n",
    "    Psi_new = new_state(gamma, phi, zeta, Psi)\n",
    "    \n",
    "    def grad(dy):\n",
    "        \"Vector-Jacobian products for all the arguments\"\n",
    "        dPsi = grad_state(gamma, phi, zeta, Psi) # gradients wrt g,g*,phi,z,z* \n",
    "        grad_gamma = tf.reduce_sum(dy*np.conj(dPsi[0]) + tf.math.conj(dy)*dPsi[1])\n",
    "        grad_phi = 2*tf.math.real(tf.reduce_sum(dy*np.conj(dPsi[2])))\n",
    "        grad_zeta = tf.reduce_sum(dy*np.conj(dPsi[3]) + tf.math.conj(dy)*dPsi[4])\n",
    "        grad_Psi = tf.linalg.matvec(G_matrix(gamma, phi, zeta, cutoff), dy, adjoint_a=True)\n",
    "        \n",
    "        return grad_gamma, grad_phi, grad_zeta, grad_Psi\n",
    "    \n",
    "    return Psi_new, grad"
   ]
  },
  {
   "cell_type": "code",
   "execution_count": 5,
   "metadata": {},
   "outputs": [
    {
     "name": "stdout",
     "output_type": "stream",
     "text": [
      "53.9 ms ± 1.05 ms per loop (mean ± std. dev. of 7 runs, 10 loops each)\n"
     ]
    }
   ],
   "source": [
    "%%timeit\n",
    "state = np.ones(100, dtype=np.complex128)\n",
    "for i in range(35):\n",
    "    state1 = grad_state(0.1+0.0j, 0.1, 0.1+0.1j, state)"
   ]
  },
  {
   "cell_type": "code",
   "execution_count": 5,
   "metadata": {},
   "outputs": [
    {
     "name": "stdout",
     "output_type": "stream",
     "text": [
      "176 µs ± 62.2 µs per loop (mean ± std. dev. of 7 runs, 1 loop each)\n"
     ]
    }
   ],
   "source": [
    "%%timeit \n",
    "gamma, phi, zeta = 0.1+0.0j, 0.1, 0.1+0.1j\n",
    "old_state = np.ones(100, dtype=np.complex128)\n",
    "C = C_(gamma, phi, zeta)\n",
    "dC = dC_(gamma, phi, zeta)\n",
    "mu = mu_(gamma, phi, zeta)\n",
    "dmu = dmu_(gamma, phi, zeta)\n",
    "Sigma = Sigma_(gamma, phi, zeta)\n",
    "dSigma = dSigma_(gamma, phi, zeta)\n",
    "    \n",
    "R, G = RG(C, mu, Sigma, old_state)"
   ]
  },
  {
   "cell_type": "code",
   "execution_count": 4,
   "metadata": {},
   "outputs": [],
   "source": [
    "def kerr(k, cutoff):\n",
    "    diag = tf.exp(1j*tf.cast(k, dtype=tf.complex128)*np.arange(cutoff)**2)\n",
    "    return diag"
   ]
  },
  {
   "cell_type": "code",
   "execution_count": null,
   "metadata": {},
   "outputs": [],
   "source": []
  },
  {
   "cell_type": "code",
   "execution_count": 5,
   "metadata": {},
   "outputs": [],
   "source": [
    "def Layer(gamma, phi, zeta, k, state_in):\n",
    "    state_out = Ggate(gamma, phi, zeta, state_in)\n",
    "    return kerr(k, len(state_in))*state_out\n",
    "\n",
    "def init_complex(layers, scale=0.01):\n",
    "    return np.random.normal(scale=scale, size=layers) + 1j*np.random.normal(scale=scale, size=layers)\n",
    "\n",
    "def init_real(layers, scale=0.01):\n",
    "    return np.random.normal(scale=scale, size=layers)\n",
    "\n",
    "def loss(state, objective):\n",
    "    return 1.0 - tf.abs(tf.reduce_sum(state*tf.math.conj(objective)))# + tf.reduce_sum([tf.math.abs(v) for v in variables])\n",
    "\n",
    "def Fidelity(state, objective):\n",
    "    return tf.abs(tf.reduce_sum(state*tf.math.conj(objective)))**2"
   ]
  },
  {
   "cell_type": "code",
   "execution_count": 6,
   "metadata": {},
   "outputs": [],
   "source": [
    "from dataclasses import dataclass\n",
    "\n",
    "@dataclass\n",
    "class Variables:\n",
    "    gamma: tf.Variable\n",
    "    phi: tf.Tensor\n",
    "    zeta: tf.Variable\n",
    "    kappa: tf.Variable\n",
    "    \n",
    "    @property\n",
    "    def learnable(self):\n",
    "        return [self.gamma, self.zeta, self.kappa]\n",
    "    \n",
    "    @property\n",
    "    def all(self):\n",
    "        return [self.gamma, self.phi, self.zeta, self.kappa]"
   ]
  },
  {
   "cell_type": "code",
   "execution_count": 7,
   "metadata": {},
   "outputs": [],
   "source": [
    "def Circuit(variables: Variables, state_in: tf.Tensor) -> tf.Tensor:\n",
    "    gamma, phi, zeta, k = variables.all\n",
    "    layers = gamma.shape[0]\n",
    "    cutoff = state_in.shape[0]\n",
    "    \n",
    "    state = state_in \n",
    "    for i in range(layers):\n",
    "        state = Layer(variables.gamma[i], variables.phi[i], variables.zeta[i], variables.kappa[i], state)\n",
    "        \n",
    "    return state\n",
    "\n",
    "def circuit_loss() -> tf.float64:\n",
    "    state_out = Circuit(variables, state_in)\n",
    "    return loss(state_out, ON)\n",
    "\n"
   ]
  },
  {
   "cell_type": "code",
   "execution_count": 8,
   "metadata": {},
   "outputs": [],
   "source": [
    "np.random.seed(137)\n",
    "tf.random.set_seed(137)\n",
    "\n",
    "cutoff = 20\n",
    "\n",
    "LR = 0.001\n",
    "steps = 2500\n",
    "layers = 10\n",
    "\n",
    "\n",
    "state_in = tf.constant(np.eye(cutoff)[0] - np.eye(cutoff)[9], dtype=tf.complex128)/np.sqrt(2)\n",
    "ON = tf.constant(np.eye(cutoff)[0] + np.eye(cutoff)[9], dtype=tf.complex128)/np.sqrt(2)\n",
    "PHOTON = tf.constant(np.eye(cutoff)[1], dtype=tf.complex128)\n",
    "\n",
    "optimizer = tf.optimizers.SGD(LR)\n",
    "\n",
    "gamma = tf.Variable(init_complex(layers, 0.01), dtype=tf.complex128, name=f'gamma')\n",
    "phi = tf.constant(init_real(layers), dtype=tf.float64, name=f'phi')\n",
    "zeta = tf.Variable(init_complex(layers, 0.01), dtype=tf.complex128, name=f'zeta')\n",
    "kappa = tf.Variable(init_real(layers, 0.01), dtype=tf.float64, name=f'kappa')\n",
    "\n",
    "variables = Variables(gamma, phi, zeta, kappa)\n",
    "\n",
    "losses = []"
   ]
  },
  {
   "cell_type": "code",
   "execution_count": 9,
   "metadata": {},
   "outputs": [
    {
     "data": {
      "application/vnd.jupyter.widget-view+json": {
       "model_id": "3bfb5df8c55843dc9782a9eac4c48b87",
       "version_major": 2,
       "version_minor": 0
      },
      "text/plain": [
       "HBox(children=(FloatProgress(value=0.0, max=2500.0), HTML(value='')))"
      ]
     },
     "metadata": {},
     "output_type": "display_data"
    },
    {
     "name": "stdout",
     "output_type": "stream",
     "text": [
      "Fidelity: 97.38281%\n"
     ]
    },
    {
     "data": {
      "image/png": "[encoded data removed]",
      "text/plain": [
       "<Figure size 432x288 with 1 Axes>"
      ]
     },
     "metadata": {
      "needs_background": "light"
     },
     "output_type": "display_data"
    }
   ],
   "source": [
    "try:\n",
    "    for _ in tqdm(range(steps)):\n",
    "#         with tf.GradientTape(persistent=True) as tape:\n",
    "#             state_out = Circuit(variables, state_in)\n",
    "#             loss_val = loss(state_out, ON)\n",
    "        \n",
    "#         losses.append(loss_val)\n",
    "        optimizer.minimize(circuit_loss, variables.learnable)\n",
    "#         dv = tape.gradient(loss_val, learning_variables)\n",
    "#         optimizer.apply_gradients(zip(dv, learning_variables))\n",
    "        print(f'Fidelity: {100*(Fidelity(Circuit(variables,state_in), ON).numpy()):.5f}%', end='\\r')\n",
    "\n",
    "except KeyboardInterrupt:\n",
    "    pass\n",
    "\n",
    "finally:\n",
    "    plt.plot(losses[10:])"
   ]
  },
  {
   "cell_type": "code",
   "execution_count": null,
   "metadata": {},
   "outputs": [],
   "source": [
    "try:\n",
    "    for _ in tqdm(range(steps)):\n",
    "#         with tf.GradientTape(persistent=True) as tape:\n",
    "#             state_out = Circuit(variables, state_in)\n",
    "#             loss_val = loss(state_out, ON)\n",
    "        \n",
    "#         losses.append(loss_val)\n",
    "        optimizer.minimize(circuit_loss, variables.learnable)\n",
    "#         dv = tape.gradient(loss_val, learning_variables)\n",
    "#         optimizer.apply_gradients(zip(dv, learning_variables))\n",
    "        print(f'Fidelity: {100*(Fidelity(Circuit(variables,state_in), ON).numpy()):.5f}%', end='\\r')\n",
    "\n",
    "except KeyboardInterrupt:\n",
    "    pass\n",
    "\n",
    "finally:\n",
    "    plt.plot(losses[10:])"
   ]
  },
  {
   "cell_type": "markdown",
   "metadata": {},
   "source": [
    "# Scrapbook"
   ]
  },
  {
   "cell_type": "code",
   "execution_count": 1,
   "metadata": {},
   "outputs": [],
   "source": [
    "from jax import numpy as jnp\n",
    "from jax import grad"
   ]
  },
  {
   "cell_type": "code",
   "execution_count": 2,
   "metadata": {},
   "outputs": [],
   "source": [
    "def C_jax(gamma, phi, z):\n",
    "    r = jnp.abs(z)\n",
    "    delta = jnp.angle(z)\n",
    "    return jnp.exp(-0.5*jnp.abs(gamma)**2 - 0.5*jnp.conj(gamma)**2*jnp.exp(1j*(2*phi+delta))*jnp.tanh(r))/jnp.sqrt(jnp.cosh(r))\n",
    "\n",
    "def C_jax(gamma_r, gamma_phi, phi, r, delta):\n",
    "    return jnp.exp(-0.5*gamma_r**2 - 0.5*gamma_r**2*jnp.exp(-2j*gamma_phi)*jnp.exp(1j*(2*phi+delta))*jnp.tanh(r))/jnp.sqrt(jnp.cosh(r))"
   ]
  },
  {
   "cell_type": "code",
   "execution_count": null,
   "metadata": {},
   "outputs": [],
   "source": [
    "def example(x, y, z, r, delta):\n",
    "    return jnp.exp(-0.5*gamma_r**2 - 0.5*gamma_r**2*jnp.exp(-2j*gamma_phi)*jnp.exp(1j*(2*phi+delta))*jnp.tanh(r))/jnp.sqrt(jnp.cosh(r))"
   ]
  },
  {
   "cell_type": "code",
   "execution_count": 3,
   "metadata": {},
   "outputs": [
    {
     "name": "stderr",
     "output_type": "stream",
     "text": [
      "/Users/filippo/.pyenv/versions/3.7.3/lib/python3.7/site-packages/jax/lib/xla_bridge.py:116: UserWarning: No GPU/TPU found, falling back to CPU.\n",
      "  warnings.warn('No GPU/TPU found, falling back to CPU.')\n"
     ]
    },
    {
     "data": {
      "text/plain": [
       "DeviceArray(0.00029206, dtype=float32)"
      ]
     },
     "execution_count": 3,
     "metadata": {},
     "output_type": "execute_result"
    }
   ],
   "source": [
    "grad(C_jax, argnums=2, holomorphic=True)(0.1, 0.1, 0.2, 0.1, 0.1)"
   ]
  },
  {
   "cell_type": "code",
   "execution_count": 101,
   "metadata": {},
   "outputs": [
    {
     "data": {
      "text/plain": [
       "array([-0.04935445+0.0049593j , -0.05846361-0.00879386j,  0.00029206-0.00094465j, -0.05884929+0.0029864j , -0.04916183-0.00491558j])"
      ]
     },
     "execution_count": 101,
     "metadata": {},
     "output_type": "execute_result"
    }
   ],
   "source": [
    "dC_(0.1*np.exp(0.1j), 0.2, 0.1*np.exp(0.1j))"
   ]
  },
  {
   "cell_type": "code",
   "execution_count": 92,
   "metadata": {},
   "outputs": [],
   "source": []
  },
  {
   "cell_type": "code",
   "execution_count": null,
   "metadata": {},
   "outputs": [],
   "source": []
  },
  {
   "cell_type": "code",
   "execution_count": 7,
   "metadata": {},
   "outputs": [],
   "source": [
    "from jax import numpy as np\n",
    "from numpy import exp"
   ]
  },
  {
   "cell_type": "code",
   "execution_count": 8,
   "metadata": {},
   "outputs": [
    {
     "data": {
      "text/plain": [
       "DeviceArray([ 0.10776229+0.0117094j , -0.09851364-0.00988433j], dtype=complex64)"
      ]
     },
     "execution_count": 8,
     "metadata": {},
     "output_type": "execute_result"
    }
   ],
   "source": [
    "mu_(0.1+0.0j, 0.1, 0.1+0.1j)"
   ]
  },
  {
   "cell_type": "code",
   "execution_count": 9,
   "metadata": {},
   "outputs": [],
   "source": [
    "from jax import grad, jacfwd"
   ]
  },
  {
   "cell_type": "code",
   "execution_count": 10,
   "metadata": {},
   "outputs": [
    {
     "data": {
      "text/plain": [
       "DeviceArray([0.09703309+0.01966958j, 0.00986763+0.00099007j], dtype=complex64)"
      ]
     },
     "execution_count": 10,
     "metadata": {},
     "output_type": "execute_result"
    }
   ],
   "source": [
    "jacfwd(mu_, argnums=2)(0.1, 0.1, 0.1)"
   ]
  },
  {
   "cell_type": "code",
   "execution_count": 8,
   "metadata": {},
   "outputs": [
    {
     "data": {
      "text/plain": [
       "array([[[ 0.        +0.j        ,  0.        +0.j        ],\n",
       "        [ 0.        +0.j        ,  0.        +0.j        ]],\n",
       "\n",
       "       [[ 0.        +0.j        ,  0.        +0.j        ],\n",
       "        [ 0.        +0.j        ,  0.        +0.j        ]],\n",
       "\n",
       "       [[-0.05890781+0.19043294j,  0.09933632-0.99004979j],\n",
       "        [ 0.09933632-0.99004979j,  0.        +0.j        ]],\n",
       "\n",
       "       [[ 0.94584645+0.29258459j,  0.09867628+0.00990065j],\n",
       "        [ 0.09867628+0.00990065j, -0.98512008+0.0988417j ]],\n",
       "\n",
       "       [[-0.02945391+0.09521647j,  0.        +0.j        ],\n",
       "        [ 0.        +0.j        ,  0.0099502 +0.09917007j]]])"
      ]
     },
     "execution_count": 8,
     "metadata": {},
     "output_type": "execute_result"
    }
   ],
   "source": [
    "dSigma_(0.0+0.0j, 0.1, 0.1*exp(0.1j))"
   ]
  },
  {
   "cell_type": "code",
   "execution_count": null,
   "metadata": {},
   "outputs": [],
   "source": []
  },
  {
   "cell_type": "code",
   "execution_count": null,
   "metadata": {},
   "outputs": [],
   "source": []
  },
  {
   "cell_type": "code",
   "execution_count": null,
   "metadata": {},
   "outputs": [],
   "source": []
  },
  {
   "cell_type": "code",
   "execution_count": null,
   "metadata": {},
   "outputs": [],
   "source": []
  },
  {
   "cell_type": "code",
   "execution_count": null,
   "metadata": {},
   "outputs": [],
   "source": []
  },
  {
   "cell_type": "code",
   "execution_count": null,
   "metadata": {},
   "outputs": [],
   "source": []
  },
  {
   "cell_type": "code",
   "execution_count": null,
   "metadata": {},
   "outputs": [],
   "source": []
  },
  {
   "cell_type": "code",
   "execution_count": null,
   "metadata": {},
   "outputs": [],
   "source": []
  },
  {
   "cell_type": "code",
   "execution_count": null,
   "metadata": {},
   "outputs": [],
   "source": []
  },
  {
   "cell_type": "code",
   "execution_count": null,
   "metadata": {},
   "outputs": [],
   "source": []
  },
  {
   "cell_type": "code",
   "execution_count": null,
   "metadata": {},
   "outputs": [],
   "source": []
  },
  {
   "cell_type": "code",
   "execution_count": null,
   "metadata": {},
   "outputs": [],
   "source": []
  },
  {
   "cell_type": "code",
   "execution_count": null,
   "metadata": {},
   "outputs": [],
   "source": []
  },
  {
   "cell_type": "markdown",
   "metadata": {},
   "source": [
    "# Recursive loops"
   ]
  },
  {
   "cell_type": "code",
   "execution_count": 215,
   "metadata": {},
   "outputs": [],
   "source": [
    "def recursive_loop(cutoff, n, indices=[]):\n",
    "    if n >= 1:\n",
    "        for k in range(int(n==1), cutoff):\n",
    "            recursive_loop(cutoff, n - 1, indices+[k])\n",
    "    else:\n",
    "        i = len(indices)\n",
    "        E = list(np.identity(i))\n",
    "        Psi[tuple(np.array(indices)+E[i])] = (mu[i]*Psi[tuple(indices)] - np.sum([Sigma[i, l]*sqrt[indices[l]]*Psi[tuple(np.array(indices)-E(l))] for l in range(i)]))/sqrt[indices[i]+1]"
   ]
  },
  {
   "cell_type": "code",
   "execution_count": null,
   "metadata": {},
   "outputs": [],
   "source": []
  },
  {
   "cell_type": "code",
   "execution_count": null,
   "metadata": {},
   "outputs": [],
   "source": []
  },
  {
   "cell_type": "code",
   "execution_count": 40,
   "metadata": {},
   "outputs": [],
   "source": [
    "def e(size, n):\n",
    "    z = np.zeros(size, dtype=np.int32)\n",
    "    z[n] = 1\n",
    "    return z\n",
    "\n",
    "\n",
    "def Gaussian_state(C, mu, Sigma, cutoff, dtype=np.complex128):\n",
    "    \n",
    "    sqrt = np.sqrt(np.arange(cutoff, dtype=dtype))\n",
    "    modes = len(mu)//2\n",
    "    \n",
    "    Psi = np.zeros([cutoff]*modes, dtype=dtype)\n",
    "    Psi[tuple(np.zeros(modes, dtype=np.int32))] = C\n",
    "    \n",
    "    for i in range(modes):\n",
    "        for indices in product(range(cutoff), repeat=i):\n",
    "            for last_index in range(cutoff-1):\n",
    "                k_plus1 = list(indices)+[last_index+1]\n",
    "                k = list(indices)+[last_index]\n",
    "                Psi[tuple(k_plus1)] = (mu[i]*Psi[tuple(k)] - np.sum([Sigma[i, l]*sqrt[k[l]]*Psi[tuple(np.array(k)-e(i+1,l))] for l in range(i+1)]))/sqrt[k_plus1[-1]]\n",
    "#                 Psi[tuple(k_plus1)] = (mu[i]*Psi[tuple(k)] - np.sum(Sigma[i, np.arange(i+1)]*sqrt[np.array(k)]*Psi[np.array(k_plus1)-np.identity(i+1, dtype=np.int32)]))/sqrt[k_plus1[-1]]\n",
    "    \n",
    "    return Psi\n",
    "\n",
    "\n",
    "\n",
    "@jit(nopython=True)\n",
    "def fill_rank(cutoff:int, Psi:np.array, mu:np.array, Sigma:np.array, sqrt:np.array, n:int, indices=np.array([], dtype=np.int32))->None:\n",
    "    if n >= 1:\n",
    "        for k in range(cutoff - int(n==1)):\n",
    "            fill_rank(cutoff, Psi, mu, Sigma, sqrt, n - 1, np.concatenate([indices, np.array([k])]))\n",
    "    else:\n",
    "        i = len(indices)\n",
    "        E = list(np.identity(i))\n",
    "        Psi[tuple(np.array(indices)+E[-1])] = (mu[i-1]*Psi[tuple(indices)] - np.sum([Sigma[i, l]*sqrt[indices[l]]*Psi[tuple(np.array(indices)-E[l])] for l in range(i)]))/sqrt[indices[-1]+1]\n",
    "\n",
    "@jit(nopython=True)\n",
    "def Gaussian_state(C, mu, Sigma, cutoff, tup, dtype=np.complex128):\n",
    "    \n",
    "    sqrt = np.sqrt(np.arange(cutoff, dtype=dtype))\n",
    "    modes = len(mu)//2\n",
    "    \n",
    "    Psi = np.zeros(tup, dtype=dtype)\n",
    "    Psi[tup] = C\n",
    "    \n",
    "    for i in range(1,modes+1):\n",
    "        fill_rank(cutoff, Psi, mu, Sigma, sqrt, i)\n",
    "    \n",
    "    return Psi"
   ]
  },
  {
   "cell_type": "code",
   "execution_count": 41,
   "metadata": {},
   "outputs": [],
   "source": [
    "def Gaussian_state_helper(C, mu, Sigma, cutoff, dtype=np.complex128):\n",
    "    modes = len(mu)//2\n",
    "    tup = tuple([cutoff]*modes)\n",
    "    return Gaussian_state(C, mu, Sigma, cutoff, tup, dtype=np.complex128)"
   ]
  },
  {
   "cell_type": "code",
   "execution_count": 42,
   "metadata": {},
   "outputs": [
    {
     "ename": "TypingError",
     "evalue": "Failed in nopython mode pipeline (step: nopython frontend)\n\u001b[1m\u001b[1m\u001b[1m\u001b[1mFailed in nopython mode pipeline (step: nopython frontend)\n\u001b[1m\u001b[1m\u001b[1mInvalid use of Function(<class 'tuple'>) with argument(s) of type(s): (array(int32, 1d, C))\n * parameterized\n\u001b[1mIn definition 0:\u001b[0m\n\u001b[1m    All templates rejected with literals.\u001b[0m\n\u001b[1mIn definition 1:\u001b[0m\n\u001b[1m    All templates rejected without literals.\u001b[0m\n\u001b[1mThis error is usually caused by passing an argument of a type that is unsupported by the named function.\u001b[0m\u001b[0m\n\u001b[0m\u001b[1m[1] During: resolving callee type: Function(<class 'tuple'>)\u001b[0m\n\u001b[0m\u001b[1m[2] During: typing of call at <ipython-input-40-a511982c04d6> (35)\n\u001b[0m\n\u001b[1m\nFile \"<ipython-input-40-a511982c04d6>\", line 35:\u001b[0m\n\u001b[1mdef fill_rank(cutoff:int, Psi:np.array, mu:np.array, Sigma:np.array, sqrt:np.array, n:int, indices=np.array([], dtype=np.int32))->None:\n    <source elided>\n        E = list(np.identity(i))\n\u001b[1m        Psi[tuple(np.array(indices)+E[-1])] = (mu[i-1]*Psi[tuple(indices)] - np.sum([Sigma[i, l]*sqrt[indices[l]]*Psi[tuple(np.array(indices)-E[l])] for l in range(i)]))/sqrt[indices[-1]+1]\n\u001b[0m        \u001b[1m^\u001b[0m\u001b[0m\n\n\u001b[0m\u001b[1m[1] During: resolving callee type: type(CPUDispatcher(<function fill_rank at 0x1214d6d08>))\u001b[0m\n\u001b[0m\u001b[1m[2] During: typing of call at <ipython-input-40-a511982c04d6> (47)\n\u001b[0m\n\u001b[0m\u001b[1m[3] During: resolving callee type: type(CPUDispatcher(<function fill_rank at 0x1214d6d08>))\u001b[0m\n\u001b[0m\u001b[1m[4] During: typing of call at <ipython-input-40-a511982c04d6> (47)\n\u001b[0m\n\u001b[1m\nFile \"<ipython-input-40-a511982c04d6>\", line 47:\u001b[0m\n\u001b[1mdef Gaussian_state(C, mu, Sigma, cutoff, tup, dtype=np.complex128):\n    <source elided>\n    for i in range(1,modes+1):\n\u001b[1m        fill_rank(cutoff, Psi, mu, Sigma, sqrt, i)\n\u001b[0m        \u001b[1m^\u001b[0m\u001b[0m\n",
     "output_type": "error",
     "traceback": [
      "\u001b[0;31m---------------------------------------------------------------------------\u001b[0m",
      "\u001b[0;31mTypingError\u001b[0m                               Traceback (most recent call last)",
      "\u001b[0;32m<ipython-input-42-137d9aed95e4>\u001b[0m in \u001b[0;36m<module>\u001b[0;34m\u001b[0m\n\u001b[0;32m----> 1\u001b[0;31m \u001b[0mGaussian_state_helper\u001b[0m\u001b[0;34m(\u001b[0m\u001b[0mC\u001b[0m\u001b[0;34m(\u001b[0m\u001b[0;36m0.1\u001b[0m\u001b[0;34m,\u001b[0m \u001b[0;36m0.1\u001b[0m\u001b[0;34m,\u001b[0m \u001b[0;36m0.1\u001b[0m\u001b[0;34m)\u001b[0m\u001b[0;34m,\u001b[0m \u001b[0mmu\u001b[0m\u001b[0;34m(\u001b[0m\u001b[0;36m0.1\u001b[0m\u001b[0;34m,\u001b[0m \u001b[0;36m0.1\u001b[0m\u001b[0;34m,\u001b[0m \u001b[0;36m0.1\u001b[0m\u001b[0;34m)\u001b[0m\u001b[0;34m,\u001b[0m \u001b[0mSigma\u001b[0m\u001b[0;34m(\u001b[0m\u001b[0;36m0.1\u001b[0m \u001b[0;34m,\u001b[0m\u001b[0;36m0.1\u001b[0m\u001b[0;34m,\u001b[0m \u001b[0;36m0.1\u001b[0m\u001b[0;34m)\u001b[0m\u001b[0;34m,\u001b[0m \u001b[0;36m10\u001b[0m\u001b[0;34m)\u001b[0m\u001b[0;34m\u001b[0m\u001b[0;34m\u001b[0m\u001b[0m\n\u001b[0m",
      "\u001b[0;32m<ipython-input-41-7dc9d6a88888>\u001b[0m in \u001b[0;36mGaussian_state_helper\u001b[0;34m(C, mu, Sigma, cutoff, dtype)\u001b[0m\n\u001b[1;32m      2\u001b[0m     \u001b[0mmodes\u001b[0m \u001b[0;34m=\u001b[0m \u001b[0mlen\u001b[0m\u001b[0;34m(\u001b[0m\u001b[0mmu\u001b[0m\u001b[0;34m)\u001b[0m\u001b[0;34m//\u001b[0m\u001b[0;36m2\u001b[0m\u001b[0;34m\u001b[0m\u001b[0;34m\u001b[0m\u001b[0m\n\u001b[1;32m      3\u001b[0m     \u001b[0mtup\u001b[0m \u001b[0;34m=\u001b[0m \u001b[0mtuple\u001b[0m\u001b[0;34m(\u001b[0m\u001b[0;34m[\u001b[0m\u001b[0mcutoff\u001b[0m\u001b[0;34m]\u001b[0m\u001b[0;34m*\u001b[0m\u001b[0mmodes\u001b[0m\u001b[0;34m)\u001b[0m\u001b[0;34m\u001b[0m\u001b[0;34m\u001b[0m\u001b[0m\n\u001b[0;32m----> 4\u001b[0;31m     \u001b[0;32mreturn\u001b[0m \u001b[0mGaussian_state\u001b[0m\u001b[0;34m(\u001b[0m\u001b[0mC\u001b[0m\u001b[0;34m,\u001b[0m \u001b[0mmu\u001b[0m\u001b[0;34m,\u001b[0m \u001b[0mSigma\u001b[0m\u001b[0;34m,\u001b[0m \u001b[0mcutoff\u001b[0m\u001b[0;34m,\u001b[0m \u001b[0mtup\u001b[0m\u001b[0;34m,\u001b[0m \u001b[0mdtype\u001b[0m\u001b[0;34m=\u001b[0m\u001b[0mnp\u001b[0m\u001b[0;34m.\u001b[0m\u001b[0mcomplex128\u001b[0m\u001b[0;34m)\u001b[0m\u001b[0;34m\u001b[0m\u001b[0;34m\u001b[0m\u001b[0m\n\u001b[0m",
      "\u001b[0;32m~/.pyenv/versions/3.7.3/lib/python3.7/site-packages/numba/core/dispatcher.py\u001b[0m in \u001b[0;36m_compile_for_args\u001b[0;34m(self, *args, **kws)\u001b[0m\n\u001b[1;32m    399\u001b[0m                 \u001b[0me\u001b[0m\u001b[0;34m.\u001b[0m\u001b[0mpatch_message\u001b[0m\u001b[0;34m(\u001b[0m\u001b[0mmsg\u001b[0m\u001b[0;34m)\u001b[0m\u001b[0;34m\u001b[0m\u001b[0;34m\u001b[0m\u001b[0m\n\u001b[1;32m    400\u001b[0m \u001b[0;34m\u001b[0m\u001b[0m\n\u001b[0;32m--> 401\u001b[0;31m             \u001b[0merror_rewrite\u001b[0m\u001b[0;34m(\u001b[0m\u001b[0me\u001b[0m\u001b[0;34m,\u001b[0m \u001b[0;34m'typing'\u001b[0m\u001b[0;34m)\u001b[0m\u001b[0;34m\u001b[0m\u001b[0;34m\u001b[0m\u001b[0m\n\u001b[0m\u001b[1;32m    402\u001b[0m         \u001b[0;32mexcept\u001b[0m \u001b[0merrors\u001b[0m\u001b[0;34m.\u001b[0m\u001b[0mUnsupportedError\u001b[0m \u001b[0;32mas\u001b[0m \u001b[0me\u001b[0m\u001b[0;34m:\u001b[0m\u001b[0;34m\u001b[0m\u001b[0;34m\u001b[0m\u001b[0m\n\u001b[1;32m    403\u001b[0m             \u001b[0;31m# Something unsupported is present in the user code, add help info\u001b[0m\u001b[0;34m\u001b[0m\u001b[0;34m\u001b[0m\u001b[0;34m\u001b[0m\u001b[0m\n",
      "\u001b[0;32m~/.pyenv/versions/3.7.3/lib/python3.7/site-packages/numba/core/dispatcher.py\u001b[0m in \u001b[0;36merror_rewrite\u001b[0;34m(e, issue_type)\u001b[0m\n\u001b[1;32m    342\u001b[0m                 \u001b[0;32mraise\u001b[0m \u001b[0me\u001b[0m\u001b[0;34m\u001b[0m\u001b[0;34m\u001b[0m\u001b[0m\n\u001b[1;32m    343\u001b[0m             \u001b[0;32melse\u001b[0m\u001b[0;34m:\u001b[0m\u001b[0;34m\u001b[0m\u001b[0;34m\u001b[0m\u001b[0m\n\u001b[0;32m--> 344\u001b[0;31m                 \u001b[0mreraise\u001b[0m\u001b[0;34m(\u001b[0m\u001b[0mtype\u001b[0m\u001b[0;34m(\u001b[0m\u001b[0me\u001b[0m\u001b[0;34m)\u001b[0m\u001b[0;34m,\u001b[0m \u001b[0me\u001b[0m\u001b[0;34m,\u001b[0m \u001b[0;32mNone\u001b[0m\u001b[0;34m)\u001b[0m\u001b[0;34m\u001b[0m\u001b[0;34m\u001b[0m\u001b[0m\n\u001b[0m\u001b[1;32m    345\u001b[0m \u001b[0;34m\u001b[0m\u001b[0m\n\u001b[1;32m    346\u001b[0m         \u001b[0margtypes\u001b[0m \u001b[0;34m=\u001b[0m \u001b[0;34m[\u001b[0m\u001b[0;34m]\u001b[0m\u001b[0;34m\u001b[0m\u001b[0;34m\u001b[0m\u001b[0m\n",
      "\u001b[0;32m~/.pyenv/versions/3.7.3/lib/python3.7/site-packages/numba/core/utils.py\u001b[0m in \u001b[0;36mreraise\u001b[0;34m(tp, value, tb)\u001b[0m\n\u001b[1;32m     77\u001b[0m         \u001b[0mvalue\u001b[0m \u001b[0;34m=\u001b[0m \u001b[0mtp\u001b[0m\u001b[0;34m(\u001b[0m\u001b[0;34m)\u001b[0m\u001b[0;34m\u001b[0m\u001b[0;34m\u001b[0m\u001b[0m\n\u001b[1;32m     78\u001b[0m     \u001b[0;32mif\u001b[0m \u001b[0mvalue\u001b[0m\u001b[0;34m.\u001b[0m\u001b[0m__traceback__\u001b[0m \u001b[0;32mis\u001b[0m \u001b[0;32mnot\u001b[0m \u001b[0mtb\u001b[0m\u001b[0;34m:\u001b[0m\u001b[0;34m\u001b[0m\u001b[0;34m\u001b[0m\u001b[0m\n\u001b[0;32m---> 79\u001b[0;31m         \u001b[0;32mraise\u001b[0m \u001b[0mvalue\u001b[0m\u001b[0;34m.\u001b[0m\u001b[0mwith_traceback\u001b[0m\u001b[0;34m(\u001b[0m\u001b[0mtb\u001b[0m\u001b[0;34m)\u001b[0m\u001b[0;34m\u001b[0m\u001b[0;34m\u001b[0m\u001b[0m\n\u001b[0m\u001b[1;32m     80\u001b[0m     \u001b[0;32mraise\u001b[0m \u001b[0mvalue\u001b[0m\u001b[0;34m\u001b[0m\u001b[0;34m\u001b[0m\u001b[0m\n\u001b[1;32m     81\u001b[0m \u001b[0;34m\u001b[0m\u001b[0m\n",
      "\u001b[0;31mTypingError\u001b[0m: Failed in nopython mode pipeline (step: nopython frontend)\n\u001b[1m\u001b[1m\u001b[1m\u001b[1mFailed in nopython mode pipeline (step: nopython frontend)\n\u001b[1m\u001b[1m\u001b[1mInvalid use of Function(<class 'tuple'>) with argument(s) of type(s): (array(int32, 1d, C))\n * parameterized\n\u001b[1mIn definition 0:\u001b[0m\n\u001b[1m    All templates rejected with literals.\u001b[0m\n\u001b[1mIn definition 1:\u001b[0m\n\u001b[1m    All templates rejected without literals.\u001b[0m\n\u001b[1mThis error is usually caused by passing an argument of a type that is unsupported by the named function.\u001b[0m\u001b[0m\n\u001b[0m\u001b[1m[1] During: resolving callee type: Function(<class 'tuple'>)\u001b[0m\n\u001b[0m\u001b[1m[2] During: typing of call at <ipython-input-40-a511982c04d6> (35)\n\u001b[0m\n\u001b[1m\nFile \"<ipython-input-40-a511982c04d6>\", line 35:\u001b[0m\n\u001b[1mdef fill_rank(cutoff:int, Psi:np.array, mu:np.array, Sigma:np.array, sqrt:np.array, n:int, indices=np.array([], dtype=np.int32))->None:\n    <source elided>\n        E = list(np.identity(i))\n\u001b[1m        Psi[tuple(np.array(indices)+E[-1])] = (mu[i-1]*Psi[tuple(indices)] - np.sum([Sigma[i, l]*sqrt[indices[l]]*Psi[tuple(np.array(indices)-E[l])] for l in range(i)]))/sqrt[indices[-1]+1]\n\u001b[0m        \u001b[1m^\u001b[0m\u001b[0m\n\n\u001b[0m\u001b[1m[1] During: resolving callee type: type(CPUDispatcher(<function fill_rank at 0x1214d6d08>))\u001b[0m\n\u001b[0m\u001b[1m[2] During: typing of call at <ipython-input-40-a511982c04d6> (47)\n\u001b[0m\n\u001b[0m\u001b[1m[3] During: resolving callee type: type(CPUDispatcher(<function fill_rank at 0x1214d6d08>))\u001b[0m\n\u001b[0m\u001b[1m[4] During: typing of call at <ipython-input-40-a511982c04d6> (47)\n\u001b[0m\n\u001b[1m\nFile \"<ipython-input-40-a511982c04d6>\", line 47:\u001b[0m\n\u001b[1mdef Gaussian_state(C, mu, Sigma, cutoff, tup, dtype=np.complex128):\n    <source elided>\n    for i in range(1,modes+1):\n\u001b[1m        fill_rank(cutoff, Psi, mu, Sigma, sqrt, i)\n\u001b[0m        \u001b[1m^\u001b[0m\u001b[0m\n"
     ]
    }
   ],
   "source": [
    "Gaussian_state_helper(C(0.1, 0.1, 0.1), mu(0.1, 0.1, 0.1), Sigma(0.1 ,0.1, 0.1), 10)"
   ]
  },
  {
   "cell_type": "code",
   "execution_count": 26,
   "metadata": {},
   "outputs": [],
   "source": [
    "test = np.array([], dtype=np.int32)"
   ]
  },
  {
   "cell_type": "code",
   "execution_count": 32,
   "metadata": {},
   "outputs": [],
   "source": [
    "test1 = np.array([3], dtype=np.int32)"
   ]
  },
  {
   "cell_type": "code",
   "execution_count": 34,
   "metadata": {},
   "outputs": [
    {
     "data": {
      "text/plain": [
       "array([3], dtype=int32)"
      ]
     },
     "execution_count": 34,
     "metadata": {},
     "output_type": "execute_result"
    }
   ],
   "source": [
    "np.concatenate([test, test1])"
   ]
  },
  {
   "cell_type": "code",
   "execution_count": 313,
   "metadata": {},
   "outputs": [
    {
     "data": {
      "text/plain": [
       "array([ 0.99204753-0.00009822j,  0.10889539+0.00195357j, -0.06007369-0.01357917j, -0.01244515-0.00284562j,  0.00416882+0.00201037j,  0.00123979+0.00057141j,\n",
       "       -0.0002803 -0.00022801j, -0.0001131 -0.00008407j,  0.00001706+0.00002268j,  0.00000946+0.0000107j ])"
      ]
     },
     "execution_count": 313,
     "metadata": {},
     "output_type": "execute_result"
    }
   ],
   "source": [
    "Ggate(C(0.1, 0.1, 0.1), mu(0.1, 0.1, 0.1), Sigma(0.1 ,0.1, 0.1), 10)[:,0]"
   ]
  },
  {
   "cell_type": "code",
   "execution_count": 279,
   "metadata": {},
   "outputs": [
    {
     "name": "stdout",
     "output_type": "stream",
     "text": [
      "1.44 ms ± 64.7 µs per loop (mean ± std. dev. of 7 runs, 100 loops each)\n"
     ]
    }
   ],
   "source": [
    "%timeit Gaussian_state(C(0.1, 0.1, 0.1), mu(0.1, 0.1, 0.1), Sigma(0.1 ,0.1, 0.1), 50)"
   ]
  },
  {
   "cell_type": "code",
   "execution_count": null,
   "metadata": {},
   "outputs": [],
   "source": [
    "e"
   ]
  },
  {
   "cell_type": "code",
   "execution_count": 296,
   "metadata": {},
   "outputs": [
    {
     "data": {
      "text/plain": [
       "array([ 0.99204753-0.00009822j,  0.10889539+0.00195357j, -0.06007369-0.01357917j, -0.01244515-0.00284562j,  0.00416882+0.00201037j,  0.00123979+0.00057141j,\n",
       "       -0.0002803 -0.00022801j, -0.0001131 -0.00008407j,  0.00001706+0.00002268j,  0.00000946+0.0000107j ])"
      ]
     },
     "execution_count": 296,
     "metadata": {},
     "output_type": "execute_result"
    }
   ],
   "source": [
    "new_state(0.1, 0.1, 0.1, np.identity(10, dtype=np.complex128)[0])[:,0]"
   ]
  },
  {
   "cell_type": "code",
   "execution_count": 148,
   "metadata": {},
   "outputs": [
    {
     "data": {
      "text/plain": [
       "array([ 0.10976813+0.0019801j , -0.09900498-0.00993363j])"
      ]
     },
     "execution_count": 148,
     "metadata": {},
     "output_type": "execute_result"
    }
   ],
   "source": [
    "mu(0.1, 0.1, 0.1)"
   ]
  },
  {
   "cell_type": "code",
   "execution_count": 137,
   "metadata": {},
   "outputs": [
    {
     "name": "stdout",
     "output_type": "stream",
     "text": [
      "asked for e_n (size 1, n 1)\n"
     ]
    },
    {
     "ename": "IndexError",
     "evalue": "index 1 is out of bounds for axis 0 with size 1",
     "output_type": "error",
     "traceback": [
      "\u001b[0;31m---------------------------------------------------------------------------\u001b[0m",
      "\u001b[0;31mIndexError\u001b[0m                                Traceback (most recent call last)",
      "\u001b[0;32m<ipython-input-137-3ea0dd01ed21>\u001b[0m in \u001b[0;36m<module>\u001b[0;34m\u001b[0m\n\u001b[0;32m----> 1\u001b[0;31m \u001b[0me\u001b[0m\u001b[0;34m(\u001b[0m\u001b[0;36m1\u001b[0m\u001b[0;34m,\u001b[0m\u001b[0;36m1\u001b[0m\u001b[0;34m)\u001b[0m\u001b[0;34m\u001b[0m\u001b[0;34m\u001b[0m\u001b[0m\n\u001b[0m",
      "\u001b[0;32m<ipython-input-134-49b72fe87fc4>\u001b[0m in \u001b[0;36me\u001b[0;34m(size, n)\u001b[0m\n\u001b[1;32m      2\u001b[0m     \u001b[0mprint\u001b[0m\u001b[0;34m(\u001b[0m\u001b[0;34mf'asked for e_n (size {size}, n {n})'\u001b[0m\u001b[0;34m)\u001b[0m\u001b[0;34m\u001b[0m\u001b[0;34m\u001b[0m\u001b[0m\n\u001b[1;32m      3\u001b[0m     \u001b[0mz\u001b[0m \u001b[0;34m=\u001b[0m \u001b[0mnp\u001b[0m\u001b[0;34m.\u001b[0m\u001b[0mzeros\u001b[0m\u001b[0;34m(\u001b[0m\u001b[0msize\u001b[0m\u001b[0;34m,\u001b[0m \u001b[0mdtype\u001b[0m\u001b[0;34m=\u001b[0m\u001b[0mnp\u001b[0m\u001b[0;34m.\u001b[0m\u001b[0mint32\u001b[0m\u001b[0;34m)\u001b[0m\u001b[0;34m\u001b[0m\u001b[0;34m\u001b[0m\u001b[0m\n\u001b[0;32m----> 4\u001b[0;31m     \u001b[0mz\u001b[0m\u001b[0;34m[\u001b[0m\u001b[0mn\u001b[0m\u001b[0;34m]\u001b[0m \u001b[0;34m=\u001b[0m \u001b[0;36m1\u001b[0m\u001b[0;34m\u001b[0m\u001b[0;34m\u001b[0m\u001b[0m\n\u001b[0m\u001b[1;32m      5\u001b[0m     \u001b[0;32mreturn\u001b[0m \u001b[0mz\u001b[0m\u001b[0;34m\u001b[0m\u001b[0;34m\u001b[0m\u001b[0m\n\u001b[1;32m      6\u001b[0m \u001b[0;34m\u001b[0m\u001b[0m\n",
      "\u001b[0;31mIndexError\u001b[0m: index 1 is out of bounds for axis 0 with size 1"
     ]
    }
   ],
   "source": [
    "e(1,1)"
   ]
  },
  {
   "cell_type": "code",
   "execution_count": 76,
   "metadata": {},
   "outputs": [
    {
     "data": {
      "text/plain": [
       "array([0., 0., 0.])"
      ]
     },
     "execution_count": 76,
     "metadata": {},
     "output_type": "execute_result"
    }
   ],
   "source": [
    "Z[tuple([0,0])]"
   ]
  },
  {
   "cell_type": "code",
   "execution_count": null,
   "metadata": {},
   "outputs": [],
   "source": []
  }
 ],
 "metadata": {
  "kernelspec": {
   "display_name": "thewalrus_dev",
   "language": "python",
   "name": "thewalrus_dev"
  },
  "language_info": {
   "codemirror_mode": {
    "name": "ipython",
    "version": 3
   },
   "file_extension": ".py",
   "mimetype": "text/x-python",
   "name": "python",
   "nbconvert_exporter": "python",
   "pygments_lexer": "ipython3",
   "version": "3.7.3"
  }
 },
 "nbformat": 4,
 "nbformat_minor": 4
}
