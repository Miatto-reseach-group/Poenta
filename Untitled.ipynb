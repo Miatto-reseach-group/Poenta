{
 "cells": [
  {
   "cell_type": "code",
   "execution_count": 1,
   "metadata": {},
   "outputs": [],
   "source": [
    "import numpy as np\n",
    "import tensorflow as tf\n",
    "from poenta.circuit import Circuit\n",
    "from poenta.nputils import single_photon,NOON,hex_GKP\n",
    "\n",
    "state_in = np.zeros(50, dtype=np.complex128)\n",
    "state_in[0] = 1\n",
    "# target_out = hex_GKP(mu=1, d=2, delta=0.3, cutoff=50, nmax=7)\n",
    "target_out = single_photon(50)"
   ]
  },
  {
   "cell_type": "code",
   "execution_count": 2,
   "metadata": {},
   "outputs": [
    {
     "data": {
      "application/vnd.jupyter.widget-view+json": {
       "model_id": "6838921b37de47ac8b7989cf65d3f96c",
       "version_major": 2,
       "version_minor": 0
      },
      "text/plain": [
       "Output()"
      ]
     },
     "metadata": {},
     "output_type": "display_data"
    },
    {
     "data": {
      "text/plain": [
       "<poenta.keras.LossHistoryCallback at 0x7f81731fd898>"
      ]
     },
     "execution_count": 2,
     "metadata": {},
     "output_type": "execute_result"
    },
    {
     "data": {
      "image/png": "[encoded data removed]",
      "text/plain": [
       "<Figure size 432x288 with 1 Axes>"
      ]
     },
     "metadata": {
      "needs_background": "light"
     },
     "output_type": "display_data"
    }
   ],
   "source": [
    "device = Circuit(num_layers=10, num_modes=1, num_seed =665, dtype=tf.complex128)\n",
    "tuple_in_out = (state_in,target_out),\n",
    "device.set_input_output_pairs(*tuple_in_out)\n",
    "device.optimize(steps=1000, optimizer=\"SGD\", learning_rate=0.001, scheduler = True, nat_grad = True)"
   ]
  },
  {
   "cell_type": "code",
   "execution_count": 3,
   "metadata": {
    "scrolled": true
   },
   "outputs": [],
   "source": [
    "# device = Circuit(num_layers=25, num_modes=1, num_seed =665, dtype=tf.complex128)\n",
    "# tuple_in_out = (state_in,target_out),\n",
    "# device.set_input_output_pairs(*tuple_in_out)\n",
    "# device.optimize(steps=2000, optimizer=\"SGD\", learning_rate=0.001, scheduler = True, nat_grad = False)"
   ]
  },
  {
   "cell_type": "code",
   "execution_count": 4,
   "metadata": {},
   "outputs": [],
   "source": [
    "import pickle\n",
    "losses = device._historycallback.losses\n",
    "filename = 'pickle/test'\n",
    "outfile = open(filename,'wb')\n",
    "pickle.dump(losses,outfile)\n",
    "outfile.close()"
   ]
  },
  {
   "cell_type": "code",
   "execution_count": null,
   "metadata": {},
   "outputs": [],
   "source": []
  }
 ],
 "metadata": {
  "kernelspec": {
   "display_name": "thewalrusker",
   "language": "python",
   "name": "thewalrusker"
  },
  "language_info": {
   "codemirror_mode": {
    "name": "ipython",
    "version": 3
   },
   "file_extension": ".py",
   "mimetype": "text/x-python",
   "name": "python",
   "nbconvert_exporter": "python",
   "pygments_lexer": "ipython3",
   "version": "3.6.9"
  }
 },
 "nbformat": 4,
 "nbformat_minor": 2
}
