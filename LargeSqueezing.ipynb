{
 "cells": [
  {
   "cell_type": "code",
   "execution_count": 1,
   "metadata": {},
   "outputs": [],
   "source": [
    "from poenta.jitted import R_matrix,large_squeezing\n",
    "import numpy as np\n",
    "import matplotlib.pyplot as plt"
   ]
  },
  {
   "cell_type": "code",
   "execution_count": 164,
   "metadata": {},
   "outputs": [],
   "source": [
    "from scipy.special import factorial as fac\n",
    "def coherent_state(alpha,cutoff):\n",
    "    state = np.zeros(cutoff, dtype=np.complex128)\n",
    "    for m in range(cutoff):\n",
    "        state[m] = np.exp(-np.abs(alpha)**2/2)*alpha**m/np.sqrt(fac(m))\n",
    "    return state"
   ]
  },
  {
   "cell_type": "code",
   "execution_count": 8,
   "metadata": {},
   "outputs": [
    {
     "name": "stdout",
     "output_type": "stream",
     "text": [
      "3100\n"
     ]
    }
   ],
   "source": [
    "gamma = 0\n",
    "phi = 0\n",
    "old_state = np.hstack([np.random.normal(size=100)+np.random.normal(size=100)*1j, np.zeros(3000, dtype=np.complex128)])\n",
    "old_state /= np.linalg.norm(old_state)\n",
    "print(len(old_state))"
   ]
  },
  {
   "cell_type": "code",
   "execution_count": 14,
   "metadata": {},
   "outputs": [
    {
     "name": "stdout",
     "output_type": "stream",
     "text": [
      "norm 0.24021534221785826\n",
      "norm 0.1631593619669168\n",
      "norm 0.10767602572043\n",
      "norm 0.06972555598571854\n",
      "norm 0.04436783718310126\n",
      "norm 0.027650438897062573\n",
      "norm 0.01674854196934268\n",
      "norm 0.009722428438588308\n",
      "norm 0.005261830241198232\n",
      "norm 0.002489917404888584\n",
      "norm 0.0008340052037608577\n",
      "norm 0.00029729377764225724\n",
      "norm 0.000735775659802758\n",
      "norm 0.0009667495002145688\n",
      "norm 0.0010358517301127267\n"
     ]
    }
   ],
   "source": [
    "errors = []\n",
    "for j in range(15):\n",
    "    z = 5 + j*0.5 + 0.4j\n",
    "    squeezing_real = R_matrix(gamma, phi, z, 3100, old_state)[:,0]\n",
    "    squeezing_approxi = large_squeezing(gamma, phi, z, 3100, old_state)[:,0]\n",
    "    norm_approxi = np.linalg.norm(squeezing_approxi)\n",
    "    print(\"norm\",norm_approxi)\n",
    "    error = np.sqrt(np.sum(np.abs(squeezing_real - squeezing_approxi)**2))\n",
    "    errors.append(error)\n"
   ]
  },
  {
   "cell_type": "code",
   "execution_count": 15,
   "metadata": {},
   "outputs": [
    {
     "data": {
      "text/plain": [
       "Text(0, 0.5, 'Euclidean Distance')"
      ]
     },
     "execution_count": 15,
     "metadata": {},
     "output_type": "execute_result"
    },
    {
     "data": {
      "image/png": "[encoded data removed]",
      "text/plain": [
       "<Figure size 432x288 with 1 Axes>"
      ]
     },
     "metadata": {
      "needs_background": "light"
     },
     "output_type": "display_data"
    }
   ],
   "source": [
    "plt.plot(errors)\n",
    "plt.xlabel(\"value of r (x+i*x)\")\n",
    "plt.ylabel(\"Euclidean Distance\")\n"
   ]
  },
  {
   "cell_type": "code",
   "execution_count": null,
   "metadata": {},
   "outputs": [],
   "source": []
  }
 ],
 "metadata": {
  "kernelspec": {
   "display_name": "thewalrusker",
   "language": "python",
   "name": "thewalrusker"
  },
  "language_info": {
   "codemirror_mode": {
    "name": "ipython",
    "version": 3
   },
   "file_extension": ".py",
   "mimetype": "text/x-python",
   "name": "python",
   "nbconvert_exporter": "python",
   "pygments_lexer": "ipython3",
   "version": "3.6.9"
  }
 },
 "nbformat": 4,
 "nbformat_minor": 2
}
