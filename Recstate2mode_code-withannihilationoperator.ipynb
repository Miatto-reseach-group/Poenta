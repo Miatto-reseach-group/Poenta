{
 "cells": [
  {
   "cell_type": "code",
   "execution_count": 1,
   "metadata": {},
   "outputs": [],
   "source": [
    "import numpy as np\n",
    "from recstate2mode import UW_,UV_,C_,mu_,Sigma_,G_matrix"
   ]
  },
  {
   "cell_type": "code",
   "execution_count": 2,
   "metadata": {},
   "outputs": [],
   "source": [
    "gamma = np.array([0,0],dtype = np.complex128)\n",
    "phi = np.array([0,0.4],dtype = np.complex128)\n",
    "zeta = np.array([0.2,0.3],dtype = np.complex128)\n",
    "theta = 0.2\n",
    "psi = 0\n",
    "theta1 = 0.3\n",
    "psi1 = 0.5\n",
    "cutoff_dim = 4\n",
    "cutoff= 4\n",
    "cutoff_plus = 10\n"
   ]
  },
  {
   "cell_type": "code",
   "execution_count": 3,
   "metadata": {},
   "outputs": [],
   "source": [
    "old_state = np.random.rand(cutoff_dim,cutoff_dim) + 1.0j*np.random.rand(cutoff_dim,cutoff_dim)\n",
    "old_state  /= np.linalg.norm(old_state)"
   ]
  },
  {
   "cell_type": "code",
   "execution_count": 5,
   "metadata": {},
   "outputs": [],
   "source": [
    "W = UW_(phi,theta1,psi1)\n",
    "V = UV_(theta,psi)\n",
    "    \n",
    "C = C_(gamma, W, zeta, V)\n",
    "mu = mu_(gamma, W, zeta, V)\n",
    "Sigma = Sigma_(W, zeta, V)\n",
    "\n",
    "cutoff = old_state.shape[0]\n",
    "dtype = old_state.dtype\n",
    "\n",
    "\n",
    "sqrt = np.sqrt(np.arange(cutoff+1, dtype=dtype))\n",
    "\n",
    "G_00pq = np.zeros((cutoff, cutoff), dtype=dtype)\n",
    "\n",
    "\n",
    "G_00pq[0,0] = C\n",
    "for q in range(1, cutoff):\n",
    "    G_00pq[0,q] = (mu[3]*G_00pq[0,q-1] - Sigma[3,3]*sqrt[q-1]*G_00pq[0,q-2])/sqrt[q]\n",
    "\n",
    "\n",
    "for p in range(1,cutoff):\n",
    "    for q in range(0,cutoff):\n",
    "        G_00pq[p,q] = (mu[2]*G_00pq[p-1,q] - Sigma[2,2]*sqrt[p-1]*G_00pq[p-2,q] - Sigma[2,3]*sqrt[q]*G_00pq[p-1,q-1])/sqrt[p]"
   ]
  },
  {
   "cell_type": "code",
   "execution_count": 6,
   "metadata": {},
   "outputs": [],
   "source": [
    "G = G_matrix(gamma, phi, theta1, psi1, zeta, theta, psi,cutoff)"
   ]
  },
  {
   "cell_type": "code",
   "execution_count": 15,
   "metadata": {
    "scrolled": true
   },
   "outputs": [],
   "source": [
    "# R_00^jk = a_dagger^j \\G_00pq> b^k  * |old_state>\n",
    "\n",
    "R = np.zeros((cutoff, cutoff, cutoff+1, cutoff+1), dtype=dtype)\n",
    "\n",
    "a2 = np.zeros((cutoff,cutoff), dtype=dtype)\n",
    "for i in range(cutoff-1):\n",
    "    a2[i+1,i] = np.sqrt(i+1)\n",
    "b = np.zeros((cutoff,cutoff), dtype=dtype)\n",
    "for i in range(cutoff-1):\n",
    "    b[i,i+1] = np.sqrt(i+1)\n",
    "      \n",
    "    \n",
    "for j in range(cutoff):\n",
    "    for k in range(cutoff):\n",
    "            G_00pq2 = G_00pq\n",
    "            for _ in range(j):\n",
    "                G_00pq2 = a2@G_00pq2\n",
    "            for _ in range(k):\n",
    "                G_00pq2 = G_00pq2@b\n",
    "            R[0,0,j,k] = np.sum(G_00pq2*old_state)\n",
    "    \n",
    "#R_0n^jk\n",
    "for n in range(1,cutoff):\n",
    "    for k in range(0,cutoff): \n",
    "        for j in range(0,cutoff):\n",
    "         \n",
    "            R[0,n,j,k] = mu[1]/sqrt[n]*R[0,n-1,j,k] - Sigma[1,1]/sqrt[n]*sqrt[n-1]*R[0,n-2,j,k] - Sigma[1,2]/sqrt[n]*R[0,n-1,j+1,k] - Sigma[1,3]/sqrt[n]*R[0,n-1,j,k+1]\n",
    "\n",
    "\n",
    "for m in range(1,cutoff):\n",
    "    for n in range(0,cutoff):\n",
    "        for j in range(0,cutoff-m):\n",
    "            for k in range(0,cutoff-m-j):\n",
    "                R[m,n,j,k] = mu[0]/sqrt[m]*R[m-1,n,j,k] - Sigma[0,0]/sqrt[m]*sqrt[m-1]*R[m-2,n,j,k] - Sigma[0,1]*sqrt[n]/sqrt[m]*R[m-1,n-1,j,k] - Sigma[0,2]/sqrt[m]*R[m-1,n,j+1,k] - Sigma[0,3]/sqrt[m]*R[m-1,n,j,k+1]\n"
   ]
  },
  {
   "cell_type": "code",
   "execution_count": null,
   "metadata": {},
   "outputs": [],
   "source": []
  },
  {
   "cell_type": "code",
   "execution_count": null,
   "metadata": {},
   "outputs": [],
   "source": []
  },
  {
   "cell_type": "code",
   "execution_count": null,
   "metadata": {},
   "outputs": [],
   "source": []
  },
  {
   "cell_type": "code",
   "execution_count": 16,
   "metadata": {},
   "outputs": [
    {
     "data": {
      "text/plain": [
       "array([[ 0.19972895+3.71409373e-01j,  0.03702599+3.88707907e-01j,\n",
       "        -0.16343969+3.03213756e-01j, -0.16590057+1.90543339e-01j],\n",
       "       [ 0.15876648+2.69824581e-02j, -0.05446824+2.42633452e-01j,\n",
       "        -0.00463241+2.27415768e-01j, -0.07147674+1.92134980e-01j],\n",
       "       [ 0.05291939+7.92691860e-02j,  0.02444894+1.12988970e-01j,\n",
       "        -0.05162278-1.08639394e-01j,  0.06343097-3.95620386e-02j],\n",
       "       [-0.08801777+1.26480542e-01j,  0.02835399-2.19066757e-04j,\n",
       "        -0.01829033-1.88024136e-01j,  0.04317521-1.30923140e-01j]])"
      ]
     },
     "execution_count": 16,
     "metadata": {},
     "output_type": "execute_result"
    }
   ],
   "source": [
    "#Result from recursive process\n",
    "R[:,:,0,0]"
   ]
  },
  {
   "cell_type": "code",
   "execution_count": 17,
   "metadata": {},
   "outputs": [
    {
     "data": {
      "text/plain": [
       "array([[ 0.19972895+3.71409373e-01j,  0.03702599+3.88707907e-01j,\n",
       "        -0.16343969+3.03213756e-01j, -0.16590057+1.90543339e-01j],\n",
       "       [ 0.15876648+2.69824581e-02j, -0.05446824+2.42633452e-01j,\n",
       "        -0.00463241+2.27415768e-01j, -0.07147674+1.92134980e-01j],\n",
       "       [ 0.05291939+7.92691860e-02j,  0.02444894+1.12988970e-01j,\n",
       "        -0.05162278-1.08639394e-01j,  0.06343097-3.95620386e-02j],\n",
       "       [-0.08801777+1.26480542e-01j,  0.02835399-2.19066757e-04j,\n",
       "        -0.01829033-1.88024136e-01j,  0.04317521-1.30923140e-01j]])"
      ]
     },
     "execution_count": 17,
     "metadata": {},
     "output_type": "execute_result"
    }
   ],
   "source": [
    "#Result from G matrix\n",
    "np.einsum(\"cd,abcd->ab\",old_state,G)"
   ]
  },
  {
   "cell_type": "code",
   "execution_count": null,
   "metadata": {},
   "outputs": [],
   "source": []
  },
  {
   "cell_type": "code",
   "execution_count": null,
   "metadata": {},
   "outputs": [],
   "source": []
  },
  {
   "cell_type": "code",
   "execution_count": null,
   "metadata": {},
   "outputs": [],
   "source": []
  }
 ],
 "metadata": {
  "kernelspec": {
   "display_name": "thewalrusker",
   "language": "python",
   "name": "thewalrusker"
  },
  "language_info": {
   "codemirror_mode": {
    "name": "ipython",
    "version": 3
   },
   "file_extension": ".py",
   "mimetype": "text/x-python",
   "name": "python",
   "nbconvert_exporter": "python",
   "pygments_lexer": "ipython3",
   "version": "3.6.9"
  }
 },
 "nbformat": 4,
 "nbformat_minor": 2
}
