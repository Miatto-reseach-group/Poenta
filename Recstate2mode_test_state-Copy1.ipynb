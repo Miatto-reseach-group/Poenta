{
 "cells": [
  {
   "cell_type": "code",
   "execution_count": 1,
   "metadata": {},
   "outputs": [],
   "source": [
    "import numpy as np\n",
    "from recstate2mode import UW_,UV_,C_,mu_,Sigma_,G_matrix"
   ]
  },
  {
   "cell_type": "code",
   "execution_count": 13,
   "metadata": {},
   "outputs": [],
   "source": [
    "gamma = np.array([0,0],dtype = np.complex128)\n",
    "phi = np.array([0,0],dtype = np.complex128)\n",
    "zeta = np.array([0,0],dtype = np.complex128)\n",
    "theta = 0\n",
    "psi = 0\n",
    "theta1 = 0.3\n",
    "psi1 = 0\n",
    "cutoff_dim = 2\n",
    "cutoff= 2\n",
    "cutoff_plus = 10\n"
   ]
  },
  {
   "cell_type": "code",
   "execution_count": 14,
   "metadata": {},
   "outputs": [],
   "source": [
    "old_state = np.random.rand(cutoff_dim,cutoff_dim) + 1.0j*np.random.rand(cutoff_dim,cutoff_dim)\n",
    "old_state  /= np.linalg.norm(old_state)"
   ]
  },
  {
   "cell_type": "code",
   "execution_count": 112,
   "metadata": {},
   "outputs": [
    {
     "name": "stdout",
     "output_type": "stream",
     "text": [
      "[[0.+0.j]\n",
      " [1.+0.j]]\n",
      "[[1.        +0.j 1.41421356+0.j]\n",
      " [1.41421356+0.j 2.        +0.j]]\n"
     ]
    }
   ],
   "source": [
    "W = UW_(phi,theta1,psi1)\n",
    "V = UV_(theta,psi)\n",
    "    \n",
    "C = C_(gamma, W, zeta, V)\n",
    "mu = mu_(gamma, W, zeta, V)\n",
    "Sigma = Sigma_(W, zeta, V)\n",
    "\n",
    "cutoff = old_state.shape[0]\n",
    "dtype = old_state.dtype\n",
    "\n",
    "\n",
    "sqrt = np.sqrt(np.arange(cutoff, dtype=dtype))\n",
    "sqrt_col = np.sqrt(np.arange(cutoff, dtype=dtype)).reshape(cutoff,1)\n",
    "print(sqrt_col)\n",
    "sqrts = np.zeros((cutoff, cutoff), dtype=dtype)\n",
    "for m in range(0,cutoff):\n",
    "    for n in range(0,cutoff):\n",
    "        sqrts[m,n]= np.sqrt(m+1)*np.sqrt(n+1)\n",
    "\n",
    "print(sqrts)\n",
    "G_00pq = np.zeros((cutoff, cutoff), dtype=dtype)\n",
    "\n",
    "\n",
    "G_00pq[0,0] = C\n",
    "for q in range(1, cutoff):\n",
    "    G_00pq[0,q] = (mu[3]*G_00pq[0,q-1] - Sigma[3,3]*sqrt[q-1]*G_00pq[0,q-2])/sqrt[q]\n",
    "\n",
    "\n",
    "for p in range(1,cutoff):\n",
    "    for q in range(0,cutoff):\n",
    "        G_00pq[p,q] = (mu[2]*G_00pq[p-1,q] - Sigma[2,2]*sqrt[p-1]*G_00pq[p-2,q] - Sigma[2,3]*sqrt[q]*G_00pq[p-1,q-1])/sqrt[p]"
   ]
  },
  {
   "cell_type": "code",
   "execution_count": 16,
   "metadata": {},
   "outputs": [
    {
     "data": {
      "text/plain": [
       "array([[ 0.        +0.j,  0.        +0.j, -0.95533649+0.j,\n",
       "         0.29552021+0.j],\n",
       "       [ 0.        +0.j,  0.        +0.j, -0.29552021+0.j,\n",
       "        -0.95533649+0.j],\n",
       "       [-0.95533649+0.j, -0.29552021+0.j,  0.        +0.j,\n",
       "         0.        +0.j],\n",
       "       [ 0.29552021+0.j, -0.95533649+0.j,  0.        +0.j,\n",
       "         0.        +0.j]])"
      ]
     },
     "execution_count": 16,
     "metadata": {},
     "output_type": "execute_result"
    }
   ],
   "source": [
    "Sigma"
   ]
  },
  {
   "cell_type": "code",
   "execution_count": 17,
   "metadata": {},
   "outputs": [
    {
     "data": {
      "text/plain": [
       "array([[1.+0.j, 0.-0.j],\n",
       "       [0.-0.j, 0.+0.j]])"
      ]
     },
     "execution_count": 17,
     "metadata": {},
     "output_type": "execute_result"
    }
   ],
   "source": [
    "G_00pq"
   ]
  },
  {
   "cell_type": "code",
   "execution_count": 125,
   "metadata": {},
   "outputs": [
    {
     "name": "stdout",
     "output_type": "stream",
     "text": [
      "R [[[[ 0.1200163 +0.07489342j  0.        +0.j        ]\n",
      "   [ 0.        +0.j          0.36884203+0.34609239j]]\n",
      "\n",
      "  [[ 0.        +0.j          0.10900027+0.1022773j ]\n",
      "   [ 0.35236825+0.33063469j  0.        +0.j        ]]]\n",
      "\n",
      "\n",
      " [[[ 0.        +0.j          0.35236825+0.33063469j]\n",
      "   [-0.10900027-0.1022773j   0.        +0.j        ]]\n",
      "\n",
      "  [[ 0.30441847+0.28564238j  0.        +0.j        ]\n",
      "   [ 0.        +0.j          0.        +0.j        ]]]]\n"
     ]
    }
   ],
   "source": [
    "# R_00^jk = G_00pq * a^j b^k|old_state>\n",
    "\n",
    "R = np.zeros((cutoff, cutoff, cutoff+1, cutoff+1), dtype=dtype)\n",
    "\n",
    "R[0,0,0,0] = np.sum(G_00pq * old_state)\n",
    "\n",
    "for k in range(1,cutoff):\n",
    "    R[0,0,0,k]=np.sum(G_00pq[:,k:] * (old_state[:,:cutoff-k] * sqrt_col[:cutoff-k] ))\n",
    "    \n",
    "for j in range(1,cutoff):\n",
    "    R[0,0,j,0]=np.sum(G_00pq[j:,:] * (old_state[:cutoff-j,:] * sqrt[:cutoff-j] ))\n",
    "    \n",
    "for k in range(1,cutoff):\n",
    "    for j in range(1,cutoff): #[:cutoff-j,:cutoff-k] or [j:,k:]\n",
    "        R[0,0,j,k] = np.sum(G_00pq[:cutoff-j,:cutoff-k] *sqrts[:cutoff-j,:cutoff-k] * old_state[j:,k:] )\n",
    "        \n",
    "#R_0n^jk\n",
    "for k in range(0,cutoff):\n",
    "    for j in range(0,cutoff):\n",
    "        for n in range(1,cutoff):\n",
    "            R[0,n,j,k] = mu[1]/sqrt[n]*R[0,n-1,j,k] - Sigma[1,1]/sqrt[n]*sqrt[n-1]*R[0,n-2,j,k] - Sigma[1,2]/sqrt[n]*R[0,n-1,j+1,k] - Sigma[1,3]/sqrt[n]*R[0,n-1,j,k+1]\n",
    "\n",
    "\n",
    "for k in range(0,cutoff):\n",
    "    for j in range(0,cutoff):\n",
    "        for n in range(0,cutoff):\n",
    "            for m in range(1,cutoff):\n",
    "                R[m,n,j,k] = mu[0]/sqrt[m]*R[m-1,n,j,k] - Sigma[0,0]/sqrt[m]*sqrt[m-1]*R[m-2,n,j,k] - Sigma[0,1]*sqrt[n]/sqrt[m]*R[m-1,n-1,j,k] - Sigma[0,2]/sqrt[m]*R[m-1,n,j+1,k] - Sigma[0,3]/sqrt[m]*R[m-1,n,j,k+1]\n",
    "                \n",
    "                \n",
    "print(\"R\",R[:,:,:cutoff,:cutoff])"
   ]
  },
  {
   "cell_type": "code",
   "execution_count": 126,
   "metadata": {},
   "outputs": [
    {
     "data": {
      "text/plain": [
       "array([[0.1200163 +0.07489342j, 0.        +0.j        ],\n",
       "       [0.        +0.j        , 0.30441847+0.28564238j]])"
      ]
     },
     "execution_count": 126,
     "metadata": {},
     "output_type": "execute_result"
    }
   ],
   "source": [
    "R[:,:,0,0]"
   ]
  },
  {
   "cell_type": "code",
   "execution_count": 127,
   "metadata": {},
   "outputs": [],
   "source": [
    "G = G_matrix(gamma, phi, theta1, psi1, zeta, theta, psi,cutoff)"
   ]
  },
  {
   "cell_type": "code",
   "execution_count": 128,
   "metadata": {},
   "outputs": [
    {
     "data": {
      "text/plain": [
       "array([[0.1200163 +0.07489342j, 0.076213  +0.1698001j ],\n",
       "       [0.33633466+0.75921089j, 0.30441847+0.28564238j]])"
      ]
     },
     "execution_count": 128,
     "metadata": {},
     "output_type": "execute_result"
    }
   ],
   "source": [
    "np.einsum(\"ab,abcd->cd\",old_state,G)"
   ]
  },
  {
   "cell_type": "code",
   "execution_count": null,
   "metadata": {},
   "outputs": [],
   "source": []
  },
  {
   "cell_type": "code",
   "execution_count": null,
   "metadata": {},
   "outputs": [],
   "source": []
  },
  {
   "cell_type": "code",
   "execution_count": null,
   "metadata": {},
   "outputs": [],
   "source": []
  }
 ],
 "metadata": {
  "kernelspec": {
   "display_name": "thewalrusker",
   "language": "python",
   "name": "thewalrusker"
  },
  "language_info": {
   "codemirror_mode": {
    "name": "ipython",
    "version": 3
   },
   "file_extension": ".py",
   "mimetype": "text/x-python",
   "name": "python",
   "nbconvert_exporter": "python",
   "pygments_lexer": "ipython3",
   "version": "3.6.9"
  }
 },
 "nbformat": 4,
 "nbformat_minor": 2
}
