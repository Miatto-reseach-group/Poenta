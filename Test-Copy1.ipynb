{
 "cells": [
  {
   "cell_type": "code",
   "execution_count": 1,
   "metadata": {},
   "outputs": [],
   "source": [
    "import numpy as np\n",
    "from recstate2mode import G_matrix,G_matrix2"
   ]
  },
  {
   "cell_type": "code",
   "execution_count": 2,
   "metadata": {},
   "outputs": [],
   "source": [
    "gamma = np.array([0.1,0],dtype = np.complex128)\n",
    "phi = np.array([0,0.3],dtype = np.complex128)\n",
    "zeta = np.array([0.2,0],dtype = np.complex128)\n",
    "theta1 = 0.3\n",
    "psi1 = 0.2\n",
    "theta = 0.1\n",
    "psi = 0.4\n",
    "cutoff_dim = 2\n",
    "cutoff_plus = 4"
   ]
  },
  {
   "cell_type": "code",
   "execution_count": 3,
   "metadata": {},
   "outputs": [],
   "source": [
    "G = G_matrix(gamma, phi, theta1, psi1, zeta, theta, psi,cutoff_dim)\n",
    "G2222 = G_matrix2(gamma, phi, theta1, psi1, zeta, theta, psi,cutoff_dim)"
   ]
  },
  {
   "cell_type": "code",
   "execution_count": 4,
   "metadata": {},
   "outputs": [],
   "source": [
    "from thewalrus.fock_gradients import Dgate,Sgate,Rgate,BSgate\n",
    "# D(gamma)R(phi)BS(theta1,psi1)S(z)BS(theta,psi)"
   ]
  },
  {
   "cell_type": "code",
   "execution_count": 5,
   "metadata": {},
   "outputs": [],
   "source": [
    "gate_d1 = Dgate(np.abs(gamma[0]), np.angle(gamma[0]),cutoff_dim+cutoff_plus)[0]\n",
    "gate_d2 = Dgate(np.abs(gamma[1]), np.angle(gamma[1]),cutoff_dim+cutoff_plus)[0]\n",
    "\n",
    "gate_r1 = Rgate(phi[0],cutoff_dim+cutoff_plus)[0]\n",
    "gate_r2 = Rgate(phi[1],cutoff_dim+cutoff_plus)[0]\n",
    "\n",
    "gate_bs1 = BSgate(theta1,psi1,cutoff_dim+cutoff_plus)[0]\n",
    "\n",
    "gate_s1 = Sgate(np.abs(zeta[0]), np.angle(zeta[0]),cutoff_dim+cutoff_plus)[0]\n",
    "gate_s2 = Sgate(np.abs(zeta[1]), np.angle(zeta[1]),cutoff_dim+cutoff_plus)[0]\n",
    "\n",
    "gate_bs2 = BSgate(theta,psi,cutoff_dim+cutoff_plus)[0]"
   ]
  },
  {
   "cell_type": "code",
   "execution_count": 6,
   "metadata": {},
   "outputs": [],
   "source": [
    "# D(gamma)R(phi)BS(theta1,psi1)S(z)BS(theta,psi)\n",
    "G_real = np.einsum(\"ac,bd,ce,df,egfh,gi,hj,ikjl->akbl\",gate_d1,gate_d2,gate_r1,gate_r2,gate_bs1,gate_s1,gate_s2,gate_bs2)"
   ]
  },
  {
   "cell_type": "code",
   "execution_count": 7,
   "metadata": {},
   "outputs": [
    {
     "data": {
      "text/plain": [
       "array([[[[ 0.98340384+0.j        , -0.        +0.j        ],\n",
       "         [-0.09163989+0.j        ,  0.        -0.j        ]],\n",
       "\n",
       "        [[ 0.        +0.j        ,  0.89303716+0.27624877j],\n",
       "         [-0.        +0.j        , -0.08321894-0.02574264j]]],\n",
       "\n",
       "\n",
       "       [[[ 0.11605523+0.j        , -0.        +0.j        ],\n",
       "         [ 0.90558415+0.j        ,  0.        +0.j        ]],\n",
       "\n",
       "        [[ 0.        +0.j        ,  0.10539072+0.03260117j],\n",
       "         [ 0.        +0.j        ,  0.82236846+0.25438837j]]]])"
      ]
     },
     "execution_count": 7,
     "metadata": {},
     "output_type": "execute_result"
    }
   ],
   "source": [
    "G"
   ]
  },
  {
   "cell_type": "code",
   "execution_count": 8,
   "metadata": {},
   "outputs": [
    {
     "data": {
      "text/plain": [
       "array([[[[ 0.98428998+0.j        ,  0.03684199+0.00933377j],\n",
       "         [ 0.00545738+0.00054756j,  0.8690579 +0.26292163j]],\n",
       "\n",
       "        [[-0.08887642-0.00057692j, -0.02109599-0.00837946j],\n",
       "         [ 0.3752281 +0.0189012j , -0.06452833-0.02002913j]]],\n",
       "\n",
       "\n",
       "       [[[ 0.1161598 +0.j        , -0.36407205-0.09223619j],\n",
       "         [-0.05392966-0.00541102j,  0.09857928+0.02958346j]],\n",
       "\n",
       "        [[ 0.8782756 +0.00570113j,  0.06393381+0.01629882j],\n",
       "         [ 0.05413115+0.00328342j,  0.63802692+0.19806054j]]]])"
      ]
     },
     "execution_count": 8,
     "metadata": {},
     "output_type": "execute_result"
    }
   ],
   "source": [
    "G_real[:cutoff_dim,:cutoff_dim,:cutoff_dim,:cutoff_dim]"
   ]
  },
  {
   "cell_type": "code",
   "execution_count": null,
   "metadata": {},
   "outputs": [],
   "source": []
  }
 ],
 "metadata": {
  "kernelspec": {
   "display_name": "thewalrusker",
   "language": "python",
   "name": "thewalrusker"
  },
  "language_info": {
   "codemirror_mode": {
    "name": "ipython",
    "version": 3
   },
   "file_extension": ".py",
   "mimetype": "text/x-python",
   "name": "python",
   "nbconvert_exporter": "python",
   "pygments_lexer": "ipython3",
   "version": "3.6.9"
  }
 },
 "nbformat": 4,
 "nbformat_minor": 2
}
