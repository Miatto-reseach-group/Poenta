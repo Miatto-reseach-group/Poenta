{
 "cells": [
  {
   "cell_type": "code",
   "execution_count": 1,
   "metadata": {},
   "outputs": [
    {
     "data": {
      "application/vnd.jupyter.widget-view+json": {
       "model_id": "d8745c18cc51464da9e4f7205d8a829d",
       "version_major": 2,
       "version_minor": 0
      },
      "text/plain": [
       "Output()"
      ]
     },
     "metadata": {},
     "output_type": "display_data"
    },
    {
     "name": "stdout",
     "output_type": "stream",
     "text": [
      "73.90972208976746\n"
     ]
    },
    {
     "data": {
      "image/png": "[encoded data removed]",
      "text/plain": [
       "<Figure size 432x288 with 1 Axes>"
      ]
     },
     "metadata": {
      "needs_background": "light"
     },
     "output_type": "display_data"
    }
   ],
   "source": [
    "import numpy as np\n",
    "import tensorflow as tf\n",
    "from poenta.circuit import Circuit\n",
    "import time\n",
    "\n",
    "state_in = np.zeros(100, dtype=np.complex128)\n",
    "state_in[0] = 1\n",
    "target_out = np.zeros(100, dtype=np.complex128)\n",
    "target_out[1] = 1\n",
    "\n",
    "def loss(target, output):\n",
    "    return  1 - tf.abs(tf.reduce_sum(output * tf.math.conj(target)))**2\n",
    "\n",
    "device = Circuit(num_layers=8, num_modes=1, num_seed = 655, dtype=tf.complex128)\n",
    "tuple_in_out = (state_in,target_out),\n",
    "device.set_input_output_pairs(*tuple_in_out)\n",
    "start = time.time()\n",
    "device.optimize(loss, steps=1500, scheduler=False)\n",
    "end = time.time()\n",
    "print(end - start)"
   ]
  },
  {
   "cell_type": "code",
   "execution_count": 2,
   "metadata": {},
   "outputs": [
    {
     "name": "stdout",
     "output_type": "stream",
     "text": [
      "state_in.shape (100,)\n",
      "self._inout_pairs[0].shape[1] 100\n"
     ]
    },
    {
     "data": {
      "text/plain": [
       "array([-3.62633344e+00-6.89589052e+00j, -7.20170991e+01-1.28456284e+01j,\n",
       "       -4.29406220e+02+3.14385222e+02j, -7.16156239e+02+3.16399036e+03j,\n",
       "        7.22269175e+03+1.52709522e+04j,  6.78742580e+04+3.57273926e+04j,\n",
       "        3.05913201e+05-4.89658174e+04j,  7.79505944e+05-8.20053709e+05j,\n",
       "        3.55355170e+05-3.76785855e+06j, -6.50387833e+06-9.74172678e+06j,\n",
       "       -3.24854584e+07-9.39048083e+06j, -8.29903388e+07+3.88706743e+07j,\n",
       "       -9.00040890e+07+2.16312469e+08j,  2.01567446e+08+5.29995716e+08j,\n",
       "        1.18312850e+09+5.43026436e+08j,  2.64822421e+09-1.01538593e+09j,\n",
       "        2.22120505e+09-5.41714662e+09j, -4.90713925e+09-1.02933220e+10j,\n",
       "       -1.99966921e+10-5.64286655e+09j, -2.89703377e+10+1.93662906e+10j,\n",
       "       -5.86853661e+09+5.16742709e+10j,  4.20821720e+10+4.74084676e+10j,\n",
       "        4.41956883e+10+1.37281651e+10j,  2.44102218e+10+9.97385657e+10j,\n",
       "        3.71558994e+11+2.91321766e+11j,  1.32935220e+12-3.58323122e+11j,\n",
       "        1.03472365e+12-3.16313159e+12j, -4.69437203e+12-5.46277878e+12j,\n",
       "       -1.41418314e+13+2.74547181e+12j, -8.06521105e+12+2.58262366e+13j,\n",
       "        3.44218923e+13+3.36757301e+13j,  7.68002412e+13-2.78011661e+13j,\n",
       "        1.03546388e+13-1.32095196e+14j, -1.82916635e+14-9.49404912e+13j,\n",
       "       -2.31688345e+14+2.02769706e+14j,  1.62858627e+14+4.11519724e+14j,\n",
       "        6.12064320e+14-4.34038942e+13j,  1.57703395e+14-8.09039015e+14j,\n",
       "       -9.94666920e+14-4.27088832e+14j, -7.54295309e+14+1.19392654e+15j,\n",
       "        1.46578844e+15+1.16430907e+15j,  1.75268026e+15-1.87885055e+15j,\n",
       "       -2.45959278e+15-2.70481524e+15j, -4.28093711e+15+3.12418161e+15j,\n",
       "        3.61623275e+15+6.75664820e+15j,  1.03239616e+16-3.47780185e+15j,\n",
       "       -2.07597862e+15-1.49739321e+16j, -2.03933819e+16-1.30656312e+15j,\n",
       "       -7.32760282e+15+2.59099664e+16j,  3.05106451e+16+1.64161052e+16j,\n",
       "        2.86161968e+16-3.29410597e+16j, -3.18727189e+16-4.34829294e+16j,\n",
       "       -6.00579826e+16+2.61074045e+16j,  1.47786897e+16+7.69358348e+16j,\n",
       "        9.24110418e+16+2.48897255e+15j,  2.54934382e+16-1.04680262e+17j,\n",
       "       -1.12062522e+17-5.34546637e+16j, -8.50983619e+16+1.13199762e+17j,\n",
       "        1.07206433e+17+1.18806067e+17j,  1.52804384e+17-9.37492528e+16j,\n",
       "       -7.30525129e+16-1.85362525e+17j, -2.14969511e+17+4.58370884e+16j,\n",
       "        1.32102463e+16+2.40469595e+17j,  2.61144338e+17+2.34721581e+16j,\n",
       "        6.27489980e+16-2.76740003e+17j, -2.87446944e+17-1.03183331e+17j,\n",
       "       -1.43463766e+17+2.93842577e+17j,  2.96811375e+17+1.82469942e+17j,\n",
       "        2.19300516e+17-2.97454890e+17j, -2.97002759e+17-2.53266750e+17j,\n",
       "       -2.83857637e+17+2.96732187e+17j,  2.97899443e+17+3.10683965e+17j,\n",
       "        3.33409115e+17-3.01683202e+17j, -3.09136651e+17-3.51673997e+17j,\n",
       "       -3.65022926e+17+3.21143101e+17j,  3.38368798e+17+3.72836999e+17j,\n",
       "        3.74281559e+17-3.61206764e+17j, -3.89706478e+17-3.68274728e+17j,\n",
       "       -3.53485321e+17+4.23485848e+17j,  4.61625385e+17+3.28370737e+17j,\n",
       "        2.91267024e+17-5.02550075e+17j, -5.43911179e+17-2.40543361e+17j,\n",
       "       -1.74832080e+17+5.82487879e+17j,  6.14138821e+17+9.33415196e+16j,\n",
       "       -3.75111456e+15-6.33844431e+17j, -6.35888451e+17+1.14846385e+17j,\n",
       "        2.36450625e+17+6.14229662e+17j,  5.63109446e+17-3.62756726e+17j,\n",
       "       -4.85383988e+17-4.77919535e+17j, -3.56311833e+17+5.93414301e+17j,\n",
       "        6.73879551e+17+1.99468177e+17j,  1.33616212e+16-7.12847500e+17j,\n",
       "       -6.97200487e+17+1.90259950e+17j,  3.93528335e+17+6.17087087e+17j,\n",
       "        4.68847261e+17-5.73157487e+17j, -7.02569024e+17-2.57973660e+17j,\n",
       "       -1.41264159e+15+7.55645818e+17j,  7.11980608e+17-2.71695694e+17j,\n",
       "       -5.21785694e+17-5.62986176e+17j, -3.17636081e+17+7.03857716e+17j])"
      ]
     },
     "execution_count": 2,
     "metadata": {},
     "output_type": "execute_result"
    }
   ],
   "source": [
    "device.show_final_state(state_in)"
   ]
  },
  {
   "cell_type": "code",
   "execution_count": 2,
   "metadata": {
    "scrolled": true
   },
   "outputs": [
    {
     "name": "stdout",
     "output_type": "stream",
     "text": [
      "state_in.shape (100,)\n",
      "self._inout_pairs[0].shape[1] 100\n"
     ]
    },
    {
     "data": {
      "text/plain": [
       "array([ 3.65884125e-02-8.60745403e-03j,  9.27112775e-01-3.42527832e-01j,\n",
       "        2.18179761e-02-1.12042682e-02j, -1.09606841e-03-1.30260888e-03j,\n",
       "        1.42328765e-02-2.27038155e-03j,  2.43378998e-04-7.24762197e-03j,\n",
       "       -5.78513609e-03+9.51298699e-03j, -1.16157309e-02-5.93666845e-03j,\n",
       "       -1.06045608e-03+7.25326082e-03j,  5.16593489e-03+5.62827129e-03j,\n",
       "        1.61908909e-02-6.68359027e-03j,  1.50503806e-03+1.81114829e-03j,\n",
       "       -8.06127557e-03+3.42551476e-03j,  4.01624474e-03-7.24689292e-03j,\n",
       "        3.78116005e-03-1.48908947e-02j, -4.83595835e-03+1.29727894e-03j,\n",
       "       -2.66872920e-02+7.84790298e-03j,  2.10000252e-03+2.34349753e-03j,\n",
       "        1.90317202e-02-9.48343883e-03j, -4.63925979e-03-4.78120420e-03j,\n",
       "        6.29027821e-03-2.13203768e-02j,  5.49930862e-03+5.61586554e-03j,\n",
       "        2.36040088e-02+1.05400713e-02j,  2.20113583e-02+1.20074844e-02j,\n",
       "        7.91321092e-03+1.40930015e-03j, -1.42057420e-03+4.75632468e-04j,\n",
       "        1.42706095e-03+4.21145045e-03j, -9.28994651e-03+1.89288919e-03j,\n",
       "        1.12256396e-02+3.46500480e-03j, -4.19819342e-03+1.82538239e-02j,\n",
       "        5.05624739e-04+2.62210126e-03j,  4.93162395e-04+1.67296155e-02j,\n",
       "        5.03897829e-03+4.34099842e-03j,  1.27549605e-02+1.01046318e-02j,\n",
       "        5.42300538e-03+3.97839516e-03j,  2.20929014e-03-2.32062055e-03j,\n",
       "        5.65951003e-03-1.78589960e-04j, -8.49518472e-03+2.44217668e-03j,\n",
       "        3.29924596e-03-9.88537841e-04j, -9.20750923e-03+1.55461211e-02j,\n",
       "       -7.53076448e-05-2.18171500e-03j,  2.62387016e-03+1.72483011e-02j,\n",
       "       -2.43676339e-03+1.57982734e-03j,  4.94176125e-03+1.12258421e-02j,\n",
       "       -3.07394088e-04+3.74321843e-03j,  3.79103431e-03+6.69246696e-03j,\n",
       "        1.57590199e-03+2.20091732e-03j, -1.58894741e-03+5.64553144e-03j,\n",
       "       -3.77397496e-05+1.46276706e-03j, -2.36253063e-03+7.77513396e-03j,\n",
       "        2.66176782e-03+2.38887422e-03j, -3.63921502e-03+5.71891406e-03j,\n",
       "        3.72449797e-03-4.05711068e-03j, -6.66093848e-03+5.76830919e-03j,\n",
       "       -1.88854010e-03-6.03987697e-03j, -7.89389258e-03+4.95671764e-03j,\n",
       "       -2.13407824e-03-5.32907008e-03j, -1.04276280e-02+3.79457642e-03j,\n",
       "       -5.05707552e-03-8.46976036e-03j, -1.10896851e-02+3.87017808e-03j,\n",
       "       -1.00941218e-02-3.38042261e-03j, -9.78453050e-03+2.39203153e-03j,\n",
       "       -4.34602112e-03+4.06014404e-03j, -7.65149198e-03+8.92837728e-04j,\n",
       "        3.07348908e-03+2.19995945e-03j, -3.00034481e-03-7.45059059e-04j,\n",
       "        1.98322347e-03+6.26261704e-04j,  1.68336469e-03-3.73001581e-03j,\n",
       "        6.18277445e-04+6.72492435e-03j,  3.76271373e-03-4.44806444e-03j,\n",
       "        4.20430137e-03+1.21053563e-02j,  5.56493722e-03-6.63629602e-04j,\n",
       "        5.71619935e-03+1.07853895e-02j,  8.37633657e-03+3.88489885e-03j,\n",
       "        6.07444388e-04+7.01733356e-03j,  8.94174177e-03+5.24299689e-03j,\n",
       "       -6.38154631e-03+5.29670410e-03j,  4.67851579e-03+3.72293971e-03j,\n",
       "       -8.78746851e-03+4.83057892e-03j, -2.09618238e-03+1.59717271e-03j,\n",
       "       -5.26239326e-03+3.74017825e-03j, -6.40555614e-03+7.88111029e-05j,\n",
       "        6.31911875e-04+2.87202811e-03j, -5.28978716e-03-5.34393601e-04j,\n",
       "        3.80688660e-03+4.05094703e-03j, -1.64871291e-05+1.60733649e-04j,\n",
       "        1.01906792e-03+6.36781753e-03j,  5.32079620e-03+2.14184634e-03j,\n",
       "       -6.43235043e-03+5.83902747e-03j,  7.27877441e-03+3.94464290e-03j,\n",
       "       -1.24556027e-02-2.10564571e-04j,  5.83746968e-03+3.52571408e-03j,\n",
       "       -1.07414455e-02-8.40650214e-03j,  3.83048445e-03+7.53129556e-04j,\n",
       "       -1.86056130e-03-1.10251960e-02j,  3.26091970e-03-1.87711866e-03j,\n",
       "        5.57280255e-03-4.89594309e-03j,  2.83894099e-03-2.33110798e-03j,\n",
       "        4.54100456e-03+2.96288676e-03j,  5.75655025e-04-2.21082710e-03j])"
      ]
     },
     "execution_count": 2,
     "metadata": {},
     "output_type": "execute_result"
    }
   ],
   "source": [
    "device.show_final_state(state_in)"
   ]
  },
  {
   "cell_type": "code",
   "execution_count": 2,
   "metadata": {},
   "outputs": [],
   "source": [
    "# import matplotlib.pyplot as plt\n",
    "# x = np.arange(100)\n",
    "# final_state = device.show_final_state(state_in)\n",
    "# plt.bar(x,tf.abs(final_state))"
   ]
  },
  {
   "cell_type": "code",
   "execution_count": 7,
   "metadata": {},
   "outputs": [
    {
     "data": {
      "application/vnd.jupyter.widget-view+json": {
       "model_id": "b2c0579bdf0548ba9495ed43d3c8db75",
       "version_major": 2,
       "version_minor": 0
      },
      "text/plain": [
       "Output()"
      ]
     },
     "metadata": {},
     "output_type": "display_data"
    },
    {
     "name": "stdout",
     "output_type": "stream",
     "text": [
      "loss is: 0.0031249597668647766\n",
      "770.9297680854797\n"
     ]
    },
    {
     "data": {
      "image/png": "[encoded data removed]",
      "text/plain": [
       "<Figure size 432x288 with 1 Axes>"
      ]
     },
     "metadata": {
      "needs_background": "light"
     },
     "output_type": "display_data"
    }
   ],
   "source": [
    "import numpy as np\n",
    "import tensorflow as tf\n",
    "from poenta.circuit import Circuit\n",
    "\n",
    "state_in = np.zeros((10,10), dtype=np.complex128)\n",
    "state_in[0,0] = 1\n",
    "target_out = np.zeros((10,10), dtype=np.complex128)\n",
    "target_out[5,0] = 1/np.sqrt(2)\n",
    "target_out[0,5] = 1/np.sqrt(2)\n",
    "\n",
    "def loss(target, output):\n",
    "    return 1 - tf.abs(tf.reduce_sum(output * tf.math.conj(target)))\n",
    "\n",
    "device = Circuit(num_layers=20, num_modes=2, num_seed = 30, dtype=tf.complex128)\n",
    "tuple_in_out = (state_in,target_out),\n",
    "device.set_input_output_pairs(*tuple_in_out)\n",
    "start = time.time()\n",
    "device.optimize(loss, steps=5000)\n",
    "end = time.time()\n",
    "print(end - start)"
   ]
  },
  {
   "cell_type": "code",
   "execution_count": 8,
   "metadata": {},
   "outputs": [
    {
     "name": "stdout",
     "output_type": "stream",
     "text": [
      "state_in.shape (10, 10)\n",
      "self._inout_pairs[0].shape[1] 10\n"
     ]
    },
    {
     "data": {
      "text/plain": [
       "array([[ 4.34417489e-03-2.97821168e-03j,  4.45670833e-03+1.75261930e-03j,\n",
       "        -9.43449848e-03+1.42438977e-03j,  7.85176503e-03-1.32122622e-03j,\n",
       "         2.77666084e-03-7.55090338e-03j, -4.24423425e-01-5.63466700e-01j,\n",
       "         2.86302591e-02-7.99605362e-03j,  3.19242422e-03+1.62990241e-03j,\n",
       "        -7.33312940e-04-1.35035898e-03j,  4.36200342e-03+2.63833025e-03j],\n",
       "       [ 6.60335537e-03-1.03084973e-03j, -1.57637920e-02+2.23680181e-03j,\n",
       "         6.91198459e-03+7.22886788e-03j,  1.00529128e-02+3.16345831e-03j,\n",
       "        -6.33065096e-03+2.79157552e-03j, -6.14658194e-03-2.21544514e-03j,\n",
       "        -5.81528486e-06+8.21062149e-03j, -4.94196887e-03+1.07917058e-02j,\n",
       "        -1.19890933e-03-2.02587002e-04j, -1.16212971e-03-1.31558790e-03j],\n",
       "       [-4.60021393e-03-1.19243283e-02j, -2.58393718e-03+1.34410404e-02j,\n",
       "        -4.63598686e-03+9.49692818e-03j, -5.38714257e-03-5.55217465e-03j,\n",
       "         2.41763951e-03-1.20360206e-03j, -3.30866706e-03+8.65364379e-03j,\n",
       "        -1.93862518e-03-2.07797143e-03j, -1.41703877e-02+4.15247156e-03j,\n",
       "        -2.44741982e-03+1.65319241e-03j, -2.32641411e-03-2.03065131e-04j],\n",
       "       [ 4.36999963e-03+3.93052685e-04j, -7.74183353e-05+2.46483526e-03j,\n",
       "         8.69849225e-03-1.37134925e-03j, -6.50195895e-04+3.19024608e-03j,\n",
       "         4.30185330e-03+6.38667205e-04j,  1.14841779e-03-2.14541343e-03j,\n",
       "         4.06433018e-03-1.20837042e-03j, -2.71030438e-04-2.46804016e-03j,\n",
       "         4.06276521e-03-1.34990868e-03j, -3.06364163e-04+4.93355685e-04j],\n",
       "       [-1.35737150e-02-5.77241496e-03j,  3.42273477e-03+1.01322559e-02j,\n",
       "         1.04139985e-03+2.45593188e-03j,  7.51297267e-04+3.43510099e-03j,\n",
       "         5.32640377e-03-6.58712786e-04j, -7.77360401e-03-3.31388714e-04j,\n",
       "         3.93342759e-04-2.14268512e-04j, -5.08297523e-04+1.57890900e-03j,\n",
       "         5.45221562e-04+8.30022521e-05j,  1.31597301e-03+9.19268184e-04j],\n",
       "       [-4.14824358e-01-5.67779067e-01j,  2.81864178e-03-6.34102392e-03j,\n",
       "         1.20290658e-03-7.82408570e-03j, -1.22424273e-03-1.48810440e-03j,\n",
       "         2.78822254e-03+5.39276954e-03j,  1.65017254e-04-1.52456672e-03j,\n",
       "         3.52839348e-03+3.09253447e-03j,  1.70190998e-04+2.36379173e-04j,\n",
       "         4.63389698e-04+4.09462485e-04j,  8.36373832e-05-1.49083262e-04j],\n",
       "       [ 4.07093545e-03+2.87873593e-02j,  3.51894086e-04-1.73501484e-03j,\n",
       "         5.85580237e-03+4.68303558e-04j,  3.00042522e-03+6.70791384e-03j,\n",
       "        -3.76759083e-04-6.76465705e-04j, -3.34107283e-03-5.03449805e-04j,\n",
       "        -1.09892024e-03+4.03771840e-04j, -7.75062120e-04+9.57342463e-04j,\n",
       "         1.32125308e-04+8.30017827e-05j,  1.42158176e-04-1.40619947e-04j],\n",
       "       [ 5.95712363e-03+1.61302891e-03j, -2.78138935e-03+1.73082068e-03j,\n",
       "        -2.43135246e-03+2.47179562e-03j,  2.15077509e-03-6.59940869e-04j,\n",
       "        -4.84352565e-03+2.33124508e-03j, -2.90466262e-04-2.79055683e-04j,\n",
       "         5.01497990e-04+9.60192625e-04j,  5.69016710e-05+2.54556105e-04j,\n",
       "         1.04376590e-05+5.16238652e-05j,  1.45942102e-05+4.68074398e-06j],\n",
       "       [-1.93274972e-03+2.53196053e-04j, -4.48232062e-05-1.33630575e-03j,\n",
       "        -2.00884966e-04+1.74879347e-03j, -1.13615979e-03-7.90358241e-04j,\n",
       "         5.45506007e-04-7.82662463e-04j, -5.96546684e-04-6.93215855e-04j,\n",
       "        -3.14167284e-04+8.34447410e-05j,  1.29625913e-04+1.73933071e-04j,\n",
       "         2.45279689e-05+7.61068159e-05j,  3.90588217e-05+1.53899818e-05j],\n",
       "       [ 1.05592822e-03-2.89999626e-03j, -4.41952449e-04+8.14208644e-04j,\n",
       "         8.99031832e-04-8.35196093e-04j,  5.10917578e-04+4.09845091e-04j,\n",
       "        -1.86030067e-03-9.60461455e-05j, -1.56583765e-04-9.35789176e-05j,\n",
       "        -9.47491860e-05+1.36322972e-04j, -2.90559736e-05+2.83812269e-05j,\n",
       "        -1.62843906e-05+3.68777539e-05j,  3.04345109e-06-2.89282253e-06j]])"
      ]
     },
     "execution_count": 8,
     "metadata": {},
     "output_type": "execute_result"
    }
   ],
   "source": [
    "device.show_final_state(state_in)"
   ]
  },
  {
   "cell_type": "code",
   "execution_count": null,
   "metadata": {},
   "outputs": [],
   "source": []
  },
  {
   "cell_type": "code",
   "execution_count": null,
   "metadata": {},
   "outputs": [],
   "source": []
  },
  {
   "cell_type": "code",
   "execution_count": null,
   "metadata": {},
   "outputs": [],
   "source": []
  },
  {
   "cell_type": "code",
   "execution_count": 9,
   "metadata": {},
   "outputs": [],
   "source": [
    "from scipy.special import factorial as fac\n",
    "def hex_GKP(mu, d, delta, cutoff, nmax=7):\n",
    "    r\"\"\"Hexagonal GKP code state.\n",
    "    The Hex GKP state is defined by\n",
    "    .. math::\n",
    "        |mu> = \\sum_{n_1,n_2=-\\infty}^\\infty e^{-i(q+\\sqrt{3}p)/2}\n",
    "            \\sqrt{4\\pi/\\sqrt{3}d}(dn_1+\\mu) e^{iq\\sqrt{4\\pi/\\sqrt{3}d}n_2}|0>\n",
    "    where d is the dimension of a code space, \\mu=0,1,...,d-1, |0> is the\n",
    "    vacuum state, and the states are modulated by a Gaussian envelope in the\n",
    "    case of finite energy:\n",
    "    ..math:: e^{-\\Delta ^2 n}|\\mu>\n",
    "    Args:\n",
    "        d (int): the dimension of the code space.\n",
    "        mu (int): mu=0,1,...,d-1.\n",
    "        delta (float): width of the modulating Gaussian envelope.\n",
    "        cutoff (int): the Fock basis truncation of the returned state vector.\n",
    "        nmax (int): the Hex GKP state |mu> is calculated by performing the\n",
    "            sum using n1,n1=-nmax,...,nmax.\n",
    "    Returns:\n",
    "        array: a size [cutoff] complex array state vector.\n",
    "    \"\"\"\n",
    "    n1 = np.arange(-nmax, nmax+1)[:, None]\n",
    "    n2 = np.arange(-nmax, nmax+1)[None, :]\n",
    "\n",
    "    n1sq = n1**2\n",
    "    n2sq = n2**2\n",
    "\n",
    "    sqrt3 = np.sqrt(3)\n",
    "\n",
    "    arg1 = -1j*np.pi*n2*(d*n1+mu)/d\n",
    "    arg2 = -np.pi*(d**2*n1sq+n2sq-d*n1*(n2-2*mu)-n2*mu+mu**2)/(sqrt3*d)\n",
    "    arg2 *= 1-np.exp(-2*delta**2)\n",
    "\n",
    "    amplitude = (np.exp(arg1)*np.exp(arg2)).flatten()[:, None]\n",
    "\n",
    "    alpha = np.sqrt(np.pi/(2*sqrt3*d)) * (sqrt3*(d*n1+mu) - 1j*(d*n1-2*n2+mu))\n",
    "    alpha *= np.exp(-delta**2)\n",
    "\n",
    "    alpha = alpha.flatten()[:, None]\n",
    "    n = np.arange(cutoff)[None, :]\n",
    "    coherent = np.exp(-0.5*np.abs(alpha)**2)*alpha**n/np.sqrt(fac(n))\n",
    "\n",
    "    hex_state = np.sum(amplitude*coherent, axis=0)\n",
    "    return hex_state/np.linalg.norm(hex_state)"
   ]
  },
  {
   "cell_type": "code",
   "execution_count": null,
   "metadata": {},
   "outputs": [
    {
     "data": {
      "application/vnd.jupyter.widget-view+json": {
       "model_id": "85a1ffea9c6549e9b1b41bcd71342ec0",
       "version_major": 2,
       "version_minor": 0
      },
      "text/plain": [
       "Output()"
      ]
     },
     "metadata": {},
     "output_type": "display_data"
    }
   ],
   "source": [
    "import numpy as np\n",
    "import tensorflow as tf\n",
    "from poenta.circuit import Circuit\n",
    "import time\n",
    "\n",
    "state_in = np.zeros(100, dtype=np.complex128)\n",
    "state_in[0] = 1\n",
    "target_out = hex_GKP(1, 2, 0.3, 100, nmax=7)\n",
    "\n",
    "\n",
    "def loss(target, output):\n",
    "    return 1 - tf.abs(tf.reduce_sum(output * tf.math.conj(target))) ** 2\n",
    "\n",
    "device = Circuit(num_layers=25, num_modes=1, num_seed = 52, dtype=tf.complex128)\n",
    "tuple_in_out = (state_in,target_out),\n",
    "device.set_input_output_pairs(*tuple_in_out)\n",
    "start = time.time()\n",
    "device.optimize(loss, steps=10000)\n",
    "end = time.time()\n",
    "print(end - start)"
   ]
  },
  {
   "cell_type": "code",
   "execution_count": 14,
   "metadata": {},
   "outputs": [
    {
     "name": "stdout",
     "output_type": "stream",
     "text": [
      "state_in.shape (50,)\n",
      "self._inout_pairs[0].shape[1] 50\n"
     ]
    },
    {
     "name": "stderr",
     "output_type": "stream",
     "text": [
      "/Users/mac/anaconda3/envs/thewalrusenv/lib/python3.6/site-packages/numpy/core/_asarray.py:85: ComplexWarning: Casting complex values to real discards the imaginary part\n",
      "  return array(a, dtype, copy=False, order=order)\n"
     ]
    },
    {
     "data": {
      "text/plain": [
       "[<matplotlib.lines.Line2D at 0x7f80aaa84c88>]"
      ]
     },
     "execution_count": 14,
     "metadata": {},
     "output_type": "execute_result"
    },
    {
     "data": {
      "image/png": "[encoded data removed]",
      "text/plain": [
       "<Figure size 432x288 with 1 Axes>"
      ]
     },
     "metadata": {
      "needs_background": "light"
     },
     "output_type": "display_data"
    }
   ],
   "source": [
    "import matplotlib.pyplot as plt\n",
    "plt.plot(hex_GKP(1, 2, 0.3, 50, nmax=7))\n",
    "plt.plot(device.show_final_state(state_in))"
   ]
  },
  {
   "cell_type": "code",
   "execution_count": 1,
   "metadata": {},
   "outputs": [],
   "source": [
    "from poenta.jitted import R_matrix\n",
    "import numpy as np"
   ]
  },
  {
   "cell_type": "code",
   "execution_count": 2,
   "metadata": {},
   "outputs": [
    {
     "name": "stdout",
     "output_type": "stream",
     "text": [
      "here inside R_matrix!!!!\n",
      "[ 0.06649767+0.06447514j -0.02758441-0.00233808j  0.06586111+0.01599559j\n",
      " -0.03106978+0.01323293j  0.05826139-0.01729142j]\n"
     ]
    },
    {
     "data": {
      "text/plain": [
       "array([-0.02758441+0.00233808j, -0.05203294-0.02956279j,\n",
       "       -0.0209776 -0.08109002j,  0.07109422-0.07667328j,\n",
       "        0.11986285+0.01537793j])"
      ]
     },
     "execution_count": 2,
     "metadata": {},
     "output_type": "execute_result"
    }
   ],
   "source": [
    "R_matrix(1+1j,0.1,2+1j,5,np.array([0,1,0,0,0],dtype=np.complex128))[:,0]"
   ]
  },
  {
   "cell_type": "code",
   "execution_count": null,
   "metadata": {},
   "outputs": [],
   "source": []
  }
 ],
 "metadata": {
  "kernelspec": {
   "display_name": "thewalrusker",
   "language": "python",
   "name": "thewalrusker"
  },
  "language_info": {
   "codemirror_mode": {
    "name": "ipython",
    "version": 3
   },
   "file_extension": ".py",
   "mimetype": "text/x-python",
   "name": "python",
   "nbconvert_exporter": "python",
   "pygments_lexer": "ipython3",
   "version": "3.6.9"
  }
 },
 "nbformat": 4,
 "nbformat_minor": 2
}
