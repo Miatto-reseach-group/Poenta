{
 "cells": [
  {
   "cell_type": "code",
   "execution_count": 1,
   "metadata": {},
   "outputs": [],
   "source": [
    "import numpy as np\n",
    "np.set_printoptions(suppress=True, linewidth=280)\n",
    "from numba import jit\n",
    "from matplotlib import pyplot as plt\n",
    "from tqdm.notebook import tqdm\n",
    "import tensorflow as tf\n",
    "from typing import List, Dict\n",
    "from recstate import C_, mu_, Sigma_, dC_, dmu_, dSigma_, RG, new_state, G_matrix\n",
    "\n",
    "%load_ext autoreload\n",
    "%autoreload 2"
   ]
  },
  {
   "cell_type": "code",
   "execution_count": 2,
   "metadata": {},
   "outputs": [],
   "source": [
    "@jit(nopython = True)\n",
    "def grad_state(gamma, phi, zeta, psi):\n",
    "    \"\"\"\n",
    "    Gradient of the new state\n",
    "    \"\"\"\n",
    "    \n",
    "    C = C_(gamma, phi, zeta)\n",
    "    dC = dC_(gamma, phi, zeta)\n",
    "    mu = mu_(gamma, phi, zeta)\n",
    "    dmu = dmu_(gamma, phi, zeta)\n",
    "    Sigma = Sigma_(gamma, phi, zeta)\n",
    "    dSigma = dSigma_(gamma, phi, zeta)\n",
    "    \n",
    "    R, G = RG(C, mu, Sigma, psi)\n",
    "    \n",
    "    cutoff = len(psi)\n",
    "    dtype = psi.dtype\n",
    "    sqrt = np.sqrt(np.arange(cutoff, dtype=dtype))\n",
    "    order = None\n",
    "    if order is None:\n",
    "        order = cutoff\n",
    "    \n",
    "    dR = np.zeros((cutoff, cutoff, 5), dtype=dtype)\n",
    "    dG = np.zeros((cutoff, 5), dtype=dtype)\n",
    "    \n",
    "    # grad of first row of Transformation matrix\n",
    "    dG[0] = dC\n",
    "    for n in range(cutoff-1):\n",
    "        dG[n+1] = (dmu[1]*G[n] + mu[1]*dG[n] - dSigma[1,1]*sqrt[n]*G[n-1] - Sigma[1,1]*sqrt[n]*dG[n-1])/sqrt[n+1]\n",
    "    \n",
    "    # first row of dR matrix\n",
    "    for n in range(cutoff):\n",
    "        dR[0, n] = np.dot(np.transpose(dG[:cutoff - n]), psi)\n",
    "        psi = psi[1:]*sqrt[1:cutoff-n]\n",
    "\n",
    "    # rest of dR matrix\n",
    "    for m in range(cutoff - 1):\n",
    "        for k in range(cutoff - m - 1):\n",
    "            dR[m+1, k] = (dmu[0]*R[m, k] + mu[0]*dR[m, k] - dSigma[0,0]*sqrt[m]*R[m-1, k] - Sigma[0,0]*sqrt[m]*dR[m-1, k] - Sigma[0,1]*dR[m, k+1] - dSigma[0,1]*R[m, k+1])/sqrt[m+1]\n",
    "            \n",
    "    return np.transpose(dR[:,0])"
   ]
  },
  {
   "cell_type": "code",
   "execution_count": 3,
   "metadata": {},
   "outputs": [],
   "source": [
    "@tf.custom_gradient\n",
    "def Ggate(gamma, phi, zeta, Psi):\n",
    "    \"\"\"\n",
    "    Direct evolution of a quantum state\n",
    "    \"\"\"\n",
    "    gamma = gamma.numpy()\n",
    "    phi = phi.numpy()\n",
    "    zeta = zeta.numpy()\n",
    "    Psi = Psi.numpy()\n",
    "    cutoff = Psi.shape[0]\n",
    "    \n",
    "    Psi_new = new_state(gamma, phi, zeta, Psi)\n",
    "    \n",
    "    def grad(dy):\n",
    "        \"Vector-Jacobian products for all the arguments (gamma, phi, zeta, Psi)\"\n",
    "        dPsi_dgamma, dPsi_dgammac, dPsi_dphi, dPsi_dz, dPsi_dzc = grad_state(gamma, phi, zeta, Psi) # gradients wrt g,g*,phi,z,z* \n",
    "        grad_gammac = tf.reduce_sum(dy*np.conj(dPsi_dgamma) + tf.math.conj(dy)*dPsi_dgammac)\n",
    "        grad_phi = tf.math.real(tf.reduce_sum(dy*np.conj(dPsi_dphi))) # was *2\n",
    "        grad_zetac = tf.reduce_sum(dy*np.conj(dPsi_dz) + tf.math.conj(dy)*dPsi_dzc)\n",
    "        grad_Psic = tf.linalg.matvec(G_matrix(gamma, phi, zeta, cutoff), dy, adjoint_a=True)\n",
    "        \n",
    "        return grad_gammac, grad_phi, grad_zetac, grad_Psic\n",
    "    \n",
    "    return Psi_new, grad\n",
    "\n",
    "def kerr(k, cutoff):\n",
    "    diag = tf.exp(1j*tf.cast(k, dtype=tf.complex128)*np.arange(cutoff)**2)\n",
    "    return diag"
   ]
  },
  {
   "cell_type": "code",
   "execution_count": 4,
   "metadata": {},
   "outputs": [],
   "source": [
    "def init_complex(layers, scale=0.01):\n",
    "    return np.random.normal(scale=scale, size=layers) + 1j*np.random.normal(scale=scale, size=layers)\n",
    "\n",
    "def init_real(layers, scale=0.01):\n",
    "    return np.random.normal(scale=scale, size=layers)"
   ]
  },
  {
   "cell_type": "code",
   "execution_count": 5,
   "metadata": {},
   "outputs": [],
   "source": [
    "from dataclasses import dataclass, field\n",
    "\n",
    "@dataclass\n",
    "class Variables:\n",
    "    gamma: tf.Variable\n",
    "    phi: tf.Tensor\n",
    "    zeta: tf.Variable\n",
    "    kappa: tf.Variable\n",
    "    \n",
    "    @property\n",
    "    def learnable(self):\n",
    "        return [var for var in (self.gamma, self.phi, self.zeta, self.kappa) if isinstance(var, tf.Variable)]\n",
    "    \n",
    "    @property\n",
    "    def all(self):\n",
    "        return (self.gamma, self.phi, self.zeta, self.kappa)\n",
    "    \n",
    "    @property\n",
    "    def L1_norm(self):\n",
    "        tensor = tf.stack([tf.cast(var, tf.complex128) for var in self.all])\n",
    "        return tf.abs(tf.linalg.norm(tensor, ord=1))\n",
    "\n",
    "@dataclass\n",
    "class Config:\n",
    "    state_in:np.array\n",
    "    objective:np.array\n",
    "    dtype: tf.dtypes.DType\n",
    "    num_layers: int\n",
    "    steps: int\n",
    "    optimizer: str = 'SGD'\n",
    "    LR: float = 0.001\n",
    "    LR_schedule: dict = field(default_factory=dict) # optional"
   ]
  },
  {
   "cell_type": "code",
   "execution_count": 6,
   "metadata": {},
   "outputs": [],
   "source": [
    "class Circuit:\n",
    "    def __init__(self, config:Config):\n",
    "        self.config = config\n",
    "        \n",
    "        self.state_in = tf.cast(tf.constant(config.state_in), dtype=config.dtype)\n",
    "        self.objective = tf.cast(tf.constant(config.objective), dtype=config.dtype)\n",
    "        self._state_out = None\n",
    "        \n",
    "        self.cutoff = self.state_in.shape[0]\n",
    "        self.optimizer = tf.optimizers.__dict__[config.optimizer](config.LR)\n",
    "        \n",
    "        gamma = tf.Variable(init_complex(self.config.num_layers, 0.01), dtype=tf.complex128, name=f'gamma')\n",
    "        phi = tf.constant(init_real(self.config.num_layers), dtype=tf.float64, name=f'phi')\n",
    "        zeta = tf.Variable(init_complex(self.config.num_layers, 0.01), dtype=tf.complex128, name=f'zeta')\n",
    "        kappa = tf.Variable(init_real(self.config.num_layers, 0.01), dtype=tf.float64, name=f'kappa')\n",
    "        \n",
    "        self.variables = Variables(gamma, phi, zeta, kappa)\n",
    "        \n",
    "\n",
    "    def _layer_out(self, gamma: tf.Tensor, phi: tf.Tensor, zeta: tf.Tensor, k: tf.Tensor, layer_in: tf.Tensor) -> tf.Tensor:\n",
    "        layer_out = Ggate(gamma, phi, zeta, layer_in)\n",
    "        return kerr(k, self.cutoff)*layer_out\n",
    "    \n",
    "    @property # lazy property\n",
    "    def state_out(self) -> tf.Tensor:\n",
    "        if self._state_out is None: \n",
    "            state = self.state_in\n",
    "            for i in range(self.config.num_layers):\n",
    "                state = self._layer_out(self.variables.gamma[i], self.variables.phi[i], self.variables.zeta[i], self.variables.kappa[i], state)\n",
    "            self._state_out = state\n",
    "        return self._state_out\n",
    "    \n",
    "    @property\n",
    "    def fidelity(self) -> tf.float64:\n",
    "        return tf.abs(tf.reduce_sum(self.state_out*tf.math.conj(self.objective)))**2\n",
    "\n",
    "    def loss(self) -> tf.float64:\n",
    "        return 1.0 - self.fidelity\n",
    "\n",
    "    def minimize_step(self) -> float:\n",
    "        self._state_out = None # reset lazy output state\n",
    "        self.optimizer.minimize(self.loss, self.variables.learnable)\n",
    "        return self.loss()\n",
    "        \n",
    "\n",
    "    def minimize(self) -> list:\n",
    "        \n",
    "        loss_list = []\n",
    "        for i in tqdm(range(self.config.steps)):\n",
    "            try:\n",
    "                loss_list.append(self.minimize_step())\n",
    "\n",
    "                # LR scheduling\n",
    "                for threshold, new_LR in self.config.LR_schedule.items():\n",
    "                    if loss_list[-1] < threshold:\n",
    "                        self.optimizer.lr = new_LR\n",
    "\n",
    "                if i%10 == 0:\n",
    "                    print(f\"Fidelity = {100*(self.fidelity):.3f}%, LR = {self.optimizer.lr.numpy():.5f}\", end='\\r')\n",
    "\n",
    "            except KeyboardInterrupt:\n",
    "                break\n",
    "            except Exception as e:\n",
    "                print(f\"other exception: {e}\")\n",
    "                raise e\n",
    "        return loss_list"
   ]
  },
  {
   "cell_type": "code",
   "execution_count": 7,
   "metadata": {},
   "outputs": [],
   "source": [
    "config = Config(\n",
    "    state_in = np.identity(50)[0], # vacuum\n",
    "    objective = np.identity(50)[1], # 1 photon\n",
    "    dtype=tf.complex128,\n",
    "    num_layers=8, \n",
    "    steps=500,\n",
    "    optimizer='Adam', \n",
    "    LR=0.002, \n",
    "    LR_schedule={0.1:0.001, 0.05:0.001, 0.01:0.0005, 0.005:0.0001, 0.001:0.00005}\n",
    ")\n",
    "\n",
    "experiment = Circuit(config)"
   ]
  },
  {
   "cell_type": "code",
   "execution_count": 8,
   "metadata": {},
   "outputs": [
    {
     "data": {
      "application/vnd.jupyter.widget-view+json": {
       "model_id": "bba759f89e7b478e9d29646d18f2adf9",
       "version_major": 2,
       "version_minor": 0
      },
      "text/plain": [
       "HBox(children=(FloatProgress(value=0.0, max=500.0), HTML(value='')))"
      ]
     },
     "metadata": {},
     "output_type": "display_data"
    },
    {
     "name": "stdout",
     "output_type": "stream",
     "text": [
      "Fidelity = 99.813%, LR = 0.00010\n"
     ]
    },
    {
     "data": {
      "image/png": "[encoded data removed]",
      "text/plain": [
       "<Figure size 432x288 with 1 Axes>"
      ]
     },
     "metadata": {
      "needs_background": "light"
     },
     "output_type": "display_data"
    }
   ],
   "source": [
    "loss_list = experiment.minimize()\n",
    "plt.plot(loss_list);"
   ]
  },
  {
   "cell_type": "code",
   "execution_count": null,
   "metadata": {},
   "outputs": [],
   "source": []
  }
 ],
 "metadata": {
  "kernelspec": {
   "display_name": "Python 3.8",
   "language": "python",
   "name": "py38"
  },
  "language_info": {
   "codemirror_mode": {
    "name": "ipython",
    "version": 3
   },
   "file_extension": ".py",
   "mimetype": "text/x-python",
   "name": "python",
   "nbconvert_exporter": "python",
   "pygments_lexer": "ipython3",
   "version": "3.8.2"
  }
 },
 "nbformat": 4,
 "nbformat_minor": 4
}
