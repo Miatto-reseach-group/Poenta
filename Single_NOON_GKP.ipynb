{
 "cells": [
  {
   "cell_type": "code",
   "execution_count": 1,
   "metadata": {},
   "outputs": [
    {
     "data": {
      "application/vnd.jupyter.widget-view+json": {
       "model_id": "ef7e417e4da447f7b8e49e724e1e2f13",
       "version_major": 2,
       "version_minor": 0
      },
      "text/plain": [
       "Output()"
      ]
     },
     "metadata": {},
     "output_type": "display_data"
    },
    {
     "name": "stdout",
     "output_type": "stream",
     "text": [
      "loss is: 0.0021406561136245728\n",
      "68.56723713874817\n"
     ]
    },
    {
     "data": {
      "application/vnd.jupyter.widget-view+json": {
       "model_id": "62b45428742d420689fbccead088f332",
       "version_major": 2,
       "version_minor": 0
      },
      "text/plain": [
       "Output()"
      ]
     },
     "metadata": {},
     "output_type": "display_data"
    },
    {
     "name": "stdout",
     "output_type": "stream",
     "text": [
      "loss is: 0.0013380832970142365\n",
      "55.45998692512512\n"
     ]
    },
    {
     "data": {
      "application/vnd.jupyter.widget-view+json": {
       "model_id": "82a9b686ff124f7e98acfe9995b0a580",
       "version_major": 2,
       "version_minor": 0
      },
      "text/plain": [
       "Output()"
      ]
     },
     "metadata": {},
     "output_type": "display_data"
    },
    {
     "name": "stdout",
     "output_type": "stream",
     "text": [
      "loss is: 0.007759079337120056\n",
      "52.787540912628174\n"
     ]
    },
    {
     "data": {
      "application/vnd.jupyter.widget-view+json": {
       "model_id": "306814e980dd4b9dbf3104cc147a8baf",
       "version_major": 2,
       "version_minor": 0
      },
      "text/plain": [
       "Output()"
      ]
     },
     "metadata": {},
     "output_type": "display_data"
    },
    {
     "name": "stdout",
     "output_type": "stream",
     "text": [
      "loss is: 0.023987658321857452\n",
      "51.84784722328186\n"
     ]
    },
    {
     "data": {
      "application/vnd.jupyter.widget-view+json": {
       "model_id": "ba51acb06336482a8b00b00bb88cc0d9",
       "version_major": 2,
       "version_minor": 0
      },
      "text/plain": [
       "Output()"
      ]
     },
     "metadata": {},
     "output_type": "display_data"
    },
    {
     "name": "stdout",
     "output_type": "stream",
     "text": [
      "loss is: 0.005108363926410675\n",
      "52.645644187927246\n"
     ]
    },
    {
     "data": {
      "application/vnd.jupyter.widget-view+json": {
       "model_id": "33f3dbed00bc4ca08c84db09fba90f37",
       "version_major": 2,
       "version_minor": 0
      },
      "text/plain": [
       "Output()"
      ]
     },
     "metadata": {},
     "output_type": "display_data"
    },
    {
     "name": "stdout",
     "output_type": "stream",
     "text": [
      "loss is: 0.0028172731399536133\n",
      "61.92656993865967\n"
     ]
    },
    {
     "data": {
      "image/png": "[encoded data removed]",
      "text/plain": [
       "<Figure size 432x288 with 1 Axes>"
      ]
     },
     "metadata": {
      "needs_background": "light"
     },
     "output_type": "display_data"
    }
   ],
   "source": [
    "import numpy as np\n",
    "import tensorflow as tf\n",
    "from poenta.circuit import Circuit\n",
    "import time\n",
    "\n",
    "state_in = np.zeros(100, dtype=np.complex128)\n",
    "state_in[0] = 1\n",
    "target_out = np.zeros(100, dtype=np.complex128)\n",
    "target_out[1] = 1\n",
    "\n",
    "def loss(target, output):\n",
    "    return  1 - tf.abs(tf.reduce_sum(output * tf.math.conj(target)))**2\n",
    "\n",
    "for num_seed in [660,661,662,663,664,665]:\n",
    "    device = Circuit(num_layers=8, num_modes=1, num_seed = num_seed, dtype=tf.complex128)\n",
    "    tuple_in_out = (state_in,target_out),\n",
    "    device.set_input_output_pairs(*tuple_in_out)\n",
    "    start = time.time()\n",
    "    device.optimize(loss, steps=1500)\n",
    "    end = time.time()\n",
    "    print(end - start)"
   ]
  },
  {
   "cell_type": "code",
   "execution_count": 4,
   "metadata": {},
   "outputs": [
    {
     "name": "stdout",
     "output_type": "stream",
     "text": [
      "state_in.shape (100,)\n",
      "self._inout_pairs[0].shape[1] 100\n"
     ]
    },
    {
     "data": {
      "text/plain": [
       "<BarContainer object of 100 artists>"
      ]
     },
     "execution_count": 4,
     "metadata": {},
     "output_type": "execute_result"
    },
    {
     "data": {
      "image/png": "[encoded data removed]",
      "text/plain": [
       "<Figure size 432x288 with 1 Axes>"
      ]
     },
     "metadata": {
      "needs_background": "light"
     },
     "output_type": "display_data"
    }
   ],
   "source": [
    "import matplotlib.pyplot as plt\n",
    "x = np.arange(100)\n",
    "final_state = device.show_final_state(state_in)\n",
    "plt.bar(x,tf.abs(final_state))"
   ]
  },
  {
   "cell_type": "code",
   "execution_count": 7,
   "metadata": {},
   "outputs": [
    {
     "data": {
      "application/vnd.jupyter.widget-view+json": {
       "model_id": "d9061550beb74b139f39c75e8f8de300",
       "version_major": 2,
       "version_minor": 0
      },
      "text/plain": [
       "Output()"
      ]
     },
     "metadata": {},
     "output_type": "display_data"
    },
    {
     "name": "stdout",
     "output_type": "stream",
     "text": [
      "loss is: 0.00836215540766716\n",
      "696.1619017124176\n"
     ]
    },
    {
     "data": {
      "image/png": "[encoded data removed]",
      "text/plain": [
       "<Figure size 432x288 with 1 Axes>"
      ]
     },
     "metadata": {
      "needs_background": "light"
     },
     "output_type": "display_data"
    }
   ],
   "source": [
    "import numpy as np\n",
    "import tensorflow as tf\n",
    "from poenta.circuit import Circuit\n",
    "\n",
    "state_in = np.zeros((10,10), dtype=np.complex128)\n",
    "state_in[0,0] = 1\n",
    "target_out = np.zeros((10,10), dtype=np.complex128)\n",
    "target_out[5,0] = 1/np.sqrt(2)\n",
    "target_out[0,5] = 1/np.sqrt(2)\n",
    "\n",
    "def loss(target, output):\n",
    "    return 1 - tf.abs(tf.reduce_sum(output * tf.math.conj(target))) ** 2\n",
    "\n",
    "device = Circuit(num_layers=20, num_modes=2, num_seed = 30, dtype=tf.complex128)\n",
    "tuple_in_out = (state_in,target_out),\n",
    "device.set_input_output_pairs(*tuple_in_out)\n",
    "start = time.time()\n",
    "device.optimize(loss, steps=5000)\n",
    "end = time.time()\n",
    "print(end - start)"
   ]
  },
  {
   "cell_type": "code",
   "execution_count": 8,
   "metadata": {},
   "outputs": [
    {
     "name": "stdout",
     "output_type": "stream",
     "text": [
      "state_in.shape (10, 10)\n",
      "self._inout_pairs[0].shape[1] 10\n"
     ]
    },
    {
     "data": {
      "text/plain": [
       "array([[ 8.22894811e-05+9.15610048e-04j, -3.15523183e-03+2.10431545e-03j,\n",
       "        -6.73114623e-03-2.32431910e-04j, -3.59401246e-03+1.44971248e-04j,\n",
       "        -4.35582167e-03-2.50045045e-03j,  7.06058492e-01-4.61908732e-02j,\n",
       "        -2.66760620e-03+1.71642982e-03j, -2.40139471e-03-7.07777419e-04j,\n",
       "         1.21791592e-02-3.57318989e-03j, -4.84918592e-03+8.86877937e-03j],\n",
       "       [ 1.33464480e-03-3.37800792e-03j,  2.03856837e-03+4.11021877e-03j,\n",
       "        -1.57194200e-03-5.67031082e-03j, -3.42087906e-03+7.40199706e-03j,\n",
       "        -1.18155949e-03-1.34534769e-03j,  4.17248155e-03+4.67076070e-04j,\n",
       "        -4.19771774e-04+3.46931310e-03j,  7.70019641e-03+3.63256043e-04j,\n",
       "         7.04540940e-04+2.66937381e-03j,  1.37095935e-03-4.13899067e-04j],\n",
       "       [ 2.42273455e-03+1.91736441e-04j,  2.55989774e-03-1.82208577e-03j,\n",
       "         8.33453230e-03-7.08316554e-03j,  1.75442093e-03+3.28464889e-03j,\n",
       "         1.57503427e-03-1.56234647e-04j, -3.67392271e-03+4.61567496e-04j,\n",
       "        -7.91174201e-03+3.57315882e-03j,  2.13439462e-03-9.87687108e-03j,\n",
       "         2.64624347e-03-1.16661351e-03j, -1.62917943e-03+1.00071729e-03j],\n",
       "       [ 9.05915126e-04+1.29513563e-04j,  3.89225533e-03+1.70472071e-03j,\n",
       "         2.47909172e-03+1.26389134e-03j, -3.05846696e-03+3.92937483e-03j,\n",
       "         2.54148505e-03-4.90218414e-03j, -2.40279452e-03-9.88027855e-03j,\n",
       "         5.56996775e-03+1.06912313e-02j, -1.11645313e-03+5.27894054e-03j,\n",
       "        -9.34947174e-03+7.62288157e-06j, -9.60635865e-04+1.90193230e-03j],\n",
       "       [-3.23867029e-03+1.38940898e-03j,  3.70746784e-04+8.31919280e-04j,\n",
       "        -7.72589422e-03-5.61698510e-03j, -6.33278496e-03-2.37965153e-03j,\n",
       "         5.47277535e-03+2.26925832e-03j,  5.18502830e-03+8.34352293e-03j,\n",
       "        -7.42603014e-04-7.13419370e-04j,  2.11149656e-05-4.05110150e-03j,\n",
       "         1.10660282e-03+2.70977890e-03j,  4.72710983e-04+1.86805440e-03j],\n",
       "       [ 6.99149225e-01-4.73458998e-02j, -1.50630927e-03+2.05251187e-03j,\n",
       "        -6.95862441e-03-1.73184912e-03j,  6.60984693e-03+5.74132600e-03j,\n",
       "        -2.55303850e-03-2.71200492e-03j,  5.73684725e-04-8.04139179e-04j,\n",
       "        -6.56339257e-04+3.18968365e-05j, -1.21973696e-03+9.00131434e-04j,\n",
       "        -8.36532653e-04-7.73041325e-04j,  4.03433404e-04+8.14635608e-04j],\n",
       "       [-4.28159213e-03-1.81084504e-03j, -9.90664062e-04-4.68635119e-04j,\n",
       "        -2.48010747e-03-5.32035836e-04j,  1.89424799e-03+5.73410602e-04j,\n",
       "         2.75542917e-03-3.02488887e-04j,  8.58050070e-04-1.54651153e-03j,\n",
       "         3.39125050e-04-2.83267265e-03j,  3.63360910e-05+1.66584875e-03j,\n",
       "        -6.76392024e-04+2.19289911e-04j,  1.77541181e-04+4.24802919e-04j],\n",
       "       [ 1.14126404e-03-3.27696897e-05j, -1.32868959e-03+1.21057354e-02j,\n",
       "        -6.23182102e-03+3.84978564e-03j,  3.40443932e-03-3.24309394e-03j,\n",
       "        -1.54000799e-04-1.38126622e-03j, -1.27088700e-03+1.08439733e-03j,\n",
       "        -1.19347513e-03-5.71218666e-04j,  1.47276105e-03+1.55787629e-04j,\n",
       "         1.56332213e-04-1.99744630e-04j,  2.61367618e-04-1.72525760e-04j],\n",
       "       [ 7.58069690e-03+1.65151088e-02j, -1.61993453e-03-1.36998096e-03j,\n",
       "        -1.24701326e-04+4.37268554e-03j, -1.29353923e-03+6.02234396e-04j,\n",
       "         1.42776519e-03+3.94949253e-05j,  8.52689925e-04+7.15995021e-04j,\n",
       "        -3.46996371e-04+4.18641841e-05j, -6.37211334e-05-5.46942558e-04j,\n",
       "         2.43565152e-05-7.48385884e-06j, -4.88414215e-05-1.14800048e-04j],\n",
       "       [ 5.03842544e-03+6.43765330e-03j, -1.90321462e-03+7.92495551e-04j,\n",
       "         7.90587075e-04+7.39551264e-04j,  1.45137079e-03+1.15172212e-03j,\n",
       "        -1.38109629e-04-1.52723900e-03j,  7.14143614e-04-1.00579629e-06j,\n",
       "         7.46515938e-05+2.87813675e-04j,  2.20243459e-05+1.15245977e-04j,\n",
       "         2.52220180e-04-7.42497835e-05j,  3.16621148e-05-6.58103761e-05j]])"
      ]
     },
     "execution_count": 8,
     "metadata": {},
     "output_type": "execute_result"
    }
   ],
   "source": [
    "device.show_final_state(state_in)"
   ]
  },
  {
   "cell_type": "code",
   "execution_count": null,
   "metadata": {},
   "outputs": [],
   "source": []
  },
  {
   "cell_type": "code",
   "execution_count": null,
   "metadata": {},
   "outputs": [],
   "source": []
  },
  {
   "cell_type": "code",
   "execution_count": null,
   "metadata": {},
   "outputs": [],
   "source": []
  },
  {
   "cell_type": "code",
   "execution_count": 2,
   "metadata": {},
   "outputs": [],
   "source": [
    "from scipy.special import factorial as fac\n",
    "def hex_GKP(mu, d, delta, cutoff, nmax=7):\n",
    "    r\"\"\"Hexagonal GKP code state.\n",
    "    The Hex GKP state is defined by\n",
    "    .. math::\n",
    "        |mu> = \\sum_{n_1,n_2=-\\infty}^\\infty e^{-i(q+\\sqrt{3}p)/2}\n",
    "            \\sqrt{4\\pi/\\sqrt{3}d}(dn_1+\\mu) e^{iq\\sqrt{4\\pi/\\sqrt{3}d}n_2}|0>\n",
    "    where d is the dimension of a code space, \\mu=0,1,...,d-1, |0> is the\n",
    "    vacuum state, and the states are modulated by a Gaussian envelope in the\n",
    "    case of finite energy:\n",
    "    ..math:: e^{-\\Delta ^2 n}|\\mu>\n",
    "    Args:\n",
    "        d (int): the dimension of the code space.\n",
    "        mu (int): mu=0,1,...,d-1.\n",
    "        delta (float): width of the modulating Gaussian envelope.\n",
    "        cutoff (int): the Fock basis truncation of the returned state vector.\n",
    "        nmax (int): the Hex GKP state |mu> is calculated by performing the\n",
    "            sum using n1,n1=-nmax,...,nmax.\n",
    "    Returns:\n",
    "        array: a size [cutoff] complex array state vector.\n",
    "    \"\"\"\n",
    "    n1 = np.arange(-nmax, nmax+1)[:, None]\n",
    "    n2 = np.arange(-nmax, nmax+1)[None, :]\n",
    "\n",
    "    n1sq = n1**2\n",
    "    n2sq = n2**2\n",
    "\n",
    "    sqrt3 = np.sqrt(3)\n",
    "\n",
    "    arg1 = -1j*np.pi*n2*(d*n1+mu)/d\n",
    "    arg2 = -np.pi*(d**2*n1sq+n2sq-d*n1*(n2-2*mu)-n2*mu+mu**2)/(sqrt3*d)\n",
    "    arg2 *= 1-np.exp(-2*delta**2)\n",
    "\n",
    "    amplitude = (np.exp(arg1)*np.exp(arg2)).flatten()[:, None]\n",
    "\n",
    "    alpha = np.sqrt(np.pi/(2*sqrt3*d)) * (sqrt3*(d*n1+mu) - 1j*(d*n1-2*n2+mu))\n",
    "    alpha *= np.exp(-delta**2)\n",
    "\n",
    "    alpha = alpha.flatten()[:, None]\n",
    "    n = np.arange(cutoff)[None, :]\n",
    "    coherent = np.exp(-0.5*np.abs(alpha)**2)*alpha**n/np.sqrt(fac(n))\n",
    "\n",
    "    hex_state = np.sum(amplitude*coherent, axis=0)\n",
    "    return hex_state/np.linalg.norm(hex_state)"
   ]
  },
  {
   "cell_type": "code",
   "execution_count": 13,
   "metadata": {},
   "outputs": [
    {
     "data": {
      "application/vnd.jupyter.widget-view+json": {
       "model_id": "2c6a6ce5e5b643f587e1eaf04fd30a0e",
       "version_major": 2,
       "version_minor": 0
      },
      "text/plain": [
       "Output()"
      ]
     },
     "metadata": {},
     "output_type": "display_data"
    },
    {
     "name": "stdout",
     "output_type": "stream",
     "text": [
      "loss is: 0.0046299658715724945\n",
      "414.7360918521881\n"
     ]
    },
    {
     "data": {
      "image/png": "[encoded data removed]",
      "text/plain": [
       "<Figure size 432x288 with 1 Axes>"
      ]
     },
     "metadata": {
      "needs_background": "light"
     },
     "output_type": "display_data"
    }
   ],
   "source": [
    "import numpy as np\n",
    "import tensorflow as tf\n",
    "from poenta.circuit import Circuit\n",
    "import time\n",
    "\n",
    "state_in = np.zeros(50, dtype=np.complex128)\n",
    "state_in[0] = 1\n",
    "target_out = hex_GKP(1, 2, 0.3, 50, nmax=7)\n",
    "\n",
    "\n",
    "def loss(target, output):\n",
    "    return 1 - tf.abs(tf.reduce_sum(output * tf.math.conj(target))) ** 2\n",
    "\n",
    "device = Circuit(num_layers=25, num_modes=1, num_seed = 52, dtype=tf.complex128)\n",
    "tuple_in_out = (state_in,target_out),\n",
    "device.set_input_output_pairs(*tuple_in_out)\n",
    "start = time.time()\n",
    "device.optimize(loss, steps=10000)\n",
    "end = time.time()\n",
    "print(end - start)"
   ]
  },
  {
   "cell_type": "code",
   "execution_count": 14,
   "metadata": {},
   "outputs": [
    {
     "name": "stdout",
     "output_type": "stream",
     "text": [
      "state_in.shape (50,)\n",
      "self._inout_pairs[0].shape[1] 50\n"
     ]
    },
    {
     "name": "stderr",
     "output_type": "stream",
     "text": [
      "/Users/mac/anaconda3/envs/thewalrusenv/lib/python3.6/site-packages/numpy/core/_asarray.py:85: ComplexWarning: Casting complex values to real discards the imaginary part\n",
      "  return array(a, dtype, copy=False, order=order)\n"
     ]
    },
    {
     "data": {
      "text/plain": [
       "[<matplotlib.lines.Line2D at 0x7f80aaa84c88>]"
      ]
     },
     "execution_count": 14,
     "metadata": {},
     "output_type": "execute_result"
    },
    {
     "data": {
      "image/png": "[encoded data removed]",
      "text/plain": [
       "<Figure size 432x288 with 1 Axes>"
      ]
     },
     "metadata": {
      "needs_background": "light"
     },
     "output_type": "display_data"
    }
   ],
   "source": [
    "import matplotlib.pyplot as plt\n",
    "plt.plot(hex_GKP(1, 2, 0.3, 50, nmax=7))\n",
    "plt.plot(device.show_final_state(state_in))"
   ]
  },
  {
   "cell_type": "code",
   "execution_count": null,
   "metadata": {},
   "outputs": [],
   "source": []
  }
 ],
 "metadata": {
  "kernelspec": {
   "display_name": "thewalrusker",
   "language": "python",
   "name": "thewalrusker"
  },
  "language_info": {
   "codemirror_mode": {
    "name": "ipython",
    "version": 3
   },
   "file_extension": ".py",
   "mimetype": "text/x-python",
   "name": "python",
   "nbconvert_exporter": "python",
   "pygments_lexer": "ipython3",
   "version": "3.6.9"
  }
 },
 "nbformat": 4,
 "nbformat_minor": 2
}
