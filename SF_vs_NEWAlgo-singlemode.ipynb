{
 "cells": [
  {
   "cell_type": "code",
   "execution_count": 1,
   "metadata": {},
   "outputs": [],
   "source": [
    "import numpy as np\n",
    "import tensorflow as tf\n",
    "import strawberryfields as sf\n",
    "from numba import njit"
   ]
  },
  {
   "cell_type": "code",
   "execution_count": 2,
   "metadata": {},
   "outputs": [
    {
     "data": {
      "text/plain": [
       "'0.15.1'"
      ]
     },
     "execution_count": 2,
     "metadata": {},
     "output_type": "execute_result"
    }
   ],
   "source": [
    "sf.__version__"
   ]
  },
  {
   "cell_type": "code",
   "execution_count": 3,
   "metadata": {},
   "outputs": [],
   "source": [
    "def test_sf(cutoff_dim):\n",
    "    eng = sf.Engine('fock', backend_options={'cutoff_dim':cutoff_dim})\n",
    "\n",
    "    gamma1 = np.random.normal(scale=0.01) + 1j*np.random.normal(scale=0.01)\n",
    "    phi1 = np.random.normal(scale=0.01)\n",
    "    zeta1 = np.random.normal(scale=0.01) + 1j*np.random.normal(scale=0.01)\n",
    "\n",
    "    \n",
    "    prog = sf.Program(1)\n",
    "    gamma1r = np.abs(gamma1)\n",
    "    gamma1phi = np.angle(gamma1)\n",
    "\n",
    "    with prog.context as mode:\n",
    "        sf.ops.Dgate(gamma1r,phi=gamma1phi) | mode[0]\n",
    "        sf.ops.Rgate(phi1) | mode[0]\n",
    "        sf.ops.Sgate(zeta1) | mode[0]\n",
    "    state_out = eng.run(prog).state.ket()\n",
    "    \n",
    "    return state_out"
   ]
  },
  {
   "cell_type": "code",
   "execution_count": 4,
   "metadata": {},
   "outputs": [],
   "source": [
    "import numpy as np\n",
    "from numba import jit\n",
    "\n",
    "@njit  # (nb.types.Tuple((nb.complex128, nb.complex128[:], nb.complex128[:,:]))(nb.complex128, nb.float64, nb.complex128))\n",
    "def C_mu_Sigma(gamma: np.complex, phi: np.float, z: np.complex) -> tuple:\n",
    "    \"\"\"\n",
    "    Utility function to construct:\n",
    "    1. C constant\n",
    "    2. Mu vector\n",
    "    3. Sigma matrix\n",
    "    Arguments:\n",
    "        gamma (complex): displacement parameter\n",
    "        phi (float): phase rotation parameter\n",
    "        z (complex): squeezing parameter\n",
    "        dtype (numpy type): unused for now\n",
    "    Returns:\n",
    "        C (complex), mu (complex array[2]), Sigma (complex array[2,2])\n",
    "    \"\"\"\n",
    "#     z = convert_scalar(z)\n",
    "#     phi = convert_scalar(phi)\n",
    "#     gamma = convert_scalar(gamma)\n",
    "    r = np.abs(z)\n",
    "    delta = np.angle(z)\n",
    "    exp2phidelta = np.exp(1j * (2 * phi + delta))\n",
    "    eiphi = np.exp(1j * phi)\n",
    "    tanhr = np.tanh(r)\n",
    "    coshr = np.cosh(r)\n",
    "    cgamma = np.conj(gamma)\n",
    "\n",
    "    C = np.exp(-0.5 * np.abs(gamma) ** 2 - 0.5 * cgamma ** 2 * exp2phidelta * tanhr) / np.sqrt(coshr)\n",
    "    mu = np.array([cgamma * exp2phidelta * tanhr + gamma, -cgamma * eiphi / coshr,])\n",
    "    Sigma = np.array([[exp2phidelta * tanhr, -eiphi / coshr], [-eiphi / coshr, -np.exp(-1j * delta) * tanhr],])\n",
    "\n",
    "    return C, mu, Sigma\n",
    "\n",
    "\n",
    "@njit\n",
    "def R_matrix(gamma: np.complex, phi: np.float, z: np.complex, cutoff: int, old_state: np.array) -> np.array:\n",
    "    \"\"\"\n",
    "    Directly constructs the transformed state recursively and exactly.\n",
    "\n",
    "    Arguments:\n",
    "        gamma (complex): displacement parameter\n",
    "        phi (float): phase rotation parameter\n",
    "        z (complex): squeezing parameter\n",
    "        old_state (complex array[D]): State to be transformed\n",
    "\n",
    "    Returns:\n",
    "        R (complex array[D,D]): the matrix whose 1st column is the transformed state\n",
    "    \"\"\"\n",
    "\n",
    "    dtype = old_state.dtype\n",
    "    C, mu, Sigma = C_mu_Sigma(gamma, phi, z)\n",
    "\n",
    "    sqrt = np.sqrt(np.arange(cutoff, dtype=dtype))\n",
    "\n",
    "    R = np.zeros((cutoff, cutoff), dtype=dtype)\n",
    "    G0 = np.zeros(cutoff, dtype=dtype)\n",
    "\n",
    "    # first row of Transformation matrix\n",
    "    G0[0] = C\n",
    "    for n in range(1, cutoff):\n",
    "        G0[n] = mu[1] / sqrt[n] * G0[n - 1] - Sigma[1, 1] * sqrt[n - 1] / sqrt[n] * G0[n - 2]\n",
    "\n",
    "    # first row of R matrix\n",
    "    for n in range(cutoff):\n",
    "        R[0, n] = np.dot(G0[: cutoff - n], old_state)\n",
    "        old_state = old_state[1:] * sqrt[1 : cutoff - n]\n",
    "\n",
    "    # rest of R matrix\n",
    "    for m in range(1, cutoff):\n",
    "        for n in range(cutoff - m):\n",
    "            R[m, n] = (\n",
    "                mu[0] / sqrt[m] * R[m - 1, n]\n",
    "                - Sigma[0, 0] * sqrt[m - 1] / sqrt[m] * R[m - 2, n]\n",
    "                - Sigma[0, 1] / sqrt[m] * R[m - 1, n + 1]\n",
    "            )\n",
    "\n",
    "    return R"
   ]
  },
  {
   "cell_type": "code",
   "execution_count": 5,
   "metadata": {},
   "outputs": [],
   "source": [
    "def test_singlemode(cutoff_dim):\n",
    "    gamma1 = np.random.normal(scale=0.01) + 1j*np.random.normal(scale=0.01)\n",
    "    phi1 = np.random.normal(scale=0.01)\n",
    "    zeta1 = np.random.normal(scale=0.01) + 1j*np.random.normal(scale=0.01)\n",
    "\n",
    "    Psi = np.zeros(cutoff_dim,dtype=np.complex128)\n",
    "    Psi[0] = 1  #vaccum\n",
    "    state_out = R_matrix(gamma1,phi1, zeta1,cutoff_dim, Psi)[:,0]\n",
    "    return state_out"
   ]
  },
  {
   "cell_type": "code",
   "execution_count": 6,
   "metadata": {},
   "outputs": [],
   "source": [
    "x = [5,10,15,20,25,30,35,40]"
   ]
  },
  {
   "cell_type": "code",
   "execution_count": 7,
   "metadata": {},
   "outputs": [
    {
     "name": "stdout",
     "output_type": "stream",
     "text": [
      "1.97 ms ± 879 µs per loop (mean ± std. dev. of 7 runs, 1 loop each)\n",
      "1.72 ms ± 717 µs per loop (mean ± std. dev. of 7 runs, 100 loops each)\n",
      "1.22 ms ± 526 µs per loop (mean ± std. dev. of 7 runs, 1000 loops each)\n",
      "1.29 ms ± 360 µs per loop (mean ± std. dev. of 7 runs, 1000 loops each)\n",
      "1e+03 µs ± 292 µs per loop (mean ± std. dev. of 7 runs, 1000 loops each)\n",
      "822 µs ± 88.5 µs per loop (mean ± std. dev. of 7 runs, 1000 loops each)\n",
      "1.05 ms ± 181 µs per loop (mean ± std. dev. of 7 runs, 1000 loops each)\n",
      "1.12 ms ± 172 µs per loop (mean ± std. dev. of 7 runs, 1000 loops each)\n"
     ]
    }
   ],
   "source": [
    "time_list_sf = []\n",
    "for cutoff_dim in x:\n",
    "    t = %timeit -o test_sf(cutoff_dim)\n",
    "    time_list_sf.append(t.average)"
   ]
  },
  {
   "cell_type": "code",
   "execution_count": 8,
   "metadata": {},
   "outputs": [
    {
     "name": "stdout",
     "output_type": "stream",
     "text": [
      "35.8 µs ± 22.7 µs per loop (mean ± std. dev. of 7 runs, 1 loop each)\n",
      "28 µs ± 2.3 µs per loop (mean ± std. dev. of 7 runs, 10000 loops each)\n",
      "46 µs ± 14.9 µs per loop (mean ± std. dev. of 7 runs, 10000 loops each)\n",
      "34.5 µs ± 2.36 µs per loop (mean ± std. dev. of 7 runs, 10000 loops each)\n",
      "42.6 µs ± 6.46 µs per loop (mean ± std. dev. of 7 runs, 10000 loops each)\n",
      "41.5 µs ± 279 ns per loop (mean ± std. dev. of 7 runs, 10000 loops each)\n",
      "60.1 µs ± 16.7 µs per loop (mean ± std. dev. of 7 runs, 10000 loops each)\n",
      "53.5 µs ± 1.65 µs per loop (mean ± std. dev. of 7 runs, 10000 loops each)\n"
     ]
    }
   ],
   "source": [
    "time_list_2mode = []\n",
    "for cutoff_dim in x:\n",
    "    t = %timeit -o test_singlemode(cutoff_dim)\n",
    "    time_list_2mode.append(t.average)"
   ]
  },
  {
   "cell_type": "code",
   "execution_count": 9,
   "metadata": {},
   "outputs": [
    {
     "data": {
      "text/plain": [
       "<matplotlib.legend.Legend at 0x7fa50e2dc6d8>"
      ]
     },
     "execution_count": 9,
     "metadata": {},
     "output_type": "execute_result"
    },
    {
     "data": {
      "image/png": "[encoded data removed]",
      "text/plain": [
       "<Figure size 432x288 with 1 Axes>"
      ]
     },
     "metadata": {
      "needs_background": "light"
     },
     "output_type": "display_data"
    }
   ],
   "source": [
    "from matplotlib import pyplot as plt\n",
    "plt1 = plt.plot(x,time_list_sf,'r');\n",
    "plt2 = plt.plot(x,time_list_2mode,'b');\n",
    "# plt3 = plt.plot(x,time_list_2mode2,'y');\n",
    "plt.yscale('log')\n",
    "plt.grid(True)\n",
    "plt.legend((plt1[0],plt2[0]),(\"Strawberryfields 0.15.1\",\"New Algorithm\"))"
   ]
  },
  {
   "cell_type": "code",
   "execution_count": 10,
   "metadata": {},
   "outputs": [
    {
     "data": {
      "text/plain": [
       "[0.0019718145818582605,\n",
       " 0.0017229750187003187,\n",
       " 0.0012169246588434493,\n",
       " 0.0012943605382627408,\n",
       " 0.0009997798327157008,\n",
       " 0.0008220582175833572,\n",
       " 0.0010515300780035823,\n",
       " 0.0011213417229675021]"
      ]
     },
     "execution_count": 10,
     "metadata": {},
     "output_type": "execute_result"
    }
   ],
   "source": [
    "time_list_sf"
   ]
  },
  {
   "cell_type": "code",
   "execution_count": 11,
   "metadata": {},
   "outputs": [
    {
     "data": {
      "text/plain": [
       "[3.583572937973908e-05,\n",
       " 2.803339737334422e-05,\n",
       " 4.59833134431392e-05,\n",
       " 3.451277251255565e-05,\n",
       " 4.259514887151974e-05,\n",
       " 4.1481226574563024e-05,\n",
       " 6.013486231677234e-05,\n",
       " 5.3461466057758245e-05]"
      ]
     },
     "execution_count": 11,
     "metadata": {},
     "output_type": "execute_result"
    }
   ],
   "source": [
    "time_list_2mode"
   ]
  },
  {
   "cell_type": "code",
   "execution_count": null,
   "metadata": {},
   "outputs": [],
   "source": []
  },
  {
   "cell_type": "code",
   "execution_count": null,
   "metadata": {},
   "outputs": [],
   "source": []
  }
 ],
 "metadata": {
  "kernelspec": {
   "display_name": "new_sf",
   "language": "python",
   "name": "new_sf"
  },
  "language_info": {
   "codemirror_mode": {
    "name": "ipython",
    "version": 3
   },
   "file_extension": ".py",
   "mimetype": "text/x-python",
   "name": "python",
   "nbconvert_exporter": "python",
   "pygments_lexer": "ipython3",
   "version": "3.6.9"
  }
 },
 "nbformat": 4,
 "nbformat_minor": 2
}
