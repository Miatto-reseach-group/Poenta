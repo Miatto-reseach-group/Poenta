{
 "cells": [
  {
   "cell_type": "code",
   "execution_count": 1,
   "metadata": {},
   "outputs": [],
   "source": [
    "import numpy as np\n",
    "from fastgaussian1 import new_state,G_matrix"
   ]
  },
  {
   "cell_type": "code",
   "execution_count": 2,
   "metadata": {},
   "outputs": [],
   "source": [
    "gamma = np.array([0.1,0],dtype = np.complex128)\n",
    "phi = np.array([0,0.3],dtype = np.complex128)\n",
    "zeta = np.array([0.2,0],dtype = np.complex128)\n",
    "theta1 = 0\n",
    "psi1 = 0\n",
    "theta = 0\n",
    "psi = 0\n",
    "cutoff_dim = 2\n",
    "state = np.random.rand(cutoff_dim,cutoff_dim) + 1.0j*np.random.rand(cutoff_dim,cutoff_dim)\n",
    "old_state = state/ np.linalg.norm(state)"
   ]
  },
  {
   "cell_type": "code",
   "execution_count": 3,
   "metadata": {},
   "outputs": [],
   "source": [
    "G,S,mu = G_matrix(gamma, phi, theta1, psi1, zeta, theta, psi,cutoff_dim)"
   ]
  },
  {
   "cell_type": "code",
   "execution_count": 4,
   "metadata": {},
   "outputs": [],
   "source": [
    "from thewalrus.fock_gradients import Dgate,Sgate,Rgate,Kgate,BSgate\n",
    "# D(gamma)R(phi)BS(theta1,psi1)S(z)BS(theta,psi)"
   ]
  },
  {
   "cell_type": "code",
   "execution_count": 5,
   "metadata": {},
   "outputs": [],
   "source": [
    "gate_d1 = Dgate(np.abs(gamma[0]), np.angle(gamma[0]),cutoff_dim)\n",
    "gate_d2 = Dgate(np.abs(gamma[1]), np.angle(gamma[1]),cutoff_dim)\n",
    "gate_d = np.tensordot(gate_d1[0],gate_d2[0],axes=0)\n",
    "\n",
    "gate_r1 = Rgate(phi[0],cutoff_dim)\n",
    "gate_r2 = Rgate(phi[1],cutoff_dim)\n",
    "gate_r = np.tensordot(gate_r1[0],gate_r2[0],axes=0)\n",
    "\n",
    "gate_bs1 = BSgate(theta1,psi1,cutoff_dim)[0]\n",
    "\n",
    "gate_s1 = Sgate(np.abs(zeta[0]), np.angle(zeta[0]),cutoff_dim)\n",
    "gate_s2 = Sgate(np.abs(zeta[1]), np.angle(zeta[1]),cutoff_dim)\n",
    "gate_s = np.tensordot(gate_s1[0],gate_s2[0],axes=0)\n",
    "\n",
    "gate_bs2 = BSgate(theta,psi,cutoff_dim)[0]"
   ]
  },
  {
   "cell_type": "code",
   "execution_count": 6,
   "metadata": {},
   "outputs": [
    {
     "data": {
      "text/plain": [
       "array([[[[0.98517692+0.j        , 0.        +0.j        ],\n",
       "         [0.        +0.j        , 0.94117546+0.29113969j]],\n",
       "\n",
       "        [[0.        +0.j        , 0.        +0.j        ],\n",
       "         [0.        +0.j        , 0.        +0.j        ]]],\n",
       "\n",
       "\n",
       "       [[[0.        +0.j        , 0.        +0.j        ],\n",
       "         [0.        +0.j        , 0.        +0.j        ]],\n",
       "\n",
       "        [[0.95613856+0.j        , 0.        +0.j        ],\n",
       "         [0.        +0.j        , 0.91343405+0.28255826j]]]])"
      ]
     },
     "execution_count": 6,
     "metadata": {},
     "output_type": "execute_result"
    }
   ],
   "source": [
    "gate_d@gate_r@gate_bs1@gate_s@gate_bs2"
   ]
  },
  {
   "cell_type": "code",
   "execution_count": 7,
   "metadata": {},
   "outputs": [],
   "source": [
    "from thewalrus.fock_gradients import G2gate_jit"
   ]
  },
  {
   "cell_type": "code",
   "execution_count": 8,
   "metadata": {},
   "outputs": [],
   "source": [
    "G2,S2,mu2 = G2gate_jit(np.array([0,0.3]), np.array([0.1,0]), np.array([0,0]), np.array([0.2,0]), np.array([0,0]), cutoff_dim)"
   ]
  },
  {
   "cell_type": "code",
   "execution_count": 9,
   "metadata": {},
   "outputs": [
    {
     "data": {
      "text/plain": [
       "array([ 0.11973753+0.j, -0.0980328 -0.j,  0.        +0.j, -0.        -0.j])"
      ]
     },
     "execution_count": 9,
     "metadata": {},
     "output_type": "execute_result"
    }
   ],
   "source": [
    "mu"
   ]
  },
  {
   "cell_type": "code",
   "execution_count": 10,
   "metadata": {},
   "outputs": [
    {
     "data": {
      "text/plain": [
       "array([ 0.11973753+0.j, -0.0980328 +0.j,  0.        +0.j,  0.        +0.j])"
      ]
     },
     "execution_count": 10,
     "metadata": {},
     "output_type": "execute_result"
    }
   ],
   "source": [
    "mu2"
   ]
  },
  {
   "cell_type": "code",
   "execution_count": null,
   "metadata": {},
   "outputs": [],
   "source": []
  },
  {
   "cell_type": "code",
   "execution_count": 11,
   "metadata": {},
   "outputs": [
    {
     "data": {
      "text/plain": [
       "array([[-0.19737532-0.j        ,  0.980328  +0.j        ,\n",
       "         0.        +0.j        ,  0.        -0.j        ],\n",
       "       [ 0.980328  +0.j        ,  0.19737532+0.j        ,\n",
       "         0.        +0.j        , -0.        +0.j        ],\n",
       "       [ 0.        +0.j        ,  0.        +0.j        ,\n",
       "         0.        +0.j        ,  0.95533649+0.29552021j],\n",
       "       [ 0.        -0.j        , -0.        +0.j        ,\n",
       "         0.95533649+0.29552021j,  0.        +0.j        ]])"
      ]
     },
     "execution_count": 11,
     "metadata": {},
     "output_type": "execute_result"
    }
   ],
   "source": [
    "S"
   ]
  },
  {
   "cell_type": "code",
   "execution_count": 12,
   "metadata": {},
   "outputs": [
    {
     "data": {
      "text/plain": [
       "array([[-0.19737532-0.j        ,  0.980328  +0.j        ,\n",
       "        -0.        +0.j        , -0.        +0.j        ],\n",
       "       [ 0.        +0.j        ,  0.19737532+0.j        ,\n",
       "         0.        +0.j        ,  0.        +0.j        ],\n",
       "       [ 0.        +0.j        ,  0.        +0.j        ,\n",
       "         0.        -0.j        ,  0.95533649+0.29552021j],\n",
       "       [ 0.        +0.j        ,  0.        +0.j        ,\n",
       "         0.        +0.j        ,  0.        +0.j        ]])"
      ]
     },
     "execution_count": 12,
     "metadata": {},
     "output_type": "execute_result"
    }
   ],
   "source": [
    "S2"
   ]
  },
  {
   "cell_type": "code",
   "execution_count": null,
   "metadata": {},
   "outputs": [],
   "source": []
  },
  {
   "cell_type": "code",
   "execution_count": 13,
   "metadata": {},
   "outputs": [
    {
     "data": {
      "text/plain": [
       "array([[[[ 0.98712334+0.j        , -0.        +0.j        ],\n",
       "         [ 0.        +0.j        , -0.94303495-0.29171489j]],\n",
       "\n",
       "        [[-0.09677046+0.j        ,  0.        +0.j        ],\n",
       "         [-0.        +0.j        ,  0.09244836+0.02859763j]]],\n",
       "\n",
       "\n",
       "       [[[ 0.11819571+0.j        ,  0.        +0.j        ],\n",
       "         [ 0.        +0.j        , -0.11291668-0.03492922j]],\n",
       "\n",
       "        [[-0.9792917 +0.j        ,  0.        +0.j        ],\n",
       "         [ 0.        +0.j        ,  0.9355531 +0.28940049j]]]])"
      ]
     },
     "execution_count": 13,
     "metadata": {},
     "output_type": "execute_result"
    }
   ],
   "source": [
    "G"
   ]
  },
  {
   "cell_type": "code",
   "execution_count": 14,
   "metadata": {},
   "outputs": [
    {
     "data": {
      "text/plain": [
       "array([[[[ 0.98420516+0.j        ,  0.        +0.j        ],\n",
       "         [ 0.        +0.j        ,  0.9402471 +0.29085251j]],\n",
       "\n",
       "        [[-0.09648439+0.j        ,  0.        +0.j        ],\n",
       "         [ 0.        +0.j        , -0.09217506-0.02851309j]]],\n",
       "\n",
       "\n",
       "       [[[ 0.1178463 +0.j        ,  0.        +0.j        ],\n",
       "         [ 0.        +0.j        ,  0.11258287+0.03482596j]],\n",
       "\n",
       "        [[ 0.95329107+0.j        ,  0.        +0.j        ],\n",
       "         [ 0.        +0.j        ,  0.91071374+0.28171677j]]]])"
      ]
     },
     "execution_count": 14,
     "metadata": {},
     "output_type": "execute_result"
    }
   ],
   "source": [
    "G2"
   ]
  },
  {
   "cell_type": "code",
   "execution_count": 15,
   "metadata": {},
   "outputs": [
    {
     "data": {
      "text/plain": [
       "array([[[[0.98517692+0.j        , 0.        +0.j        ],\n",
       "         [0.        +0.j        , 0.94117546+0.29113969j]],\n",
       "\n",
       "        [[0.        +0.j        , 0.        +0.j        ],\n",
       "         [0.        +0.j        , 0.        +0.j        ]]],\n",
       "\n",
       "\n",
       "       [[[0.        +0.j        , 0.        +0.j        ],\n",
       "         [0.        +0.j        , 0.        +0.j        ]],\n",
       "\n",
       "        [[0.95613856+0.j        , 0.        +0.j        ],\n",
       "         [0.        +0.j        , 0.91343405+0.28255826j]]]])"
      ]
     },
     "execution_count": 15,
     "metadata": {},
     "output_type": "execute_result"
    }
   ],
   "source": [
    "gate_d@gate_r@gate_bs1@gate_s@gate_bs2"
   ]
  },
  {
   "cell_type": "code",
   "execution_count": null,
   "metadata": {},
   "outputs": [],
   "source": []
  }
 ],
 "metadata": {
  "kernelspec": {
   "display_name": "thewalrusker",
   "language": "python",
   "name": "thewalrusker"
  },
  "language_info": {
   "codemirror_mode": {
    "name": "ipython",
    "version": 3
   },
   "file_extension": ".py",
   "mimetype": "text/x-python",
   "name": "python",
   "nbconvert_exporter": "python",
   "pygments_lexer": "ipython3",
   "version": "3.6.9"
  }
 },
 "nbformat": 4,
 "nbformat_minor": 2
}
