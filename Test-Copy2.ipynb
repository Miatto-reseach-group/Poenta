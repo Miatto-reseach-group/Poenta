{
 "cells": [
  {
   "cell_type": "code",
   "execution_count": 1,
   "metadata": {},
   "outputs": [],
   "source": [
    "import numpy as np\n",
    "from recstate2mode import G_matrix,G_matrix2"
   ]
  },
  {
   "cell_type": "code",
   "execution_count": 2,
   "metadata": {},
   "outputs": [],
   "source": [
    "gamma = np.array([0,0],dtype = np.complex128)\n",
    "phi = np.array([0,0],dtype = np.complex128)\n",
    "zeta = np.array([0,0],dtype = np.complex128)\n",
    "theta = 0\n",
    "psi = 0\n",
    "theta1 = np.pi/6\n",
    "psi1 = np.pi\n",
    "cutoff_dim = 2\n",
    "cutoff_plus = 20"
   ]
  },
  {
   "cell_type": "code",
   "execution_count": 3,
   "metadata": {},
   "outputs": [],
   "source": [
    "G,Sigma,mu,W,V = G_matrix(gamma, phi, theta1, psi1, zeta, theta, psi,cutoff_dim)"
   ]
  },
  {
   "cell_type": "code",
   "execution_count": 4,
   "metadata": {},
   "outputs": [
    {
     "data": {
      "text/plain": [
       "array([[ 0.       +0.j, -0.       +0.j, -0.8660254-0.j,  0.       +0.j],\n",
       "       [-0.       +0.j,  0.       +0.j,  0.       +0.j, -0.8660254-0.j],\n",
       "       [-0.8660254-0.j,  0.       +0.j,  0.       +0.j,  0.       +0.j],\n",
       "       [ 0.       +0.j, -0.8660254-0.j,  0.       +0.j,  0.       +0.j]])"
      ]
     },
     "execution_count": 4,
     "metadata": {},
     "output_type": "execute_result"
    }
   ],
   "source": [
    "Sigma"
   ]
  },
  {
   "cell_type": "code",
   "execution_count": 5,
   "metadata": {},
   "outputs": [
    {
     "data": {
      "text/plain": [
       "array([ 0.+0.j,  0.+0.j, -0.-0.j, -0.-0.j])"
      ]
     },
     "execution_count": 5,
     "metadata": {},
     "output_type": "execute_result"
    }
   ],
   "source": [
    "mu"
   ]
  },
  {
   "cell_type": "code",
   "execution_count": 6,
   "metadata": {},
   "outputs": [
    {
     "data": {
      "text/plain": [
       "array([[ 0.8660254+0.000000e+00j,  0.5      +6.123234e-17j],\n",
       "       [-0.5      +6.123234e-17j,  0.8660254+0.000000e+00j]])"
      ]
     },
     "execution_count": 6,
     "metadata": {},
     "output_type": "execute_result"
    }
   ],
   "source": [
    "W"
   ]
  },
  {
   "cell_type": "code",
   "execution_count": 7,
   "metadata": {},
   "outputs": [
    {
     "data": {
      "text/plain": [
       "array([[ 1.+0.j, -0.+0.j],\n",
       "       [ 0.+0.j,  1.+0.j]])"
      ]
     },
     "execution_count": 7,
     "metadata": {},
     "output_type": "execute_result"
    }
   ],
   "source": [
    "V"
   ]
  },
  {
   "cell_type": "code",
   "execution_count": 8,
   "metadata": {},
   "outputs": [],
   "source": [
    "from thewalrus.fock_gradients import Dgate,Sgate,Rgate,BSgate\n",
    "# D(gamma)R(phi)BS(theta1,psi1)S(z)BS(theta,psi)"
   ]
  },
  {
   "cell_type": "code",
   "execution_count": 9,
   "metadata": {},
   "outputs": [],
   "source": [
    "gate_d1 = Dgate(np.abs(gamma[0]), np.angle(gamma[0]),cutoff_dim+cutoff_plus)[0]\n",
    "gate_d2 = Dgate(np.abs(gamma[1]), np.angle(gamma[1]),cutoff_dim+cutoff_plus)[0]\n",
    "\n",
    "gate_r1 = Rgate(phi[0],cutoff_dim+cutoff_plus)[0]\n",
    "gate_r2 = Rgate(phi[1],cutoff_dim+cutoff_plus)[0]\n",
    "\n",
    "gate_bs1 = BSgate(theta1,psi1,cutoff_dim+cutoff_plus)[0]\n",
    "\n",
    "gate_s1 = Sgate(np.abs(zeta[0]), np.angle(zeta[0]),cutoff_dim+cutoff_plus)[0]\n",
    "gate_s2 = Sgate(np.abs(zeta[1]), np.angle(zeta[1]),cutoff_dim+cutoff_plus)[0]\n",
    "\n",
    "gate_bs2 = BSgate(theta,psi,cutoff_dim+cutoff_plus)[0]"
   ]
  },
  {
   "cell_type": "code",
   "execution_count": 10,
   "metadata": {},
   "outputs": [],
   "source": [
    "# D(gamma)R(phi)BS(theta1,psi1)S(z)BS(theta,psi)\n",
    "#G_real = np.einsum(\"ac,bd,ce,df,egfh,gi,hj,ikjl->akbl\",gate_d1,gate_d2,gate_r1,gate_r2,gate_bs1,gate_s1,gate_s2,gate_bs2)"
   ]
  },
  {
   "cell_type": "code",
   "execution_count": 11,
   "metadata": {},
   "outputs": [
    {
     "data": {
      "text/plain": [
       "array([[[[ 1.       +0.j, -0.       +0.j],\n",
       "         [ 0.       +0.j,  0.       -0.j]],\n",
       "\n",
       "        [[ 0.       +0.j,  0.8660254+0.j],\n",
       "         [ 0.       +0.j,  0.       +0.j]]],\n",
       "\n",
       "\n",
       "       [[[ 0.       +0.j, -0.       +0.j],\n",
       "         [ 0.8660254+0.j,  0.       +0.j]],\n",
       "\n",
       "        [[ 0.       +0.j,  0.       +0.j],\n",
       "         [ 0.       +0.j,  0.75     +0.j]]]])"
      ]
     },
     "execution_count": 11,
     "metadata": {},
     "output_type": "execute_result"
    }
   ],
   "source": [
    "G"
   ]
  },
  {
   "cell_type": "code",
   "execution_count": 12,
   "metadata": {},
   "outputs": [
    {
     "data": {
      "text/plain": [
       "array([[[[ 1.       +0.000000e+00j,  0.       +0.000000e+00j],\n",
       "         [ 0.       +0.000000e+00j,  0.       +0.000000e+00j]],\n",
       "\n",
       "        [[ 0.       +0.000000e+00j,  0.8660254+0.000000e+00j],\n",
       "         [-0.5      -6.123234e-17j,  0.       +0.000000e+00j]]],\n",
       "\n",
       "\n",
       "       [[[ 0.       +0.000000e+00j,  0.5      -6.123234e-17j],\n",
       "         [ 0.8660254+0.000000e+00j,  0.       +0.000000e+00j]],\n",
       "\n",
       "        [[ 0.       +0.000000e+00j,  0.       +0.000000e+00j],\n",
       "         [ 0.       +0.000000e+00j,  0.5      +0.000000e+00j]]]])"
      ]
     },
     "execution_count": 12,
     "metadata": {},
     "output_type": "execute_result"
    }
   ],
   "source": [
    "np.transpose(gate_bs1[:cutoff_dim,:cutoff_dim,:cutoff_dim,:cutoff_dim],(0,2,1,3))"
   ]
  },
  {
   "cell_type": "code",
   "execution_count": null,
   "metadata": {},
   "outputs": [],
   "source": []
  },
  {
   "cell_type": "code",
   "execution_count": null,
   "metadata": {},
   "outputs": [],
   "source": []
  }
 ],
 "metadata": {
  "kernelspec": {
   "display_name": "thewalrusker",
   "language": "python",
   "name": "thewalrusker"
  },
  "language_info": {
   "codemirror_mode": {
    "name": "ipython",
    "version": 3
   },
   "file_extension": ".py",
   "mimetype": "text/x-python",
   "name": "python",
   "nbconvert_exporter": "python",
   "pygments_lexer": "ipython3",
   "version": "3.6.9"
  }
 },
 "nbformat": 4,
 "nbformat_minor": 2
}
