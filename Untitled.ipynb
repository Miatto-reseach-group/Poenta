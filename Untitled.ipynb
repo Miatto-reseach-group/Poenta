{
 "cells": [
  {
   "cell_type": "code",
   "execution_count": 1,
   "metadata": {},
   "outputs": [
    {
     "data": {
      "application/vnd.jupyter.widget-view+json": {
       "model_id": "e633ece0b98a45b5aaf34088e5181869",
       "version_major": 2,
       "version_minor": 0
      },
      "text/plain": [
       "Output()"
      ]
     },
     "metadata": {},
     "output_type": "display_data"
    },
    {
     "data": {
      "text/plain": [
       "<poenta.keras.LossHistoryCallback at 0x7faeb7719780>"
      ]
     },
     "execution_count": 1,
     "metadata": {},
     "output_type": "execute_result"
    },
    {
     "data": {
      "image/png": "[encoded data removed]",
      "text/plain": [
       "<Figure size 432x288 with 1 Axes>"
      ]
     },
     "metadata": {
      "needs_background": "light"
     },
     "output_type": "display_data"
    }
   ],
   "source": [
    "import numpy as np\n",
    "import tensorflow as tf\n",
    "from poenta.circuit import Circuit\n",
    "\n",
    "state_in = np.zeros((10,10), dtype=np.complex128)\n",
    "state_in[0,0] = 1\n",
    "target_out = np.zeros((10,10), dtype=np.complex128)\n",
    "target_out[5,0] = 1/np.sqrt(2)\n",
    "target_out[0,5] = 1/np.sqrt(2)\n",
    "\n",
    "def loss(target, output):\n",
    "    return 1 - tf.abs(tf.reduce_sum(output * tf.math.conj(target))) ** 2\n",
    "\n",
    "\n",
    "device = Circuit(num_layers=20, num_modes=2, num_seed =663, dtype=tf.complex128)\n",
    "tuple_in_out = (state_in,target_out),\n",
    "device.set_input_output_pairs(*tuple_in_out)\n",
    "device.optimize(loss, steps=1000)"
   ]
  },
  {
   "cell_type": "code",
   "execution_count": null,
   "metadata": {},
   "outputs": [],
   "source": []
  },
  {
   "cell_type": "code",
   "execution_count": 1,
   "metadata": {},
   "outputs": [
    {
     "data": {
      "application/vnd.jupyter.widget-view+json": {
       "model_id": "f9cf26b0adea4ae0a49d0c8030a3823b",
       "version_major": 2,
       "version_minor": 0
      },
      "text/plain": [
       "Output()"
      ]
     },
     "metadata": {},
     "output_type": "display_data"
    },
    {
     "data": {
      "text/plain": [
       "<poenta.keras.LossHistoryCallback at 0x7fd35c2b6ef0>"
      ]
     },
     "execution_count": 1,
     "metadata": {},
     "output_type": "execute_result"
    },
    {
     "data": {
      "image/png": "[encoded data removed]",
      "text/plain": [
       "<Figure size 432x288 with 1 Axes>"
      ]
     },
     "metadata": {
      "needs_background": "light"
     },
     "output_type": "display_data"
    }
   ],
   "source": [
    "import numpy as np\n",
    "import tensorflow as tf\n",
    "from poenta.circuit import Circuit\n",
    "\n",
    "state_in = np.zeros(10, dtype=np.complex128)\n",
    "state_in[0] = 1\n",
    "target_out = np.zeros(10, dtype=np.complex128)\n",
    "target_out[1] = 1\n",
    "\n",
    "def loss(target, output):\n",
    "    return 1 - tf.abs(tf.reduce_sum(output * tf.math.conj(target))) ** 2\n",
    "\n",
    "\n",
    "device = Circuit(num_layers=10, num_modes=1, num_seed =663, dtype=tf.complex128)\n",
    "tuple_in_out = (state_in,target_out),\n",
    "device.set_input_output_pairs(*tuple_in_out)\n",
    "device.optimize(loss, steps=1000)"
   ]
  },
  {
   "cell_type": "code",
   "execution_count": 1,
   "metadata": {},
   "outputs": [
    {
     "data": {
      "application/vnd.jupyter.widget-view+json": {
       "model_id": "fdaeb51f4d1841fd9ad97fa2265cf0c5",
       "version_major": 2,
       "version_minor": 0
      },
      "text/plain": [
       "Output()"
      ]
     },
     "metadata": {},
     "output_type": "display_data"
    },
    {
     "name": "stdout",
     "output_type": "stream",
     "text": [
      "WARNING:tensorflow:Callbacks method `on_train_batch_end` is slow compared to the batch time (batch time: 0.0090s vs `on_train_batch_end` time: 0.0169s). Check your callbacks.\n"
     ]
    },
    {
     "data": {
      "text/plain": [
       "<poenta.keras.LossHistoryCallback at 0x7fd45143dac8>"
      ]
     },
     "execution_count": 1,
     "metadata": {},
     "output_type": "execute_result"
    },
    {
     "data": {
      "image/png": "[encoded data removed]",
      "text/plain": [
       "<Figure size 432x288 with 1 Axes>"
      ]
     },
     "metadata": {
      "needs_background": "light"
     },
     "output_type": "display_data"
    }
   ],
   "source": [
    "import numpy as np\n",
    "import tensorflow as tf\n",
    "from poenta.circuit import Circuit\n",
    "\n",
    "state_in = np.zeros(10, dtype=np.complex128)\n",
    "state_in[0] = 1\n",
    "target_out = np.zeros(10, dtype=np.complex128)\n",
    "target_out[1] = 1\n",
    "\n",
    "def loss(target, output):\n",
    "    return 1 - tf.abs(tf.reduce_sum(output * tf.math.conj(target))) ** 2\n",
    "\n",
    "\n",
    "device = Circuit(num_layers=10, num_modes=1, num_seed =663, dtype=tf.complex128)\n",
    "tuple_in_out = (state_in,target_out),\n",
    "device.set_input_output_pairs(*tuple_in_out)\n",
    "device.optimize(loss, steps=1000)"
   ]
  },
  {
   "cell_type": "code",
   "execution_count": 5,
   "metadata": {},
   "outputs": [],
   "source": [
    "a = np.arange(4)"
   ]
  },
  {
   "cell_type": "code",
   "execution_count": 11,
   "metadata": {},
   "outputs": [
    {
     "data": {
      "text/plain": [
       "array([0, 1, 2, 3])"
      ]
     },
     "execution_count": 11,
     "metadata": {},
     "output_type": "execute_result"
    }
   ],
   "source": [
    "a"
   ]
  },
  {
   "cell_type": "code",
   "execution_count": 7,
   "metadata": {},
   "outputs": [],
   "source": [
    "G = np.arange(16).reshape(4,4)"
   ]
  },
  {
   "cell_type": "code",
   "execution_count": 12,
   "metadata": {},
   "outputs": [
    {
     "data": {
      "text/plain": [
       "array([[ 0,  1,  2,  3],\n",
       "       [ 4,  5,  6,  7],\n",
       "       [ 8,  9, 10, 11],\n",
       "       [12, 13, 14, 15]])"
      ]
     },
     "execution_count": 12,
     "metadata": {},
     "output_type": "execute_result"
    }
   ],
   "source": [
    "G"
   ]
  },
  {
   "cell_type": "code",
   "execution_count": 8,
   "metadata": {},
   "outputs": [
    {
     "data": {
      "text/plain": [
       "array([[ 0,  0,  0,  0],\n",
       "       [ 4,  5,  6,  7],\n",
       "       [16, 18, 20, 22],\n",
       "       [36, 39, 42, 45]])"
      ]
     },
     "execution_count": 8,
     "metadata": {},
     "output_type": "execute_result"
    }
   ],
   "source": [
    "a[:,None]*G"
   ]
  },
  {
   "cell_type": "code",
   "execution_count": 13,
   "metadata": {},
   "outputs": [
    {
     "data": {
      "text/plain": [
       "<tf.Tensor: shape=(4, 4), dtype=int64, numpy=\n",
       "array([[ 0,  0,  0,  0],\n",
       "       [ 4,  5,  6,  7],\n",
       "       [16, 18, 20, 22],\n",
       "       [36, 39, 42, 45]])>"
      ]
     },
     "execution_count": 13,
     "metadata": {},
     "output_type": "execute_result"
    }
   ],
   "source": [
    "tf.einsum(\"a,ac->ac\",a,G)"
   ]
  },
  {
   "cell_type": "code",
   "execution_count": null,
   "metadata": {},
   "outputs": [],
   "source": []
  }
 ],
 "metadata": {
  "kernelspec": {
   "display_name": "thewalrusker",
   "language": "python",
   "name": "thewalrusker"
  },
  "language_info": {
   "codemirror_mode": {
    "name": "ipython",
    "version": 3
   },
   "file_extension": ".py",
   "mimetype": "text/x-python",
   "name": "python",
   "nbconvert_exporter": "python",
   "pygments_lexer": "ipython3",
   "version": "3.6.9"
  }
 },
 "nbformat": 4,
 "nbformat_minor": 2
}
