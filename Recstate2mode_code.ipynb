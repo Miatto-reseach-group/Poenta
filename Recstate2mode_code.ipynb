{
 "cells": [
  {
   "cell_type": "code",
   "execution_count": 1,
   "metadata": {},
   "outputs": [],
   "source": [
    "import numpy as np\n",
    "from recstate2mode import UW_,UV_,C_,mu_,Sigma_,G_matrix"
   ]
  },
  {
   "cell_type": "code",
   "execution_count": 2,
   "metadata": {},
   "outputs": [],
   "source": [
    "gamma = np.array([0,0],dtype = np.complex128)\n",
    "phi = np.array([0,0],dtype = np.complex128)\n",
    "zeta = np.array([0,0],dtype = np.complex128)\n",
    "theta = 0\n",
    "psi = 0\n",
    "theta1 = 0.3\n",
    "psi1 = 0.1\n",
    "cutoff_dim = 3\n",
    "cutoff= 3\n",
    "cutoff_plus = 10\n"
   ]
  },
  {
   "cell_type": "code",
   "execution_count": 3,
   "metadata": {},
   "outputs": [],
   "source": [
    "old_state = np.random.rand(cutoff_dim,cutoff_dim) + 1.0j*np.random.rand(cutoff_dim,cutoff_dim)\n",
    "old_state  /= np.linalg.norm(old_state)"
   ]
  },
  {
   "cell_type": "code",
   "execution_count": 4,
   "metadata": {},
   "outputs": [
    {
     "data": {
      "text/plain": [
       "array([[0.32663407+0.18432997j, 0.0201386 +0.1568399j ,\n",
       "        0.36204319+0.11802914j],\n",
       "       [0.03706083+0.08542767j, 0.44173217+0.29344608j,\n",
       "        0.15211611+0.18573142j],\n",
       "       [0.29873595+0.14419324j, 0.2462261 +0.35570142j,\n",
       "        0.14166204+0.15660018j]])"
      ]
     },
     "execution_count": 4,
     "metadata": {},
     "output_type": "execute_result"
    }
   ],
   "source": [
    "old_state"
   ]
  },
  {
   "cell_type": "code",
   "execution_count": 5,
   "metadata": {},
   "outputs": [],
   "source": [
    "W = UW_(phi,theta1,psi1)\n",
    "V = UV_(theta,psi)\n",
    "    \n",
    "C = C_(gamma, W, zeta, V)\n",
    "mu = mu_(gamma, W, zeta, V)\n",
    "Sigma = Sigma_(W, zeta, V)\n",
    "\n",
    "cutoff = old_state.shape[0]\n",
    "dtype = old_state.dtype\n",
    "\n",
    "\n",
    "sqrt = np.sqrt(np.arange(cutoff+1, dtype=dtype))\n",
    "\n",
    "G_00pq = np.zeros((cutoff, cutoff), dtype=dtype)\n",
    "\n",
    "\n",
    "G_00pq[0,0] = C\n",
    "for q in range(1, cutoff):\n",
    "    G_00pq[0,q] = (mu[3]*G_00pq[0,q-1] - Sigma[3,3]*sqrt[q-1]*G_00pq[0,q-2])/sqrt[q]\n",
    "\n",
    "\n",
    "for p in range(1,cutoff):\n",
    "    for q in range(0,cutoff):\n",
    "        G_00pq[p,q] = (mu[2]*G_00pq[p-1,q] - Sigma[2,2]*sqrt[p-1]*G_00pq[p-2,q] - Sigma[2,3]*sqrt[q]*G_00pq[p-1,q-1])/sqrt[p]"
   ]
  },
  {
   "cell_type": "code",
   "execution_count": 20,
   "metadata": {},
   "outputs": [
    {
     "data": {
      "text/plain": [
       "array([ 0.+0.j,  0.+0.j, -0.-0.j, -0.-0.j])"
      ]
     },
     "execution_count": 20,
     "metadata": {},
     "output_type": "execute_result"
    }
   ],
   "source": [
    "mu"
   ]
  },
  {
   "cell_type": "code",
   "execution_count": 6,
   "metadata": {},
   "outputs": [
    {
     "data": {
      "text/plain": [
       "array([[ 0.        +0.j        ,  0.        +0.j        ,\n",
       "        -0.95533649+0.j        ,  0.29404384-0.02950279j],\n",
       "       [ 0.        +0.j        ,  0.        +0.j        ,\n",
       "        -0.29404384-0.02950279j, -0.95533649+0.j        ],\n",
       "       [-0.95533649+0.j        , -0.29404384-0.02950279j,\n",
       "         0.        +0.j        ,  0.        +0.j        ],\n",
       "       [ 0.29404384-0.02950279j, -0.95533649+0.j        ,\n",
       "         0.        +0.j        ,  0.        +0.j        ]])"
      ]
     },
     "execution_count": 6,
     "metadata": {},
     "output_type": "execute_result"
    }
   ],
   "source": [
    "Sigma"
   ]
  },
  {
   "cell_type": "code",
   "execution_count": 7,
   "metadata": {},
   "outputs": [
    {
     "data": {
      "text/plain": [
       "array([[1.+0.j, 0.-0.j, 0.+0.j],\n",
       "       [0.-0.j, 0.+0.j, 0.-0.j],\n",
       "       [0.+0.j, 0.-0.j, 0.+0.j]])"
      ]
     },
     "execution_count": 7,
     "metadata": {},
     "output_type": "execute_result"
    }
   ],
   "source": [
    "G_00pq"
   ]
  },
  {
   "cell_type": "code",
   "execution_count": 25,
   "metadata": {
    "scrolled": true
   },
   "outputs": [
    {
     "name": "stdout",
     "output_type": "stream",
     "text": [
      "oldstate [[0.32663407+0.18432997j 0.0201386 +0.1568399j  0.36204319+0.11802914j]\n",
      " [0.03706083+0.08542767j 0.44173217+0.29344608j 0.15211611+0.18573142j]\n",
      " [0.29873595+0.14419324j 0.2462261 +0.35570142j 0.14166204+0.15660018j]]\n",
      "[[0.32663407+0.18432997j 0.03706083+0.08542767j 0.29873595+0.14419324j]\n",
      " [0.03706083+0.08542767j 0.42247644+0.20392003j 0.        +0.j        ]\n",
      " [0.29873595+0.14419324j 0.        +0.j         0.        +0.j        ]]\n",
      "=====\n",
      "[[0.04378272+0.10782505j 0.40360374+0.21017872j 0.        +0.j        ]\n",
      " [0.48719452+0.24602492j 0.        +0.j         0.        +0.j        ]\n",
      " [0.        +0.j         0.        +0.j         0.        +0.j        ]]\n"
     ]
    }
   ],
   "source": [
    "# R_00^jk = a_dagger^j \\G_00pq> *  b^k|old_state>\n",
    "\n",
    "R = np.zeros((cutoff, cutoff, cutoff+1, cutoff+1), dtype=dtype)\n",
    "\n",
    "for k in range(cutoff):\n",
    "    for j in range(cutoff):\n",
    "        if j==0 and k ==0:\n",
    "            R[0,0,j,k] = np.sum(G_00pq*old_state)\n",
    "\n",
    "        elif j>0 and k==0:\n",
    "            G_00pq2 = np.zeros((cutoff, cutoff), dtype=dtype)\n",
    "            G_00pq2[j:,:] = G_00pq[:cutoff-j,:] * sqrt[1:cutoff-j+1,None]\n",
    "            R[0,0,j,k] = np.sum(G_00pq2*old_state)\n",
    "\n",
    "        elif k>0 and j==0:\n",
    "            state = np.zeros((cutoff, cutoff), dtype=dtype)\n",
    "            state[:cutoff-k,:] = old_state[k:,:] * sqrt[1:cutoff-k+1,None]\n",
    "            R[0,0,j,k] = np.sum(G_00pq*state)\n",
    "\n",
    "        else:\n",
    "            G_00pq2 = np.zeros((cutoff, cutoff), dtype=dtype)\n",
    "            G_00pq2[j:,:] = G_00pq[:cutoff-j,:] * sqrt[1:cutoff-j+1,None]\n",
    "            state = np.zeros((cutoff, cutoff), dtype=dtype)\n",
    "            state[:cutoff-k,:] = old_state[k:,:] * sqrt[1:cutoff-k+1,None]\n",
    "            R[0,0,j,k] = np.sum(G_00pq2*state)\n",
    "            \n",
    "print(\"oldstate\",old_state)\n",
    "\n",
    "print(R[0,0,:cutoff,:cutoff])    \n",
    "#R_0n^jk\n",
    "for k in range(0,cutoff):\n",
    "    for j in range(0,cutoff):\n",
    "        for n in range(1,cutoff):\n",
    "            R[0,n,j,k] = mu[1]/sqrt[n]*R[0,n-1,j,k] - Sigma[1,1]/sqrt[n]*sqrt[n-1]*R[0,n-2,j,k] - Sigma[1,2]/sqrt[n]*R[0,n-1,j+1,k] - Sigma[1,3]/sqrt[n]*R[0,n-1,j,k+1]\n",
    "print(\"=====\")\n",
    "print(R[0,1,:cutoff,:cutoff])   \n",
    "\n",
    "for k in range(0,cutoff):\n",
    "    for j in range(0,cutoff):\n",
    "        for n in range(0,cutoff):\n",
    "            for m in range(1,cutoff):\n",
    "                R[m,n,j,k] = mu[0]/sqrt[m]*R[m-1,n,j,k] - Sigma[0,0]/sqrt[m]*sqrt[m-1]*R[m-2,n,j,k] - Sigma[0,1]*sqrt[n]/sqrt[m]*R[m-1,n-1,j,k] - Sigma[0,2]/sqrt[m]*R[m-1,n,j+1,k] - Sigma[0,3]/sqrt[m]*R[m-1,n,j,k+1]\n"
   ]
  },
  {
   "cell_type": "code",
   "execution_count": 26,
   "metadata": {},
   "outputs": [
    {
     "data": {
      "text/plain": [
       "array([[[[0.32663407+0.18432997j, 0.03706083+0.08542767j,\n",
       "          0.29873595+0.14419324j],\n",
       "         [0.03706083+0.08542767j, 0.42247644+0.20392003j,\n",
       "          0.        +0.j        ],\n",
       "         [0.29873595+0.14419324j, 0.        +0.j        ,\n",
       "          0.        +0.j        ]],\n",
       "\n",
       "        [[0.04378272+0.10782505j, 0.40360374+0.21017872j,\n",
       "          0.        +0.j        ],\n",
       "         [0.48719452+0.24602492j, 0.        +0.j        ,\n",
       "          0.        +0.j        ],\n",
       "         [0.        +0.j        , 0.        +0.j        ,\n",
       "          0.        +0.j        ]],\n",
       "\n",
       "        [[0.        +0.j        , 0.        +0.j        ,\n",
       "          0.        +0.j        ],\n",
       "         [0.        +0.j        , 0.        +0.j        ,\n",
       "          0.        +0.j        ],\n",
       "         [0.        +0.j        , 0.        +0.j        ,\n",
       "          0.        +0.j        ]]],\n",
       "\n",
       "\n",
       "       [[[0.0219877 +0.05758609j, 0.31151159+0.16122666j,\n",
       "          0.        +0.j        ],\n",
       "         [0.15515055+0.09025587j, 0.        +0.j        ,\n",
       "          0.        +0.j        ],\n",
       "         [0.        +0.j        , 0.        +0.j        ,\n",
       "          0.        +0.j        ]],\n",
       "\n",
       "        [[0.34055665+0.18514226j, 0.        +0.j        ,\n",
       "          0.        +0.j        ],\n",
       "         [0.        +0.j        , 0.        +0.j        ,\n",
       "          0.        +0.j        ],\n",
       "         [0.        +0.j        , 0.        +0.j        ,\n",
       "          0.        +0.j        ]],\n",
       "\n",
       "        [[0.        +0.j        , 0.        +0.j        ,\n",
       "          0.        +0.j        ],\n",
       "         [0.        +0.j        , 0.        +0.j        ,\n",
       "          0.        +0.j        ],\n",
       "         [0.        +0.j        , 0.        +0.j        ,\n",
       "          0.        +0.j        ]]],\n",
       "\n",
       "\n",
       "       [[[0.        +0.j        , 0.        +0.j        ,\n",
       "          0.        +0.j        ],\n",
       "         [0.        +0.j        , 0.        +0.j        ,\n",
       "          0.        +0.j        ],\n",
       "         [0.        +0.j        , 0.        +0.j        ,\n",
       "          0.        +0.j        ]],\n",
       "\n",
       "        [[0.        +0.j        , 0.        +0.j        ,\n",
       "          0.        +0.j        ],\n",
       "         [0.        +0.j        , 0.        +0.j        ,\n",
       "          0.        +0.j        ],\n",
       "         [0.        +0.j        , 0.        +0.j        ,\n",
       "          0.        +0.j        ]],\n",
       "\n",
       "        [[0.        +0.j        , 0.        +0.j        ,\n",
       "          0.        +0.j        ],\n",
       "         [0.        +0.j        , 0.        +0.j        ,\n",
       "          0.        +0.j        ],\n",
       "         [0.        +0.j        , 0.        +0.j        ,\n",
       "          0.        +0.j        ]]]])"
      ]
     },
     "execution_count": 26,
     "metadata": {},
     "output_type": "execute_result"
    }
   ],
   "source": [
    "R[:,:,:cutoff,:cutoff]"
   ]
  },
  {
   "cell_type": "code",
   "execution_count": 11,
   "metadata": {},
   "outputs": [
    {
     "data": {
      "text/plain": [
       "array([[0.32663407+0.18432997j, 0.04378272+0.10782505j,\n",
       "        0.        +0.j        ],\n",
       "       [0.0219877 +0.05758609j, 0.34055665+0.18514226j,\n",
       "        0.        +0.j        ],\n",
       "       [0.        +0.j        , 0.        +0.j        ,\n",
       "        0.        +0.j        ]])"
      ]
     },
     "execution_count": 11,
     "metadata": {},
     "output_type": "execute_result"
    }
   ],
   "source": [
    "R[:,:,0,0]"
   ]
  },
  {
   "cell_type": "code",
   "execution_count": 12,
   "metadata": {},
   "outputs": [],
   "source": [
    "G = G_matrix(gamma, phi, theta1, psi1, zeta, theta, psi,cutoff)"
   ]
  },
  {
   "cell_type": "code",
   "execution_count": 13,
   "metadata": {},
   "outputs": [
    {
     "data": {
      "text/plain": [
       "array([[0.32663407+0.18432997j, 0.02761629+0.17604776j,\n",
       "        0.51728191+0.25943026j],\n",
       "       [0.02485672+0.03608851j, 0.32897524+0.27892414j,\n",
       "        0.2148429 +0.32535478j],\n",
       "       [0.11849961+0.0364519j , 0.08633727+0.16366631j,\n",
       "        0.07391477+0.08170901j]])"
      ]
     },
     "execution_count": 13,
     "metadata": {},
     "output_type": "execute_result"
    }
   ],
   "source": [
    "np.einsum(\"cd,abcd->ab\",old_state,G)"
   ]
  },
  {
   "cell_type": "code",
   "execution_count": 14,
   "metadata": {},
   "outputs": [
    {
     "data": {
      "text/plain": [
       "(0.32663407103801245+0.18432997262524056j)"
      ]
     },
     "execution_count": 14,
     "metadata": {},
     "output_type": "execute_result"
    }
   ],
   "source": [
    "np.sum(G[0,0,:,:]*old_state)"
   ]
  },
  {
   "cell_type": "code",
   "execution_count": 15,
   "metadata": {},
   "outputs": [
    {
     "data": {
      "text/plain": [
       "(0.027616292224567407+0.17604775727930336j)"
      ]
     },
     "execution_count": 15,
     "metadata": {},
     "output_type": "execute_result"
    }
   ],
   "source": [
    "np.sum(G[0,1,:,:]*old_state)"
   ]
  },
  {
   "cell_type": "code",
   "execution_count": 16,
   "metadata": {},
   "outputs": [
    {
     "data": {
      "text/plain": [
       "(0.3289752431890487+0.2789241390804018j)"
      ]
     },
     "execution_count": 16,
     "metadata": {},
     "output_type": "execute_result"
    }
   ],
   "source": [
    "np.sum(G[1,1,:,:]*old_state)"
   ]
  },
  {
   "cell_type": "code",
   "execution_count": null,
   "metadata": {},
   "outputs": [],
   "source": []
  },
  {
   "cell_type": "code",
   "execution_count": null,
   "metadata": {},
   "outputs": [],
   "source": []
  }
 ],
 "metadata": {
  "kernelspec": {
   "display_name": "thewalrusker",
   "language": "python",
   "name": "thewalrusker"
  },
  "language_info": {
   "codemirror_mode": {
    "name": "ipython",
    "version": 3
   },
   "file_extension": ".py",
   "mimetype": "text/x-python",
   "name": "python",
   "nbconvert_exporter": "python",
   "pygments_lexer": "ipython3",
   "version": "3.6.9"
  }
 },
 "nbformat": 4,
 "nbformat_minor": 2
}
