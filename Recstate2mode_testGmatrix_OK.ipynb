{
 "cells": [
  {
   "cell_type": "code",
   "execution_count": 13,
   "metadata": {},
   "outputs": [],
   "source": [
    "import numpy as np\n",
    "from recstate2mode import G_matrix,G_matrix2"
   ]
  },
  {
   "cell_type": "code",
   "execution_count": 21,
   "metadata": {},
   "outputs": [],
   "source": [
    "gamma = np.array([0,0],dtype = np.complex128)\n",
    "phi = np.array([0,0],dtype = np.complex128)\n",
    "zeta = np.array([0,0],dtype = np.complex128)\n",
    "theta = 0\n",
    "psi = 0\n",
    "theta1 = 0.3\n",
    "psi1 = 0.2\n",
    "cutoff_dim = 3\n",
    "cutoff_plus = 3"
   ]
  },
  {
   "cell_type": "code",
   "execution_count": 22,
   "metadata": {},
   "outputs": [],
   "source": [
    "G = G_matrix(gamma, phi, theta1, psi1, zeta, theta, psi,cutoff_dim)"
   ]
  },
  {
   "cell_type": "code",
   "execution_count": 23,
   "metadata": {},
   "outputs": [],
   "source": [
    "from thewalrus.fock_gradients import Dgate,Rgate,BSgate,Sgate"
   ]
  },
  {
   "cell_type": "code",
   "execution_count": 24,
   "metadata": {},
   "outputs": [],
   "source": [
    "gate_d1 = Dgate(np.abs(gamma[0]), np.angle(gamma[0]),cutoff_dim+cutoff_plus)[0]\n",
    "gate_d2 = Dgate(np.abs(gamma[1]), np.angle(gamma[1]),cutoff_dim+cutoff_plus)[0]\n",
    "\n",
    "gate_r1 = Rgate(phi[0],cutoff_dim+cutoff_plus)[0]\n",
    "gate_r2 = Rgate(phi[1],cutoff_dim+cutoff_plus)[0]\n",
    "\n",
    "gate_bs1 = BSgate(theta1,psi1,cutoff_dim+cutoff_plus)[0]\n",
    "\n",
    "gate_s1 = Sgate(np.abs(zeta[0]), np.angle(zeta[0]),cutoff_dim+cutoff_plus)[0]\n",
    "gate_s2 = Sgate(np.abs(zeta[1]), np.angle(zeta[1]),cutoff_dim+cutoff_plus)[0]\n",
    "\n",
    "gate_bs2 = BSgate(theta,psi,cutoff_dim+cutoff_plus)[0]"
   ]
  },
  {
   "cell_type": "code",
   "execution_count": 6,
   "metadata": {},
   "outputs": [],
   "source": [
    "# D(gamma)R(phi)BS(theta1,psi1)S(z)BS(theta,psi)\n",
    "#G_real = np.einsum(\"ac,bd,ce,df,egfh,gi,hj,ikjl->akbl\",gate_d1,gate_d2,gate_r1,gate_r2,gate_bs1,gate_s1,gate_s2,gate_bs2)"
   ]
  },
  {
   "cell_type": "code",
   "execution_count": 25,
   "metadata": {},
   "outputs": [],
   "source": [
    "G_real = np.transpose(gate_bs1[:cutoff_dim,:cutoff_dim,:cutoff_dim,:cutoff_dim],(0,2,1,3))"
   ]
  },
  {
   "cell_type": "code",
   "execution_count": 26,
   "metadata": {},
   "outputs": [
    {
     "data": {
      "text/plain": [
       "array([[[[ 0.00000000e+00+0.00000000e+00j,\n",
       "          -0.00000000e+00+0.00000000e+00j,\n",
       "           0.00000000e+00-0.00000000e+00j],\n",
       "         [-0.00000000e+00+0.00000000e+00j,\n",
       "           0.00000000e+00-0.00000000e+00j,\n",
       "           0.00000000e+00+0.00000000e+00j],\n",
       "         [ 0.00000000e+00-0.00000000e+00j,\n",
       "           0.00000000e+00+0.00000000e+00j,\n",
       "          -0.00000000e+00+0.00000000e+00j]],\n",
       "\n",
       "        [[ 0.00000000e+00+0.00000000e+00j,\n",
       "           0.00000000e+00+0.00000000e+00j,\n",
       "           0.00000000e+00+0.00000000e+00j],\n",
       "         [ 0.00000000e+00+1.17421603e-01j,\n",
       "           0.00000000e+00+0.00000000e+00j,\n",
       "           0.00000000e+00+0.00000000e+00j],\n",
       "         [ 0.00000000e+00+0.00000000e+00j,\n",
       "           0.00000000e+00+0.00000000e+00j,\n",
       "           0.00000000e+00+0.00000000e+00j]],\n",
       "\n",
       "        [[ 0.00000000e+00+0.00000000e+00j,\n",
       "           0.00000000e+00+0.00000000e+00j,\n",
       "           0.00000000e+00+0.00000000e+00j],\n",
       "         [ 0.00000000e+00+0.00000000e+00j,\n",
       "          -1.11022302e-16+1.58642436e-01j,\n",
       "           0.00000000e+00+0.00000000e+00j],\n",
       "         [ 0.00000000e+00+6.80175153e-02j,\n",
       "           0.00000000e+00+0.00000000e+00j,\n",
       "           0.00000000e+00+0.00000000e+00j]]],\n",
       "\n",
       "\n",
       "       [[[ 0.00000000e+00+0.00000000e+00j,\n",
       "           0.00000000e+00+1.17421603e-01j,\n",
       "           0.00000000e+00+0.00000000e+00j],\n",
       "         [ 0.00000000e+00+0.00000000e+00j,\n",
       "           0.00000000e+00+0.00000000e+00j,\n",
       "           0.00000000e+00+0.00000000e+00j],\n",
       "         [ 0.00000000e+00+0.00000000e+00j,\n",
       "           0.00000000e+00+0.00000000e+00j,\n",
       "           0.00000000e+00+0.00000000e+00j]],\n",
       "\n",
       "        [[ 0.00000000e+00+0.00000000e+00j,\n",
       "           0.00000000e+00+0.00000000e+00j,\n",
       "          -5.55111512e-17+1.58642436e-01j],\n",
       "         [ 0.00000000e+00+0.00000000e+00j,\n",
       "           0.00000000e+00+0.00000000e+00j,\n",
       "           0.00000000e+00+0.00000000e+00j],\n",
       "         [ 5.55111512e-17+1.58642436e-01j,\n",
       "           0.00000000e+00+0.00000000e+00j,\n",
       "           0.00000000e+00+0.00000000e+00j]],\n",
       "\n",
       "        [[ 0.00000000e+00+0.00000000e+00j,\n",
       "           0.00000000e+00+0.00000000e+00j,\n",
       "           0.00000000e+00+0.00000000e+00j],\n",
       "         [ 0.00000000e+00+0.00000000e+00j,\n",
       "           0.00000000e+00+0.00000000e+00j,\n",
       "           1.11022302e-16+0.00000000e+00j],\n",
       "         [ 0.00000000e+00+0.00000000e+00j,\n",
       "          -1.11022302e-16+2.04079149e-01j,\n",
       "           0.00000000e+00+0.00000000e+00j]]],\n",
       "\n",
       "\n",
       "       [[[ 0.00000000e+00+0.00000000e+00j,\n",
       "           0.00000000e+00+0.00000000e+00j,\n",
       "           0.00000000e+00-6.80175153e-02j],\n",
       "         [ 0.00000000e+00+0.00000000e+00j,\n",
       "           5.55111512e-17+1.58642436e-01j,\n",
       "           0.00000000e+00+0.00000000e+00j],\n",
       "         [ 0.00000000e+00+0.00000000e+00j,\n",
       "           0.00000000e+00+0.00000000e+00j,\n",
       "           0.00000000e+00+0.00000000e+00j]],\n",
       "\n",
       "        [[ 0.00000000e+00+0.00000000e+00j,\n",
       "           0.00000000e+00+0.00000000e+00j,\n",
       "          -0.00000000e+00+0.00000000e+00j],\n",
       "         [ 0.00000000e+00+0.00000000e+00j,\n",
       "           0.00000000e+00+0.00000000e+00j,\n",
       "           0.00000000e+00+2.04079149e-01j],\n",
       "         [ 0.00000000e+00+0.00000000e+00j,\n",
       "           0.00000000e+00+0.00000000e+00j,\n",
       "           0.00000000e+00+0.00000000e+00j]],\n",
       "\n",
       "        [[ 0.00000000e+00+0.00000000e+00j,\n",
       "           0.00000000e+00+0.00000000e+00j,\n",
       "           0.00000000e+00+0.00000000e+00j],\n",
       "         [ 0.00000000e+00+0.00000000e+00j,\n",
       "           0.00000000e+00+0.00000000e+00j,\n",
       "           0.00000000e+00+0.00000000e+00j],\n",
       "         [ 0.00000000e+00+0.00000000e+00j,\n",
       "           0.00000000e+00+0.00000000e+00j,\n",
       "           2.22044605e-16-6.93889390e-18j]]]])"
      ]
     },
     "execution_count": 26,
     "metadata": {},
     "output_type": "execute_result"
    }
   ],
   "source": [
    "G-G_real"
   ]
  },
  {
   "cell_type": "code",
   "execution_count": null,
   "metadata": {},
   "outputs": [],
   "source": []
  },
  {
   "cell_type": "code",
   "execution_count": null,
   "metadata": {},
   "outputs": [],
   "source": []
  }
 ],
 "metadata": {
  "kernelspec": {
   "display_name": "thewalrusker",
   "language": "python",
   "name": "thewalrusker"
  },
  "language_info": {
   "codemirror_mode": {
    "name": "ipython",
    "version": 3
   },
   "file_extension": ".py",
   "mimetype": "text/x-python",
   "name": "python",
   "nbconvert_exporter": "python",
   "pygments_lexer": "ipython3",
   "version": "3.6.9"
  }
 },
 "nbformat": 4,
 "nbformat_minor": 2
}
