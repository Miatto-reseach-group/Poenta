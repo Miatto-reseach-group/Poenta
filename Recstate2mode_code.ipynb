{
 "cells": [
  {
   "cell_type": "code",
   "execution_count": 1,
   "metadata": {},
   "outputs": [],
   "source": [
    "import numpy as np\n",
    "from recstate2mode import UW_,UV_,C_,mu_,Sigma_,G_matrix"
   ]
  },
  {
   "cell_type": "code",
   "execution_count": 2,
   "metadata": {},
   "outputs": [],
   "source": [
    "gamma = np.array([0,0],dtype = np.complex128)\n",
    "phi = np.array([0,0],dtype = np.complex128)\n",
    "zeta = np.array([0,0],dtype = np.complex128)\n",
    "theta = 0\n",
    "psi = 0\n",
    "theta1 = 0.3\n",
    "psi1 = 0.1\n",
    "cutoff_dim = 2\n",
    "cutoff= 2\n",
    "cutoff_plus = 10\n"
   ]
  },
  {
   "cell_type": "code",
   "execution_count": 3,
   "metadata": {},
   "outputs": [],
   "source": [
    "old_state = np.random.rand(cutoff_dim,cutoff_dim) + 1.0j*np.random.rand(cutoff_dim,cutoff_dim)\n",
    "old_state  /= np.linalg.norm(old_state)"
   ]
  },
  {
   "cell_type": "code",
   "execution_count": 4,
   "metadata": {},
   "outputs": [
    {
     "data": {
      "text/plain": [
       "array([[0.42332889+0.09612759j, 0.34811227+0.26652462j],\n",
       "       [0.47359364+0.51538196j, 0.28292379+0.2222144j ]])"
      ]
     },
     "execution_count": 4,
     "metadata": {},
     "output_type": "execute_result"
    }
   ],
   "source": [
    "old_state"
   ]
  },
  {
   "cell_type": "code",
   "execution_count": 5,
   "metadata": {},
   "outputs": [],
   "source": [
    "W = UW_(phi,theta1,psi1)\n",
    "V = UV_(theta,psi)\n",
    "    \n",
    "C = C_(gamma, W, zeta, V)\n",
    "mu = mu_(gamma, W, zeta, V)\n",
    "Sigma = Sigma_(W, zeta, V)\n",
    "\n",
    "cutoff = old_state.shape[0]\n",
    "dtype = old_state.dtype\n",
    "\n",
    "\n",
    "sqrt = np.sqrt(np.arange(cutoff+1, dtype=dtype))\n",
    "\n",
    "G_00pq = np.zeros((cutoff, cutoff), dtype=dtype)\n",
    "\n",
    "\n",
    "G_00pq[0,0] = C\n",
    "for q in range(1, cutoff):\n",
    "    G_00pq[0,q] = (mu[3]*G_00pq[0,q-1] - Sigma[3,3]*sqrt[q-1]*G_00pq[0,q-2])/sqrt[q]\n",
    "\n",
    "\n",
    "for p in range(1,cutoff):\n",
    "    for q in range(0,cutoff):\n",
    "        G_00pq[p,q] = (mu[2]*G_00pq[p-1,q] - Sigma[2,2]*sqrt[p-1]*G_00pq[p-2,q] - Sigma[2,3]*sqrt[q]*G_00pq[p-1,q-1])/sqrt[p]"
   ]
  },
  {
   "cell_type": "code",
   "execution_count": 6,
   "metadata": {},
   "outputs": [
    {
     "data": {
      "text/plain": [
       "array([[ 0.        +0.j        ,  0.        +0.j        ,\n",
       "        -0.95533649+0.j        ,  0.29404384-0.02950279j],\n",
       "       [ 0.        +0.j        ,  0.        +0.j        ,\n",
       "        -0.29404384-0.02950279j, -0.95533649+0.j        ],\n",
       "       [-0.95533649+0.j        , -0.29404384-0.02950279j,\n",
       "         0.        +0.j        ,  0.        +0.j        ],\n",
       "       [ 0.29404384-0.02950279j, -0.95533649+0.j        ,\n",
       "         0.        +0.j        ,  0.        +0.j        ]])"
      ]
     },
     "execution_count": 6,
     "metadata": {},
     "output_type": "execute_result"
    }
   ],
   "source": [
    "Sigma"
   ]
  },
  {
   "cell_type": "code",
   "execution_count": 7,
   "metadata": {},
   "outputs": [
    {
     "data": {
      "text/plain": [
       "array([[1.+0.j, 0.-0.j],\n",
       "       [0.-0.j, 0.+0.j]])"
      ]
     },
     "execution_count": 7,
     "metadata": {},
     "output_type": "execute_result"
    }
   ],
   "source": [
    "G_00pq"
   ]
  },
  {
   "cell_type": "code",
   "execution_count": 8,
   "metadata": {},
   "outputs": [
    {
     "name": "stdout",
     "output_type": "stream",
     "text": [
      "oldstate [[0.42332889+0.09612759j 0.34811227+0.26652462j]\n",
      " [0.47359364+0.51538196j 0.28292379+0.2222144j ]]\n",
      "[[0.52606276+0.13258931j 0.12164122+0.04075511j]\n",
      " [0.40442154+0.0918342j  0.        +0.j        ]]\n"
     ]
    }
   ],
   "source": [
    "# R_00^jk = G_00pq * a^j b^k|old_state>\n",
    "\n",
    "R = np.zeros((cutoff, cutoff, cutoff+1, cutoff+1), dtype=dtype)\n",
    "\n",
    "for k in range(cutoff):\n",
    "    for j in range(cutoff):\n",
    "        if j==0 and k ==0:\n",
    "            state = old_state\n",
    "\n",
    "        elif j>0 and k==0:\n",
    "            state = old_state[:cutoff-j, :]*sqrt[1:cutoff-j+1,None]\n",
    "\n",
    "        elif k>0 and j==0:\n",
    "            state = old_state[:, :cutoff-k]*sqrt[None,1:cutoff-k+1] \n",
    "\n",
    "        else:\n",
    "            state = old_state[:cutoff-j, :]*sqrt[1:cutoff-j+1,None]\n",
    "            state = state[:, :cutoff-k]*sqrt[None,1:cutoff-k+1]\n",
    "\n",
    "        R[0,0,j,k] = np.sum(G_00pq[:cutoff-j,:cutoff-k]*state)\n",
    "    \n",
    "#R_0n^jk\n",
    "for k in range(0,cutoff):\n",
    "    for j in range(0,cutoff):\n",
    "        for n in range(1,cutoff):\n",
    "            R[0,n,j,k] = mu[1]/sqrt[n]*R[0,n-1,j,k] - Sigma[1,1]/sqrt[n]*sqrt[n-1]*R[0,n-2,j,k] - Sigma[1,2]/sqrt[n]*R[0,n-1,j+1,k] - Sigma[1,3]/sqrt[n]*R[0,n-1,j,k+1]\n",
    "print(\"oldstate\",old_state)\n",
    "print(R[0,1,:cutoff,:cutoff])\n",
    "\n",
    "for k in range(0,cutoff):\n",
    "    for j in range(0,cutoff):\n",
    "        for n in range(0,cutoff):\n",
    "            for m in range(1,cutoff):\n",
    "                R[m,n,j,k] = mu[0]/sqrt[m]*R[m-1,n,j,k] - Sigma[0,0]/sqrt[m]*sqrt[m-1]*R[m-2,n,j,k] - Sigma[0,1]*sqrt[n]/sqrt[m]*R[m-1,n-1,j,k] - Sigma[0,2]/sqrt[m]*R[m-1,n,j+1,k] - Sigma[0,3]/sqrt[m]*R[m-1,n,j,k+1]\n"
   ]
  },
  {
   "cell_type": "code",
   "execution_count": 9,
   "metadata": {},
   "outputs": [
    {
     "data": {
      "text/plain": [
       "array([[[[ 0.42332889+0.09612759j,  0.42332889+0.09612759j],\n",
       "         [ 0.42332889+0.09612759j,  0.42332889+0.09612759j]],\n",
       "\n",
       "        [[ 0.52606276+0.13258931j,  0.12164122+0.04075511j],\n",
       "         [ 0.40442154+0.0918342j ,  0.        +0.j        ]]],\n",
       "\n",
       "\n",
       "       [[[ 0.27710825+0.07605785j,  0.40442154+0.0918342j ],\n",
       "         [-0.12731328-0.01577634j,  0.        +0.j        ]],\n",
       "\n",
       "        [[ 0.34938841+0.07933753j,  0.        +0.j        ],\n",
       "         [ 0.        +0.j        ,  0.        +0.j        ]]]])"
      ]
     },
     "execution_count": 9,
     "metadata": {},
     "output_type": "execute_result"
    }
   ],
   "source": [
    "R[:,:,:cutoff,:cutoff]"
   ]
  },
  {
   "cell_type": "code",
   "execution_count": 10,
   "metadata": {},
   "outputs": [
    {
     "data": {
      "text/plain": [
       "array([[0.42332889+0.09612759j, 0.52606276+0.13258931j],\n",
       "       [0.27710825+0.07605785j, 0.34938841+0.07933753j]])"
      ]
     },
     "execution_count": 10,
     "metadata": {},
     "output_type": "execute_result"
    }
   ],
   "source": [
    "R[:,:,0,0]"
   ]
  },
  {
   "cell_type": "code",
   "execution_count": 11,
   "metadata": {},
   "outputs": [],
   "source": [
    "G = G_matrix(gamma, phi, theta1, psi1, zeta, theta, psi,cutoff)"
   ]
  },
  {
   "cell_type": "code",
   "execution_count": 13,
   "metadata": {},
   "outputs": [
    {
     "data": {
      "text/plain": [
       "array([[0.42332889+0.09612759j, 0.45661643+0.42013792j],\n",
       "       [0.3422178 +0.42426355j, 0.23350708+0.18340146j]])"
      ]
     },
     "execution_count": 13,
     "metadata": {},
     "output_type": "execute_result"
    }
   ],
   "source": [
    "np.einsum(\"cd,abcd->ab\",old_state,G)"
   ]
  },
  {
   "cell_type": "code",
   "execution_count": 14,
   "metadata": {},
   "outputs": [
    {
     "data": {
      "text/plain": [
       "(0.42332889241713423+0.0961275926492424j)"
      ]
     },
     "execution_count": 14,
     "metadata": {},
     "output_type": "execute_result"
    }
   ],
   "source": [
    "np.sum(G[0,0,:,:]*old_state)"
   ]
  },
  {
   "cell_type": "code",
   "execution_count": 15,
   "metadata": {},
   "outputs": [
    {
     "data": {
      "text/plain": [
       "(0.45661643497875326+0.4201379193090098j)"
      ]
     },
     "execution_count": 15,
     "metadata": {},
     "output_type": "execute_result"
    }
   ],
   "source": [
    "np.sum(G[0,1,:,:]*old_state)"
   ]
  },
  {
   "cell_type": "code",
   "execution_count": 16,
   "metadata": {},
   "outputs": [
    {
     "data": {
      "text/plain": [
       "(0.3422178032264355+0.42426354964630786j)"
      ]
     },
     "execution_count": 16,
     "metadata": {},
     "output_type": "execute_result"
    }
   ],
   "source": [
    "np.sum(G[1,0,:,:]*old_state)"
   ]
  },
  {
   "cell_type": "code",
   "execution_count": null,
   "metadata": {},
   "outputs": [],
   "source": []
  }
 ],
 "metadata": {
  "kernelspec": {
   "display_name": "thewalrusker",
   "language": "python",
   "name": "thewalrusker"
  },
  "language_info": {
   "codemirror_mode": {
    "name": "ipython",
    "version": 3
   },
   "file_extension": ".py",
   "mimetype": "text/x-python",
   "name": "python",
   "nbconvert_exporter": "python",
   "pygments_lexer": "ipython3",
   "version": "3.6.9"
  }
 },
 "nbformat": 4,
 "nbformat_minor": 2
}
