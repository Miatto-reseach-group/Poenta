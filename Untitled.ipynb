{
 "cells": [
  {
   "cell_type": "code",
   "execution_count": 1,
   "metadata": {},
   "outputs": [],
   "source": [
    "# import numpy as np\n",
    "# import tensorflow as tf\n",
    "# from poenta.circuit import Circuit\n",
    "\n",
    "# state_in = np.zeros((10,10), dtype=np.complex128)\n",
    "# state_in[0,0] = 1\n",
    "# target_out = np.zeros((10,10), dtype=np.complex128)\n",
    "# target_out[5,0] = 1/np.sqrt(2)\n",
    "# target_out[0,5] = 1/np.sqrt(2)\n",
    "\n",
    "# def loss(target, output):\n",
    "#     return 1 - tf.abs(tf.reduce_sum(output * tf.math.conj(target))) ** 2\n",
    "\n",
    "\n",
    "# device = Circuit(num_layers=20, num_modes=2, num_seed =663, dtype=tf.complex128)\n",
    "# tuple_in_out = (state_in,target_out),\n",
    "# device.set_input_output_pairs(*tuple_in_out)\n",
    "# device.optimize(loss, steps=1000)"
   ]
  },
  {
   "cell_type": "code",
   "execution_count": null,
   "metadata": {},
   "outputs": [],
   "source": []
  },
  {
   "cell_type": "code",
   "execution_count": 2,
   "metadata": {},
   "outputs": [
    {
     "data": {
      "application/vnd.jupyter.widget-view+json": {
       "model_id": "60369f2caf43466b81bfe6c703e75dee",
       "version_major": 2,
       "version_minor": 0
      },
      "text/plain": [
       "Output()"
      ]
     },
     "metadata": {},
     "output_type": "display_data"
    },
    {
     "data": {
      "text/plain": [
       "<poenta.keras.LossHistoryCallback at 0x7fc25f444d68>"
      ]
     },
     "execution_count": 2,
     "metadata": {},
     "output_type": "execute_result"
    },
    {
     "data": {
      "image/png": "[encoded data removed]",
      "text/plain": [
       "<Figure size 432x288 with 1 Axes>"
      ]
     },
     "metadata": {
      "needs_background": "light"
     },
     "output_type": "display_data"
    }
   ],
   "source": [
    "import numpy as np\n",
    "import tensorflow as tf\n",
    "from poenta.circuit import Circuit\n",
    "\n",
    "state_in = np.zeros(10, dtype=np.complex128)\n",
    "state_in[0] = 1\n",
    "target_out = np.zeros(10, dtype=np.complex128)\n",
    "target_out[1] = 1\n",
    "\n",
    "def loss(target, output):\n",
    "    return 1 - tf.abs(tf.reduce_sum(output * tf.math.conj(target))) ** 2\n",
    "\n",
    "\n",
    "device = Circuit(num_layers=10, num_modes=1, num_seed =665, dtype=tf.complex128)\n",
    "tuple_in_out = (state_in,target_out),\n",
    "device.set_input_output_pairs(*tuple_in_out)\n",
    "device.optimize(loss, steps=1000)"
   ]
  },
  {
   "cell_type": "code",
   "execution_count": 3,
   "metadata": {},
   "outputs": [],
   "source": [
    "import pickle\n",
    "losses = device._historycallback.losses\n",
    "filename = 'Real,scheduler,Adam'\n",
    "outfile = open(filename,'wb')\n",
    "pickle.dump(losses,outfile)\n",
    "outfile.close()"
   ]
  },
  {
   "cell_type": "code",
   "execution_count": null,
   "metadata": {},
   "outputs": [],
   "source": []
  }
 ],
 "metadata": {
  "kernelspec": {
   "display_name": "thewalrusker",
   "language": "python",
   "name": "thewalrusker"
  },
  "language_info": {
   "codemirror_mode": {
    "name": "ipython",
    "version": 3
   },
   "file_extension": ".py",
   "mimetype": "text/x-python",
   "name": "python",
   "nbconvert_exporter": "python",
   "pygments_lexer": "ipython3",
   "version": "3.6.9"
  }
 },
 "nbformat": 4,
 "nbformat_minor": 2
}
