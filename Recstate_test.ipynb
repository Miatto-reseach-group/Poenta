{
 "cells": [
  {
   "cell_type": "code",
   "execution_count": 1,
   "metadata": {},
   "outputs": [],
   "source": [
    "import numpy as np\n",
    "from recstate import G_matrix"
   ]
  },
  {
   "cell_type": "code",
   "execution_count": 12,
   "metadata": {},
   "outputs": [],
   "source": [
    "gamma = 4+1j\n",
    "phi = 0.3\n",
    "zeta = 0.2+2j\n",
    "cutoff = 5"
   ]
  },
  {
   "cell_type": "code",
   "execution_count": 13,
   "metadata": {},
   "outputs": [
    {
     "data": {
      "text/plain": [
       "array([[-3.85211928e-05-1.06939857e-04j,  3.53656445e-05+1.18200402e-04j,\n",
       "        -9.73169272e-05-7.31882292e-05j,  1.53787533e-04+3.06952108e-05j,\n",
       "        -1.51354890e-04+5.35945465e-05j],\n",
       "       [ 4.03135550e-04-5.07093585e-04j, -4.68554570e-04+4.95629782e-04j,\n",
       "         6.29478204e-05-6.45147774e-04j,  2.79277405e-04+7.92613815e-04j,\n",
       "        -6.40636738e-04-5.33972641e-04j],\n",
       "       [ 2.51581427e-03+2.96206512e-04j, -2.50977151e-03-6.07207697e-04j,\n",
       "         2.11318428e-03-1.02810319e-03j, -1.97644053e-03+2.36153769e-03j,\n",
       "         4.68556714e-04-2.90662807e-03j],\n",
       "       [ 3.32334497e-03+7.08474737e-03j, -2.12292426e-03-7.40876218e-03j,\n",
       "         5.63355453e-03+3.56629205e-03j, -8.76400402e-03-1.43662266e-03j,\n",
       "         7.54983378e-03-2.96560317e-03j],\n",
       "       [-1.09732047e-02+1.69418389e-02j,  1.34732924e-02-1.36257633e-02j,\n",
       "        -8.55281339e-05+1.56032200e-02j, -7.71675888e-03-1.98468440e-02j,\n",
       "         1.44612926e-02+1.13103944e-02j]])"
      ]
     },
     "execution_count": 13,
     "metadata": {},
     "output_type": "execute_result"
    }
   ],
   "source": [
    "G_matrix(gamma, phi, zeta, cutoff)"
   ]
  },
  {
   "cell_type": "code",
   "execution_count": 17,
   "metadata": {},
   "outputs": [],
   "source": [
    "from thewalrus.fock_gradients import Dgate,Sgate,Rgate,Kgate,BSgate\n"
   ]
  },
  {
   "cell_type": "code",
   "execution_count": 18,
   "metadata": {},
   "outputs": [],
   "source": [
    "gate_d = Dgate(np.abs(gamma), np.angle(gamma),cutoff)[0]\n",
    "gate_r = Rgate(phi,cutoff)[0]\n",
    "gate_s = Sgate(np.abs(zeta), np.angle(zeta),cutoff)[0]"
   ]
  },
  {
   "cell_type": "code",
   "execution_count": 19,
   "metadata": {},
   "outputs": [
    {
     "data": {
      "text/plain": [
       "array([[-0.00339593-0.00092885j, -0.00017387+0.000921j  ,\n",
       "        -0.00068887+0.00154356j,  0.00100859+0.00030374j,\n",
       "         0.00068846+0.0005063j ],\n",
       "       [-0.00947412-0.00581529j, -0.00138372+0.00287444j,\n",
       "        -0.00349021+0.00404587j,  0.00304701+0.00189097j,\n",
       "         0.00159359+0.00219964j],\n",
       "       [-0.01609893-0.01815131j, -0.00496075+0.00571536j,\n",
       "        -0.00994215+0.00614017j,  0.00578922+0.00623765j,\n",
       "         0.00176483+0.00572662j],\n",
       "       [-0.0169374 -0.03852134j, -0.01202371+0.00794876j,\n",
       "        -0.01981974+0.00458568j,  0.00741616+0.01442102j,\n",
       "        -0.00058319+0.01057056j],\n",
       "       [-0.00472501-0.06102289j, -0.02223252+0.00698317j,\n",
       "        -0.02955996-0.00384379j,  0.00504655+0.02574763j,\n",
       "        -0.00687588+0.01435519j]])"
      ]
     },
     "execution_count": 19,
     "metadata": {},
     "output_type": "execute_result"
    }
   ],
   "source": [
    "gate_d@gate_r@gate_s"
   ]
  },
  {
   "cell_type": "code",
   "execution_count": null,
   "metadata": {},
   "outputs": [],
   "source": []
  }
 ],
 "metadata": {
  "kernelspec": {
   "display_name": "thewalrusker",
   "language": "python",
   "name": "thewalrusker"
  },
  "language_info": {
   "codemirror_mode": {
    "name": "ipython",
    "version": 3
   },
   "file_extension": ".py",
   "mimetype": "text/x-python",
   "name": "python",
   "nbconvert_exporter": "python",
   "pygments_lexer": "ipython3",
   "version": "3.6.9"
  }
 },
 "nbformat": 4,
 "nbformat_minor": 2
}
