{
 "cells": [
  {
   "cell_type": "code",
   "execution_count": 6,
   "metadata": {},
   "outputs": [
    {
     "data": {
      "application/vnd.jupyter.widget-view+json": {
       "model_id": "ca0b0d8b487b4c03a98932c6a94181b4",
       "version_major": 2,
       "version_minor": 0
      },
      "text/plain": [
       "Output()"
      ]
     },
     "metadata": {},
     "output_type": "display_data"
    },
    {
     "name": "stdout",
     "output_type": "stream",
     "text": [
      "loss is: 0.0003447234630584717\n",
      "54.053959131240845\n"
     ]
    },
    {
     "data": {
      "application/vnd.jupyter.widget-view+json": {
       "model_id": "208a6f1ba1f44b4aba42ea273d9f2337",
       "version_major": 2,
       "version_minor": 0
      },
      "text/plain": [
       "Output()"
      ]
     },
     "metadata": {},
     "output_type": "display_data"
    },
    {
     "name": "stdout",
     "output_type": "stream",
     "text": [
      "loss is: 0.0026672445237636566\n",
      "64.19994306564331\n"
     ]
    },
    {
     "data": {
      "application/vnd.jupyter.widget-view+json": {
       "model_id": "7302fb3de4364d5484fa3b9f94128425",
       "version_major": 2,
       "version_minor": 0
      },
      "text/plain": [
       "Output()"
      ]
     },
     "metadata": {},
     "output_type": "display_data"
    },
    {
     "name": "stdout",
     "output_type": "stream",
     "text": [
      "loss is: 0.002790197730064392\n",
      "61.22114396095276\n"
     ]
    },
    {
     "data": {
      "application/vnd.jupyter.widget-view+json": {
       "model_id": "91de1bef645e4d86a54bb13b00ec96e0",
       "version_major": 2,
       "version_minor": 0
      },
      "text/plain": [
       "Output()"
      ]
     },
     "metadata": {},
     "output_type": "display_data"
    },
    {
     "name": "stdout",
     "output_type": "stream",
     "text": [
      "Graciously interrupting the training...\n",
      "loss is: 0.4522392749786377\n",
      "6.353630065917969\n"
     ]
    },
    {
     "data": {
      "image/png": "[encoded data removed]",
      "text/plain": [
       "<Figure size 432x288 with 1 Axes>"
      ]
     },
     "metadata": {
      "needs_background": "light"
     },
     "output_type": "display_data"
    }
   ],
   "source": [
    "import numpy as np\n",
    "import tensorflow as tf\n",
    "from poenta.circuit import Circuit\n",
    "import time\n",
    "\n",
    "state_in = np.zeros(100, dtype=np.complex128)\n",
    "state_in[0] = 1\n",
    "target_out = np.zeros(100, dtype=np.complex128)\n",
    "target_out[1] = 1\n",
    "\n",
    "def loss(target, output):\n",
    "    return  1 - tf.abs(tf.reduce_sum(output * tf.math.conj(target)))**2\n",
    "#     return  1 - tf.abs(tf.reduce_sum(output * tf.math.conj(target_out)))\n",
    "\n",
    "# for num_seed in [660,661,662,663,664,665]:\n",
    "for num_seed in [11,23,36,445]:\n",
    "    device = Circuit(num_layers=8, num_modes=1, num_seed = num_seed, dtype=tf.complex128)\n",
    "    tuple_in_out = (state_in,target_out),\n",
    "    device.set_input_output_pairs(*tuple_in_out)\n",
    "    start = time.time()\n",
    "    device.optimize(loss, steps=1500, scheduler=False)\n",
    "    end = time.time()\n",
    "    print(end - start)"
   ]
  },
  {
   "cell_type": "code",
   "execution_count": 2,
   "metadata": {},
   "outputs": [],
   "source": [
    "# import matplotlib.pyplot as plt\n",
    "# x = np.arange(100)\n",
    "# final_state = device.show_final_state(state_in)\n",
    "# plt.bar(x,tf.abs(final_state))"
   ]
  },
  {
   "cell_type": "code",
   "execution_count": 7,
   "metadata": {},
   "outputs": [
    {
     "data": {
      "application/vnd.jupyter.widget-view+json": {
       "model_id": "b2c0579bdf0548ba9495ed43d3c8db75",
       "version_major": 2,
       "version_minor": 0
      },
      "text/plain": [
       "Output()"
      ]
     },
     "metadata": {},
     "output_type": "display_data"
    },
    {
     "name": "stdout",
     "output_type": "stream",
     "text": [
      "loss is: 0.0031249597668647766\n",
      "770.9297680854797\n"
     ]
    },
    {
     "data": {
      "image/png": "[encoded data removed]",
      "text/plain": [
       "<Figure size 432x288 with 1 Axes>"
      ]
     },
     "metadata": {
      "needs_background": "light"
     },
     "output_type": "display_data"
    }
   ],
   "source": [
    "import numpy as np\n",
    "import tensorflow as tf\n",
    "from poenta.circuit import Circuit\n",
    "\n",
    "state_in = np.zeros((10,10), dtype=np.complex128)\n",
    "state_in[0,0] = 1\n",
    "target_out = np.zeros((10,10), dtype=np.complex128)\n",
    "target_out[5,0] = 1/np.sqrt(2)\n",
    "target_out[0,5] = 1/np.sqrt(2)\n",
    "\n",
    "def loss(target, output):\n",
    "    return 1 - tf.abs(tf.reduce_sum(output * tf.math.conj(target)))\n",
    "\n",
    "device = Circuit(num_layers=20, num_modes=2, num_seed = 30, dtype=tf.complex128)\n",
    "tuple_in_out = (state_in,target_out),\n",
    "device.set_input_output_pairs(*tuple_in_out)\n",
    "start = time.time()\n",
    "device.optimize(loss, steps=5000)\n",
    "end = time.time()\n",
    "print(end - start)"
   ]
  },
  {
   "cell_type": "code",
   "execution_count": 8,
   "metadata": {},
   "outputs": [
    {
     "name": "stdout",
     "output_type": "stream",
     "text": [
      "state_in.shape (10, 10)\n",
      "self._inout_pairs[0].shape[1] 10\n"
     ]
    },
    {
     "data": {
      "text/plain": [
       "array([[ 4.34417489e-03-2.97821168e-03j,  4.45670833e-03+1.75261930e-03j,\n",
       "        -9.43449848e-03+1.42438977e-03j,  7.85176503e-03-1.32122622e-03j,\n",
       "         2.77666084e-03-7.55090338e-03j, -4.24423425e-01-5.63466700e-01j,\n",
       "         2.86302591e-02-7.99605362e-03j,  3.19242422e-03+1.62990241e-03j,\n",
       "        -7.33312940e-04-1.35035898e-03j,  4.36200342e-03+2.63833025e-03j],\n",
       "       [ 6.60335537e-03-1.03084973e-03j, -1.57637920e-02+2.23680181e-03j,\n",
       "         6.91198459e-03+7.22886788e-03j,  1.00529128e-02+3.16345831e-03j,\n",
       "        -6.33065096e-03+2.79157552e-03j, -6.14658194e-03-2.21544514e-03j,\n",
       "        -5.81528486e-06+8.21062149e-03j, -4.94196887e-03+1.07917058e-02j,\n",
       "        -1.19890933e-03-2.02587002e-04j, -1.16212971e-03-1.31558790e-03j],\n",
       "       [-4.60021393e-03-1.19243283e-02j, -2.58393718e-03+1.34410404e-02j,\n",
       "        -4.63598686e-03+9.49692818e-03j, -5.38714257e-03-5.55217465e-03j,\n",
       "         2.41763951e-03-1.20360206e-03j, -3.30866706e-03+8.65364379e-03j,\n",
       "        -1.93862518e-03-2.07797143e-03j, -1.41703877e-02+4.15247156e-03j,\n",
       "        -2.44741982e-03+1.65319241e-03j, -2.32641411e-03-2.03065131e-04j],\n",
       "       [ 4.36999963e-03+3.93052685e-04j, -7.74183353e-05+2.46483526e-03j,\n",
       "         8.69849225e-03-1.37134925e-03j, -6.50195895e-04+3.19024608e-03j,\n",
       "         4.30185330e-03+6.38667205e-04j,  1.14841779e-03-2.14541343e-03j,\n",
       "         4.06433018e-03-1.20837042e-03j, -2.71030438e-04-2.46804016e-03j,\n",
       "         4.06276521e-03-1.34990868e-03j, -3.06364163e-04+4.93355685e-04j],\n",
       "       [-1.35737150e-02-5.77241496e-03j,  3.42273477e-03+1.01322559e-02j,\n",
       "         1.04139985e-03+2.45593188e-03j,  7.51297267e-04+3.43510099e-03j,\n",
       "         5.32640377e-03-6.58712786e-04j, -7.77360401e-03-3.31388714e-04j,\n",
       "         3.93342759e-04-2.14268512e-04j, -5.08297523e-04+1.57890900e-03j,\n",
       "         5.45221562e-04+8.30022521e-05j,  1.31597301e-03+9.19268184e-04j],\n",
       "       [-4.14824358e-01-5.67779067e-01j,  2.81864178e-03-6.34102392e-03j,\n",
       "         1.20290658e-03-7.82408570e-03j, -1.22424273e-03-1.48810440e-03j,\n",
       "         2.78822254e-03+5.39276954e-03j,  1.65017254e-04-1.52456672e-03j,\n",
       "         3.52839348e-03+3.09253447e-03j,  1.70190998e-04+2.36379173e-04j,\n",
       "         4.63389698e-04+4.09462485e-04j,  8.36373832e-05-1.49083262e-04j],\n",
       "       [ 4.07093545e-03+2.87873593e-02j,  3.51894086e-04-1.73501484e-03j,\n",
       "         5.85580237e-03+4.68303558e-04j,  3.00042522e-03+6.70791384e-03j,\n",
       "        -3.76759083e-04-6.76465705e-04j, -3.34107283e-03-5.03449805e-04j,\n",
       "        -1.09892024e-03+4.03771840e-04j, -7.75062120e-04+9.57342463e-04j,\n",
       "         1.32125308e-04+8.30017827e-05j,  1.42158176e-04-1.40619947e-04j],\n",
       "       [ 5.95712363e-03+1.61302891e-03j, -2.78138935e-03+1.73082068e-03j,\n",
       "        -2.43135246e-03+2.47179562e-03j,  2.15077509e-03-6.59940869e-04j,\n",
       "        -4.84352565e-03+2.33124508e-03j, -2.90466262e-04-2.79055683e-04j,\n",
       "         5.01497990e-04+9.60192625e-04j,  5.69016710e-05+2.54556105e-04j,\n",
       "         1.04376590e-05+5.16238652e-05j,  1.45942102e-05+4.68074398e-06j],\n",
       "       [-1.93274972e-03+2.53196053e-04j, -4.48232062e-05-1.33630575e-03j,\n",
       "        -2.00884966e-04+1.74879347e-03j, -1.13615979e-03-7.90358241e-04j,\n",
       "         5.45506007e-04-7.82662463e-04j, -5.96546684e-04-6.93215855e-04j,\n",
       "        -3.14167284e-04+8.34447410e-05j,  1.29625913e-04+1.73933071e-04j,\n",
       "         2.45279689e-05+7.61068159e-05j,  3.90588217e-05+1.53899818e-05j],\n",
       "       [ 1.05592822e-03-2.89999626e-03j, -4.41952449e-04+8.14208644e-04j,\n",
       "         8.99031832e-04-8.35196093e-04j,  5.10917578e-04+4.09845091e-04j,\n",
       "        -1.86030067e-03-9.60461455e-05j, -1.56583765e-04-9.35789176e-05j,\n",
       "        -9.47491860e-05+1.36322972e-04j, -2.90559736e-05+2.83812269e-05j,\n",
       "        -1.62843906e-05+3.68777539e-05j,  3.04345109e-06-2.89282253e-06j]])"
      ]
     },
     "execution_count": 8,
     "metadata": {},
     "output_type": "execute_result"
    }
   ],
   "source": [
    "device.show_final_state(state_in)"
   ]
  },
  {
   "cell_type": "code",
   "execution_count": null,
   "metadata": {},
   "outputs": [],
   "source": []
  },
  {
   "cell_type": "code",
   "execution_count": null,
   "metadata": {},
   "outputs": [],
   "source": []
  },
  {
   "cell_type": "code",
   "execution_count": null,
   "metadata": {},
   "outputs": [],
   "source": []
  },
  {
   "cell_type": "code",
   "execution_count": 9,
   "metadata": {},
   "outputs": [],
   "source": [
    "from scipy.special import factorial as fac\n",
    "def hex_GKP(mu, d, delta, cutoff, nmax=7):\n",
    "    r\"\"\"Hexagonal GKP code state.\n",
    "    The Hex GKP state is defined by\n",
    "    .. math::\n",
    "        |mu> = \\sum_{n_1,n_2=-\\infty}^\\infty e^{-i(q+\\sqrt{3}p)/2}\n",
    "            \\sqrt{4\\pi/\\sqrt{3}d}(dn_1+\\mu) e^{iq\\sqrt{4\\pi/\\sqrt{3}d}n_2}|0>\n",
    "    where d is the dimension of a code space, \\mu=0,1,...,d-1, |0> is the\n",
    "    vacuum state, and the states are modulated by a Gaussian envelope in the\n",
    "    case of finite energy:\n",
    "    ..math:: e^{-\\Delta ^2 n}|\\mu>\n",
    "    Args:\n",
    "        d (int): the dimension of the code space.\n",
    "        mu (int): mu=0,1,...,d-1.\n",
    "        delta (float): width of the modulating Gaussian envelope.\n",
    "        cutoff (int): the Fock basis truncation of the returned state vector.\n",
    "        nmax (int): the Hex GKP state |mu> is calculated by performing the\n",
    "            sum using n1,n1=-nmax,...,nmax.\n",
    "    Returns:\n",
    "        array: a size [cutoff] complex array state vector.\n",
    "    \"\"\"\n",
    "    n1 = np.arange(-nmax, nmax+1)[:, None]\n",
    "    n2 = np.arange(-nmax, nmax+1)[None, :]\n",
    "\n",
    "    n1sq = n1**2\n",
    "    n2sq = n2**2\n",
    "\n",
    "    sqrt3 = np.sqrt(3)\n",
    "\n",
    "    arg1 = -1j*np.pi*n2*(d*n1+mu)/d\n",
    "    arg2 = -np.pi*(d**2*n1sq+n2sq-d*n1*(n2-2*mu)-n2*mu+mu**2)/(sqrt3*d)\n",
    "    arg2 *= 1-np.exp(-2*delta**2)\n",
    "\n",
    "    amplitude = (np.exp(arg1)*np.exp(arg2)).flatten()[:, None]\n",
    "\n",
    "    alpha = np.sqrt(np.pi/(2*sqrt3*d)) * (sqrt3*(d*n1+mu) - 1j*(d*n1-2*n2+mu))\n",
    "    alpha *= np.exp(-delta**2)\n",
    "\n",
    "    alpha = alpha.flatten()[:, None]\n",
    "    n = np.arange(cutoff)[None, :]\n",
    "    coherent = np.exp(-0.5*np.abs(alpha)**2)*alpha**n/np.sqrt(fac(n))\n",
    "\n",
    "    hex_state = np.sum(amplitude*coherent, axis=0)\n",
    "    return hex_state/np.linalg.norm(hex_state)"
   ]
  },
  {
   "cell_type": "code",
   "execution_count": null,
   "metadata": {},
   "outputs": [
    {
     "data": {
      "application/vnd.jupyter.widget-view+json": {
       "model_id": "85a1ffea9c6549e9b1b41bcd71342ec0",
       "version_major": 2,
       "version_minor": 0
      },
      "text/plain": [
       "Output()"
      ]
     },
     "metadata": {},
     "output_type": "display_data"
    }
   ],
   "source": [
    "import numpy as np\n",
    "import tensorflow as tf\n",
    "from poenta.circuit import Circuit\n",
    "import time\n",
    "\n",
    "state_in = np.zeros(100, dtype=np.complex128)\n",
    "state_in[0] = 1\n",
    "target_out = hex_GKP(1, 2, 0.3, 100, nmax=7)\n",
    "\n",
    "\n",
    "def loss(target, output):\n",
    "    return 1 - tf.abs(tf.reduce_sum(output * tf.math.conj(target))) ** 2\n",
    "\n",
    "device = Circuit(num_layers=25, num_modes=1, num_seed = 52, dtype=tf.complex128)\n",
    "tuple_in_out = (state_in,target_out),\n",
    "device.set_input_output_pairs(*tuple_in_out)\n",
    "start = time.time()\n",
    "device.optimize(loss, steps=10000)\n",
    "end = time.time()\n",
    "print(end - start)"
   ]
  },
  {
   "cell_type": "code",
   "execution_count": 14,
   "metadata": {},
   "outputs": [
    {
     "name": "stdout",
     "output_type": "stream",
     "text": [
      "state_in.shape (50,)\n",
      "self._inout_pairs[0].shape[1] 50\n"
     ]
    },
    {
     "name": "stderr",
     "output_type": "stream",
     "text": [
      "/Users/mac/anaconda3/envs/thewalrusenv/lib/python3.6/site-packages/numpy/core/_asarray.py:85: ComplexWarning: Casting complex values to real discards the imaginary part\n",
      "  return array(a, dtype, copy=False, order=order)\n"
     ]
    },
    {
     "data": {
      "text/plain": [
       "[<matplotlib.lines.Line2D at 0x7f80aaa84c88>]"
      ]
     },
     "execution_count": 14,
     "metadata": {},
     "output_type": "execute_result"
    },
    {
     "data": {
      "image/png": "[encoded data removed]",
      "text/plain": [
       "<Figure size 432x288 with 1 Axes>"
      ]
     },
     "metadata": {
      "needs_background": "light"
     },
     "output_type": "display_data"
    }
   ],
   "source": [
    "import matplotlib.pyplot as plt\n",
    "plt.plot(hex_GKP(1, 2, 0.3, 50, nmax=7))\n",
    "plt.plot(device.show_final_state(state_in))"
   ]
  },
  {
   "cell_type": "code",
   "execution_count": null,
   "metadata": {},
   "outputs": [],
   "source": []
  }
 ],
 "metadata": {
  "kernelspec": {
   "display_name": "thewalrusker",
   "language": "python",
   "name": "thewalrusker"
  },
  "language_info": {
   "codemirror_mode": {
    "name": "ipython",
    "version": 3
   },
   "file_extension": ".py",
   "mimetype": "text/x-python",
   "name": "python",
   "nbconvert_exporter": "python",
   "pygments_lexer": "ipython3",
   "version": "3.6.9"
  }
 },
 "nbformat": 4,
 "nbformat_minor": 2
}
