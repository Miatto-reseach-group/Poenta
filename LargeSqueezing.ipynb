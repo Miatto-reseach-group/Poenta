{
 "cells": [
  {
   "cell_type": "code",
   "execution_count": 108,
   "metadata": {},
   "outputs": [],
   "source": [
    "from poenta.jitted import R_matrix,large_squeezing\n",
    "import numpy as np\n",
    "import matplotlib.pyplot as plt"
   ]
  },
  {
   "cell_type": "code",
   "execution_count": 164,
   "metadata": {},
   "outputs": [],
   "source": [
    "from scipy.special import factorial as fac\n",
    "def coherent_state(alpha,cutoff):\n",
    "    state = np.zeros(cutoff, dtype=np.complex128)\n",
    "    for m in range(cutoff):\n",
    "        state[m] = np.exp(-np.abs(alpha)**2/2)*alpha**m/np.sqrt(fac(m))\n",
    "    return state"
   ]
  },
  {
   "cell_type": "code",
   "execution_count": 176,
   "metadata": {},
   "outputs": [],
   "source": [
    "gamma = 0\n",
    "phi = 0\n",
    "# z = 5+5j\n",
    "cutoff = 100\n",
    "old_state = coherent_state(5,cutoff)"
   ]
  },
  {
   "cell_type": "code",
   "execution_count": 187,
   "metadata": {},
   "outputs": [
    {
     "name": "stdout",
     "output_type": "stream",
     "text": [
      "0.001 3.7735286669663667e-06\n"
     ]
    }
   ],
   "source": [
    "x = np.linspace(0.001,3,num= 5000)\n",
    "errors = []\n",
    "for x1 in x:\n",
    "    z = x1 + 1j*x1\n",
    "    squeezing_real = R_matrix(gamma, phi, z, cutoff, old_state)[:,0]\n",
    "    squeezing_approxi = large_squeezing(gamma, phi, z, cutoff, old_state)[:,0]\n",
    "    norm_approxi = np.linalg.norm(squeezing_approxi)\n",
    "    error = np.sqrt(np.sum(np.abs(squeezing_real - squeezing_approxi)**2))\n",
    "    if norm_approxi > 0.98:\n",
    "        errors.append(error)\n",
    "    else:\n",
    "        print(x1,norm_approxi)\n",
    "        break\n",
    "#     errors.append(error)"
   ]
  },
  {
   "cell_type": "code",
   "execution_count": 188,
   "metadata": {},
   "outputs": [
    {
     "data": {
      "text/plain": [
       "Text(0, 0.5, 'Euclidean Distance')"
      ]
     },
     "execution_count": 188,
     "metadata": {},
     "output_type": "execute_result"
    },
    {
     "data": {
      "image/png": "[encoded data removed]",
      "text/plain": [
       "<Figure size 432x288 with 1 Axes>"
      ]
     },
     "metadata": {
      "needs_background": "light"
     },
     "output_type": "display_data"
    }
   ],
   "source": [
    "plt.plot(errors)\n",
    "plt.xlabel(\"value of r (x+i*x)\")\n",
    "plt.ylabel(\"Euclidean Distance\")\n"
   ]
  },
  {
   "cell_type": "code",
   "execution_count": null,
   "metadata": {},
   "outputs": [],
   "source": []
  }
 ],
 "metadata": {
  "kernelspec": {
   "display_name": "thewalrusker",
   "language": "python",
   "name": "thewalrusker"
  },
  "language_info": {
   "codemirror_mode": {
    "name": "ipython",
    "version": 3
   },
   "file_extension": ".py",
   "mimetype": "text/x-python",
   "name": "python",
   "nbconvert_exporter": "python",
   "pygments_lexer": "ipython3",
   "version": "3.6.9"
  }
 },
 "nbformat": 4,
 "nbformat_minor": 2
}
