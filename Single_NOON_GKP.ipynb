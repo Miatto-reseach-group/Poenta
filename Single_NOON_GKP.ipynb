{
 "cells": [
  {
   "cell_type": "code",
   "execution_count": 14,
   "metadata": {},
   "outputs": [
    {
     "data": {
      "application/vnd.jupyter.widget-view+json": {
       "model_id": "f98415ec026a4e8b87ce6db776db195e",
       "version_major": 2,
       "version_minor": 0
      },
      "text/plain": [
       "Output()"
      ]
     },
     "metadata": {},
     "output_type": "display_data"
    },
    {
     "name": "stdout",
     "output_type": "stream",
     "text": [
      "WARNING:tensorflow:Callbacks method `on_train_batch_end` is slow compared to the batch time (batch time: 0.0099s vs `on_train_batch_end` time: 0.0173s). Check your callbacks.\n",
      "122.46831202507019\n",
      "state_in.shape (8,)\n",
      "self._inout_pairs[0].shape[1] 8\n"
     ]
    },
    {
     "data": {
      "image/png": "[encoded data removed]",
      "text/plain": [
       "<Figure size 432x288 with 1 Axes>"
      ]
     },
     "metadata": {
      "needs_background": "light"
     },
     "output_type": "display_data"
    }
   ],
   "source": [
    "import numpy as np\n",
    "import tensorflow as tf\n",
    "from poenta.circuit import Circuit\n",
    "import time\n",
    "\n",
    "state_in = np.zeros(8, dtype=np.complex128)\n",
    "state_in[0] = 1\n",
    "target_out = np.zeros(8, dtype=np.complex128)\n",
    "target_out[1] = 1\n",
    "\n",
    "def loss(target, output):\n",
    "    return  1 - tf.abs(tf.reduce_sum(output * tf.math.conj(target)))**2\n",
    "\n",
    "device = Circuit(num_layers=8, num_modes=1, num_seed = 665, dtype=tf.complex128)\n",
    "tuple_in_out = (state_in,target_out),\n",
    "device.set_input_output_pairs(*tuple_in_out)\n",
    "start = time.time()\n",
    "device.optimize(loss, steps=5000)\n",
    "end = time.time()\n",
    "print(end - start)\n",
    "final_state = device.show_final_state(state_in)"
   ]
  },
  {
   "cell_type": "code",
   "execution_count": 15,
   "metadata": {},
   "outputs": [
    {
     "name": "stdout",
     "output_type": "stream",
     "text": [
      "state_in.shape (8,)\n",
      "self._inout_pairs[0].shape[1] 8\n"
     ]
    },
    {
     "data": {
      "text/plain": [
       "<BarContainer object of 8 artists>"
      ]
     },
     "execution_count": 15,
     "metadata": {},
     "output_type": "execute_result"
    },
    {
     "data": {
      "image/png": "[encoded data removed]",
      "text/plain": [
       "<Figure size 432x288 with 1 Axes>"
      ]
     },
     "metadata": {
      "needs_background": "light"
     },
     "output_type": "display_data"
    }
   ],
   "source": [
    "import matplotlib.pyplot as plt\n",
    "x = np.arange(8)\n",
    "final_state = device.show_final_state(state_in)\n",
    "plt.bar(x,tf.abs(final_state))"
   ]
  },
  {
   "cell_type": "code",
   "execution_count": 18,
   "metadata": {},
   "outputs": [
    {
     "data": {
      "application/vnd.jupyter.widget-view+json": {
       "model_id": "36fe1e68cc8d49a2b996551238e1d268",
       "version_major": 2,
       "version_minor": 0
      },
      "text/plain": [
       "Output()"
      ]
     },
     "metadata": {},
     "output_type": "display_data"
    },
    {
     "name": "stdout",
     "output_type": "stream",
     "text": [
      "683.4707360267639\n"
     ]
    },
    {
     "data": {
      "image/png": "[encoded data removed]",
      "text/plain": [
       "<Figure size 432x288 with 1 Axes>"
      ]
     },
     "metadata": {
      "needs_background": "light"
     },
     "output_type": "display_data"
    }
   ],
   "source": [
    "import numpy as np\n",
    "import tensorflow as tf\n",
    "from poenta.circuit import Circuit\n",
    "\n",
    "state_in = np.zeros((10,10), dtype=np.complex128)\n",
    "state_in[0,0] = 1\n",
    "target_out = np.zeros((10,10), dtype=np.complex128)\n",
    "target_out[5,0] = 1/np.sqrt(2)\n",
    "target_out[0,5] = 1/np.sqrt(2)\n",
    "\n",
    "def loss(target, output):\n",
    "    return 1 - tf.abs(tf.reduce_sum(output * tf.math.conj(target))) ** 2\n",
    "\n",
    "device = Circuit(num_layers=20, num_modes=2, num_seed = 665, dtype=tf.complex128)\n",
    "tuple_in_out = (state_in,target_out),\n",
    "device.set_input_output_pairs(*tuple_in_out)\n",
    "start = time.time()\n",
    "device.optimize(loss, steps=5000)\n",
    "end = time.time()\n",
    "print(end - start)"
   ]
  },
  {
   "cell_type": "code",
   "execution_count": 9,
   "metadata": {},
   "outputs": [
    {
     "name": "stdout",
     "output_type": "stream",
     "text": [
      "state_in.shape (10, 10)\n",
      "self._inout_pairs[0].shape[1] 10\n"
     ]
    },
    {
     "data": {
      "text/plain": [
       "array([[ 3.18890792e-03-1.60945804e-03j, -4.28605290e-03-1.29496417e-03j,\n",
       "         9.42494335e-03+4.60192895e-03j, -8.61207570e-04-7.77334907e-03j,\n",
       "         2.72321863e-03+3.74701137e-03j, -6.41811904e-01-3.00317897e-01j,\n",
       "         2.76380681e-03+5.70640028e-04j, -5.55553075e-03-1.87567542e-03j,\n",
       "        -2.75416910e-03+5.22469535e-03j, -1.09340281e-02+1.37447320e-02j],\n",
       "       [ 1.04005336e-03-1.92731728e-03j, -1.63042794e-03+1.19329681e-03j,\n",
       "         4.32539836e-03+4.84200189e-04j, -8.85210063e-03-1.32990430e-02j,\n",
       "         9.46855869e-04+1.09645830e-03j,  4.47907092e-03+1.82027476e-03j,\n",
       "         3.07447907e-03-1.28546967e-03j,  6.39455776e-03+3.11154256e-03j,\n",
       "        -2.31451773e-03-4.34465843e-03j, -9.91891597e-04+1.26420978e-03j],\n",
       "       [ 1.68882915e-04+2.03903176e-03j,  4.33110910e-03-1.55865096e-03j,\n",
       "        -3.05996061e-03-1.75403184e-03j,  2.67893339e-03+6.11152586e-03j,\n",
       "        -4.96024731e-03+3.72022081e-03j,  3.08164089e-03-1.87118695e-03j,\n",
       "         3.20495725e-03-1.36397253e-04j, -5.28757716e-03-1.44647816e-03j,\n",
       "         1.51821690e-03-2.46296826e-04j,  1.58620779e-03-2.73781637e-03j],\n",
       "       [-1.25781341e-03-1.90006980e-03j, -4.27756907e-03+3.83518461e-03j,\n",
       "        -4.41405084e-03-6.47597727e-04j,  7.58774844e-03+8.17845303e-03j,\n",
       "         3.92397495e-03+5.62352308e-03j,  4.44195951e-03-1.89056345e-03j,\n",
       "        -2.15897035e-03-4.52883070e-03j, -7.00508888e-06-2.41066470e-03j,\n",
       "        -1.07125954e-03+6.67316174e-03j,  2.17468746e-03-3.21753027e-03j],\n",
       "       [-3.84499406e-03-3.13496641e-03j,  1.80935164e-04-6.60710828e-04j,\n",
       "        -5.25734377e-03+3.07250509e-03j,  9.27719868e-03-9.69078109e-03j,\n",
       "         7.37671439e-04-3.39502937e-03j,  9.66399372e-03-2.03781131e-03j,\n",
       "        -5.87419889e-03-6.61318024e-03j,  6.68580747e-03-1.63832937e-03j,\n",
       "        -6.04523053e-04-4.59007137e-04j, -1.70078419e-03+1.54651101e-03j],\n",
       "       [-6.32492378e-01-2.96012871e-01j,  3.53300052e-03-4.82767123e-03j,\n",
       "        -1.97254944e-03+5.67641026e-03j,  4.29430601e-03+7.28467511e-03j,\n",
       "        -6.26434239e-03-3.63185001e-03j,  5.81629045e-03-6.76248820e-04j,\n",
       "        -1.49687373e-03-2.24304667e-04j,  4.28091129e-03+2.82275299e-03j,\n",
       "        -1.46470188e-03+1.20747137e-04j,  7.09568688e-05+1.46293799e-03j],\n",
       "       [-6.42086465e-03-1.61806226e-03j, -1.48137807e-03+5.95833074e-04j,\n",
       "        -1.47607802e-02-4.78000971e-03j, -1.07850060e-03+1.12950975e-03j,\n",
       "         6.14928814e-04-1.27209253e-03j, -1.23112343e-03+3.68401989e-03j,\n",
       "        -2.07841801e-04-2.26859681e-03j,  2.81611454e-03+2.02798706e-03j,\n",
       "        -6.72151218e-04+1.01303701e-04j,  5.38195792e-05+9.92167579e-04j],\n",
       "       [-2.02310674e-03+9.27143817e-04j, -1.68370903e-03-5.86573385e-03j,\n",
       "        -3.45682760e-05+6.85792296e-03j, -1.86302767e-03-4.03043612e-04j,\n",
       "        -1.41901137e-05-1.25707411e-03j,  2.07185716e-03-3.25759124e-04j,\n",
       "         1.99747977e-03+1.00843707e-03j, -8.60152227e-04+1.22875329e-03j,\n",
       "        -3.00644320e-04+7.83760925e-04j, -2.00738385e-04-3.49545118e-04j],\n",
       "       [-9.78552206e-04-2.86481414e-03j,  3.06996465e-03+1.92329997e-03j,\n",
       "         5.85758934e-03-2.97748909e-03j, -1.38649986e-03-1.09468019e-03j,\n",
       "        -4.88879330e-04+9.04256196e-04j, -1.60395615e-03-1.27747242e-03j,\n",
       "         1.53401894e-03+8.09679974e-06j, -8.04249868e-04+1.09870032e-03j,\n",
       "         5.71632601e-04+3.35788657e-04j, -7.03953938e-04-2.29370204e-04j],\n",
       "       [-7.48970162e-03+5.56846481e-03j,  1.68901303e-03+9.77418143e-04j,\n",
       "        -3.28823158e-03-6.99888467e-04j,  1.90103433e-03-2.45364248e-04j,\n",
       "        -4.28822456e-05+1.30847049e-03j,  1.79583768e-04-1.78459562e-04j,\n",
       "        -4.21889973e-04+5.29254144e-04j, -7.98492465e-05-3.50981258e-04j,\n",
       "        -1.60911079e-04+7.47384125e-06j,  4.18527027e-05+5.63580431e-05j]])"
      ]
     },
     "execution_count": 9,
     "metadata": {},
     "output_type": "execute_result"
    }
   ],
   "source": [
    "device.show_final_state(state_in)"
   ]
  },
  {
   "cell_type": "code",
   "execution_count": null,
   "metadata": {},
   "outputs": [],
   "source": []
  },
  {
   "cell_type": "code",
   "execution_count": null,
   "metadata": {},
   "outputs": [],
   "source": []
  },
  {
   "cell_type": "code",
   "execution_count": null,
   "metadata": {},
   "outputs": [],
   "source": []
  },
  {
   "cell_type": "code",
   "execution_count": null,
   "metadata": {},
   "outputs": [],
   "source": []
  },
  {
   "cell_type": "code",
   "execution_count": 12,
   "metadata": {},
   "outputs": [],
   "source": [
    "from scipy.special import factorial as fac\n",
    "def hex_GKP(mu, d, delta, cutoff, nmax=7):\n",
    "    r\"\"\"Hexagonal GKP code state.\n",
    "    The Hex GKP state is defined by\n",
    "    .. math::\n",
    "        |mu> = \\sum_{n_1,n_2=-\\infty}^\\infty e^{-i(q+\\sqrt{3}p)/2}\n",
    "            \\sqrt{4\\pi/\\sqrt{3}d}(dn_1+\\mu) e^{iq\\sqrt{4\\pi/\\sqrt{3}d}n_2}|0>\n",
    "    where d is the dimension of a code space, \\mu=0,1,...,d-1, |0> is the\n",
    "    vacuum state, and the states are modulated by a Gaussian envelope in the\n",
    "    case of finite energy:\n",
    "    ..math:: e^{-\\Delta ^2 n}|\\mu>\n",
    "    Args:\n",
    "        d (int): the dimension of the code space.\n",
    "        mu (int): mu=0,1,...,d-1.\n",
    "        delta (float): width of the modulating Gaussian envelope.\n",
    "        cutoff (int): the Fock basis truncation of the returned state vector.\n",
    "        nmax (int): the Hex GKP state |mu> is calculated by performing the\n",
    "            sum using n1,n1=-nmax,...,nmax.\n",
    "    Returns:\n",
    "        array: a size [cutoff] complex array state vector.\n",
    "    \"\"\"\n",
    "    n1 = np.arange(-nmax, nmax+1)[:, None]\n",
    "    n2 = np.arange(-nmax, nmax+1)[None, :]\n",
    "\n",
    "    n1sq = n1**2\n",
    "    n2sq = n2**2\n",
    "\n",
    "    sqrt3 = np.sqrt(3)\n",
    "\n",
    "    arg1 = -1j*np.pi*n2*(d*n1+mu)/d\n",
    "    arg2 = -np.pi*(d**2*n1sq+n2sq-d*n1*(n2-2*mu)-n2*mu+mu**2)/(sqrt3*d)\n",
    "    arg2 *= 1-np.exp(-2*delta**2)\n",
    "\n",
    "    amplitude = (np.exp(arg1)*np.exp(arg2)).flatten()[:, None]\n",
    "\n",
    "    alpha = np.sqrt(np.pi/(2*sqrt3*d)) * (sqrt3*(d*n1+mu) - 1j*(d*n1-2*n2+mu))\n",
    "    alpha *= np.exp(-delta**2)\n",
    "\n",
    "    alpha = alpha.flatten()[:, None]\n",
    "    n = np.arange(cutoff)[None, :]\n",
    "    coherent = np.exp(-0.5*np.abs(alpha)**2)*alpha**n/np.sqrt(fac(n))\n",
    "\n",
    "    hex_state = np.sum(amplitude*coherent, axis=0)\n",
    "    return hex_state/np.linalg.norm(hex_state)"
   ]
  },
  {
   "cell_type": "code",
   "execution_count": 19,
   "metadata": {},
   "outputs": [
    {
     "data": {
      "application/vnd.jupyter.widget-view+json": {
       "model_id": "d4aead11c14b4b949e27642d3a45ad09",
       "version_major": 2,
       "version_minor": 0
      },
      "text/plain": [
       "Output()"
      ]
     },
     "metadata": {},
     "output_type": "display_data"
    },
    {
     "name": "stdout",
     "output_type": "stream",
     "text": [
      "408.5121111869812\n"
     ]
    },
    {
     "data": {
      "image/png": "[encoded data removed]",
      "text/plain": [
       "<Figure size 432x288 with 1 Axes>"
      ]
     },
     "metadata": {
      "needs_background": "light"
     },
     "output_type": "display_data"
    }
   ],
   "source": [
    "import numpy as np\n",
    "import tensorflow as tf\n",
    "from poenta.circuit import Circuit\n",
    "\n",
    "state_in = np.zeros(50, dtype=np.complex128)\n",
    "state_in[0] = 1\n",
    "target_out = hex_GKP(1, 10, 0.3, 50, nmax=7)\n",
    "\n",
    "\n",
    "def loss(target, output):\n",
    "    return 1 - tf.abs(tf.reduce_sum(output * tf.math.conj(target))) ** 2\n",
    "\n",
    "device = Circuit(num_layers=25, num_modes=1, num_seed = 665, dtype=tf.complex128)\n",
    "tuple_in_out = (state_in,target_out),\n",
    "device.set_input_output_pairs(*tuple_in_out)\n",
    "start = time.time()\n",
    "device.optimize(loss, steps=10000)\n",
    "end = time.time()\n",
    "print(end - start)"
   ]
  },
  {
   "cell_type": "code",
   "execution_count": null,
   "metadata": {},
   "outputs": [],
   "source": []
  }
 ],
 "metadata": {
  "kernelspec": {
   "display_name": "thewalrusker",
   "language": "python",
   "name": "thewalrusker"
  },
  "language_info": {
   "codemirror_mode": {
    "name": "ipython",
    "version": 3
   },
   "file_extension": ".py",
   "mimetype": "text/x-python",
   "name": "python",
   "nbconvert_exporter": "python",
   "pygments_lexer": "ipython3",
   "version": "3.6.9"
  }
 },
 "nbformat": 4,
 "nbformat_minor": 2
}
