{
 "cells": [
  {
   "cell_type": "code",
   "execution_count": 3,
   "metadata": {},
   "outputs": [],
   "source": [
    "import numpy as np\n",
    "from recstate2mode import UW_,UV_,C_,mu_,Sigma_,G_matrix"
   ]
  },
  {
   "cell_type": "code",
   "execution_count": 124,
   "metadata": {},
   "outputs": [],
   "source": [
    "gamma = np.array([0,0],dtype = np.complex128)\n",
    "phi = np.array([0,0],dtype = np.complex128)\n",
    "zeta = np.array([0,0],dtype = np.complex128)\n",
    "theta = 0\n",
    "psi = 0\n",
    "theta1 = 0.3\n",
    "psi1 = 0\n",
    "cutoff_dim = 4\n",
    "cutoff=4\n",
    "cutoff_plus = 10\n"
   ]
  },
  {
   "cell_type": "code",
   "execution_count": 125,
   "metadata": {},
   "outputs": [],
   "source": [
    "old_state = np.random.rand(cutoff_dim,cutoff_dim) + 1.0j*np.random.rand(cutoff_dim,cutoff_dim)\n",
    "old_state  /= np.linalg.norm(old_state)"
   ]
  },
  {
   "cell_type": "code",
   "execution_count": 126,
   "metadata": {},
   "outputs": [],
   "source": [
    "W = UW_(phi,theta1,psi1)\n",
    "V = UV_(theta,psi)\n",
    "    \n",
    "C = C_(gamma, W, zeta, V)\n",
    "mu = mu_(gamma, W, zeta, V)\n",
    "Sigma = Sigma_(W, zeta, V)\n",
    "\n",
    "cutoff = old_state.shape[0]\n",
    "dtype = old_state.dtype\n",
    "\n",
    "\n",
    "sqrt = np.sqrt(np.arange(cutoff, dtype=dtype))\n",
    "sqrts = np.zeros((cutoff, cutoff), dtype=dtype)\n",
    "for m in range(0,cutoff):\n",
    "    for n in range(0,cutoff):\n",
    "        sqrts[m,n]= np.sqrt(m+1)*np.sqrt(n+1)\n",
    "\n",
    "\n",
    "G_00pq = np.zeros((cutoff, cutoff), dtype=dtype)\n",
    "\n",
    "\n",
    "G_00pq[0,0] = C\n",
    "for q in range(1, cutoff):\n",
    "    G_00pq[0,q] = (mu[3]*G_00pq[0,q-1] - Sigma[3,3]*sqrt[q-1]*G_00pq[0,q-2])/sqrt[q]\n",
    "\n",
    "\n",
    "for p in range(1,cutoff):\n",
    "    for q in range(0,cutoff):\n",
    "        G_00pq[p,q] = (mu[2]*G_00pq[p-1,q] - Sigma[2,2]*sqrt[p-1]*G_00pq[p-2,q] - Sigma[2,3]*sqrt[q]*G_00pq[p-1,q-1])/sqrt[p]"
   ]
  },
  {
   "cell_type": "code",
   "execution_count": 127,
   "metadata": {},
   "outputs": [
    {
     "data": {
      "text/plain": [
       "array([[ 0.        +0.j,  0.        +0.j, -0.95533649+0.j,\n",
       "         0.29552021+0.j],\n",
       "       [ 0.        +0.j,  0.        +0.j, -0.29552021+0.j,\n",
       "        -0.95533649+0.j],\n",
       "       [-0.95533649+0.j, -0.29552021+0.j,  0.        +0.j,\n",
       "         0.        +0.j],\n",
       "       [ 0.29552021+0.j, -0.95533649+0.j,  0.        +0.j,\n",
       "         0.        +0.j]])"
      ]
     },
     "execution_count": 127,
     "metadata": {},
     "output_type": "execute_result"
    }
   ],
   "source": [
    "Sigma"
   ]
  },
  {
   "cell_type": "code",
   "execution_count": 128,
   "metadata": {},
   "outputs": [
    {
     "data": {
      "text/plain": [
       "array([[1.+0.j, 0.-0.j, 0.+0.j, 0.-0.j],\n",
       "       [0.-0.j, 0.+0.j, 0.-0.j, 0.+0.j],\n",
       "       [0.+0.j, 0.-0.j, 0.+0.j, 0.-0.j],\n",
       "       [0.-0.j, 0.+0.j, 0.-0.j, 0.+0.j]])"
      ]
     },
     "execution_count": 128,
     "metadata": {},
     "output_type": "execute_result"
    }
   ],
   "source": [
    "G_00pq"
   ]
  },
  {
   "cell_type": "code",
   "execution_count": 140,
   "metadata": {},
   "outputs": [
    {
     "name": "stdout",
     "output_type": "stream",
     "text": [
      "[[0.20648005+0.17241338j 0.20648005+0.17241338j 0.20648005+0.17241338j\n",
      "  0.20648005+0.17241338j 0.        +0.j        ]\n",
      " [0.20648005+0.17241338j 0.20648005+0.17241338j 0.20648005+0.17241338j\n",
      "  0.20648005+0.17241338j 0.        +0.j        ]\n",
      " [0.20648005+0.17241338j 0.20648005+0.17241338j 0.20648005+0.17241338j\n",
      "  0.20648005+0.17241338j 0.        +0.j        ]\n",
      " [0.20648005+0.17241338j 0.20648005+0.17241338j 0.20648005+0.17241338j\n",
      "  0.20648005+0.17241338j 0.        +0.j        ]\n",
      " [0.        +0.j         0.        +0.j         0.        +0.j\n",
      "  0.        +0.j         0.        +0.j        ]]\n"
     ]
    }
   ],
   "source": [
    "# R_00^jk = G_00pq * a^j b^k|old_state>\n",
    "\n",
    "R = np.zeros((cutoff, cutoff, cutoff+1, cutoff+1), dtype=dtype)\n",
    "\n",
    "for k in range(0,cutoff):\n",
    "    for j in range(0,cutoff): #[:cutoff-j,:cutoff-k] or [j:,k:]\n",
    "        R[0,0,j,k] = np.sum(G_00pq[:cutoff-j,:cutoff-k] *sqrts[:cutoff-j,:cutoff-k] * old_state[:cutoff-j,:cutoff-k] )\n",
    "print(R[0,0,:,:])\n",
    "#R_0n^jk\n",
    "for k in range(0,cutoff):\n",
    "    for j in range(0,cutoff):\n",
    "        for n in range(1,cutoff):\n",
    "            R[0,n,j,k] = mu[1]/sqrt[n]*R[0,n-1,j,k] - Sigma[1,1]/sqrt[n]*sqrt[n-1]*R[0,n-2,j,k] - Sigma[1,2]/sqrt[n]*R[0,n-1,j+1,k] - Sigma[1,3]/sqrt[n]*R[0,n-1,j,k+1]\n",
    "\n",
    "for k in range(0,cutoff):\n",
    "    for j in range(0,cutoff):\n",
    "        for n in range(0,cutoff):\n",
    "            for m in range(1,cutoff):\n",
    "                R[m,n,j,k] = mu[0]/sqrt[m]*R[m-1,n,j,k] - Sigma[0,0]/sqrt[m]*sqrt[m-1]*R[m-2,n,j,k] - Sigma[0,1]*sqrt[n]/sqrt[m]*R[m-1,n-1,j,k] - Sigma[0,2]/sqrt[m]*R[m-1,n,j+1,k] - Sigma[0,3]/sqrt[m]*R[m-1,n,j,k+1]"
   ]
  },
  {
   "cell_type": "code",
   "execution_count": 141,
   "metadata": {},
   "outputs": [
    {
     "data": {
      "text/plain": [
       "array([[0.20648005+0.17241338j, 0.25827695+0.21566443j,\n",
       "        0.        +0.j        , 0.        +0.j        ],\n",
       "       [0.1362389 +0.11376115j, 0.17041534+0.1422989j ,\n",
       "        0.        +0.j        , 0.        +0.j        ],\n",
       "       [0.        +0.j        , 0.        +0.j        ,\n",
       "        0.        +0.j        , 0.        +0.j        ],\n",
       "       [0.        +0.j        , 0.        +0.j        ,\n",
       "        0.        +0.j        , 0.        +0.j        ]])"
      ]
     },
     "execution_count": 141,
     "metadata": {},
     "output_type": "execute_result"
    }
   ],
   "source": [
    "R[:,:,0,0]"
   ]
  },
  {
   "cell_type": "code",
   "execution_count": null,
   "metadata": {},
   "outputs": [],
   "source": []
  },
  {
   "cell_type": "code",
   "execution_count": 137,
   "metadata": {},
   "outputs": [],
   "source": [
    "G = G_matrix(gamma, phi, theta1, psi1, zeta, theta, psi,cutoff)"
   ]
  },
  {
   "cell_type": "code",
   "execution_count": 138,
   "metadata": {},
   "outputs": [
    {
     "data": {
      "text/plain": [
       "array([[ 0.20648005+0.17241338j,  0.02290144+0.13476327j,\n",
       "         0.02839076+0.13264754j, -0.02907291-0.05536363j],\n",
       "       [ 0.23808548+0.0749979j ,  0.03643097+0.06991872j,\n",
       "         0.22917432+0.14962965j,  0.1117578 +0.14818183j],\n",
       "       [ 0.19397404+0.3226951j ,  0.0901728 +0.26007066j,\n",
       "         0.10289695+0.17557748j, -0.01458133-0.10837361j],\n",
       "       [ 0.35248539+0.33517742j,  0.14373708+0.11406228j,\n",
       "         0.01252934+0.17438851j,  0.01664266+0.03589515j]])"
      ]
     },
     "execution_count": 138,
     "metadata": {},
     "output_type": "execute_result"
    }
   ],
   "source": [
    "np.einsum(\"ab,abcd->cd\",old_state,G)"
   ]
  },
  {
   "cell_type": "code",
   "execution_count": null,
   "metadata": {},
   "outputs": [],
   "source": []
  },
  {
   "cell_type": "code",
   "execution_count": null,
   "metadata": {},
   "outputs": [],
   "source": []
  },
  {
   "cell_type": "code",
   "execution_count": null,
   "metadata": {},
   "outputs": [],
   "source": []
  }
 ],
 "metadata": {
  "kernelspec": {
   "display_name": "thewalrusker",
   "language": "python",
   "name": "thewalrusker"
  },
  "language_info": {
   "codemirror_mode": {
    "name": "ipython",
    "version": 3
   },
   "file_extension": ".py",
   "mimetype": "text/x-python",
   "name": "python",
   "nbconvert_exporter": "python",
   "pygments_lexer": "ipython3",
   "version": "3.6.9"
  }
 },
 "nbformat": 4,
 "nbformat_minor": 2
}
